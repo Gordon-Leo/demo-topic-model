{
 "cells": [
  {
   "cell_type": "code",
   "execution_count": 1,
   "metadata": {},
   "outputs": [],
   "source": [
    "import time\n",
    "import pandas as pd"
   ]
  },
  {
   "cell_type": "code",
   "execution_count": 3,
   "metadata": {},
   "outputs": [
    {
     "name": "stdout",
     "output_type": "stream",
     "text": [
      "Wall time: 22 ms\n"
     ]
    }
   ],
   "source": [
    "%%time\n",
    "df = pd.read_csv('20180530_20180601.csv', encoding='gb18030')\n",
    "#如何删除多余的列？\n",
    "df.columns = ['title', 'author', 'comment'] "
   ]
  },
  {
   "cell_type": "code",
   "execution_count": 4,
   "metadata": {},
   "outputs": [
    {
     "name": "stdout",
     "output_type": "stream",
     "text": [
      "Wall time: 1 ms\n"
     ]
    },
    {
     "data": {
      "text/html": [
       "<div>\n",
       "<style scoped>\n",
       "    .dataframe tbody tr th:only-of-type {\n",
       "        vertical-align: middle;\n",
       "    }\n",
       "\n",
       "    .dataframe tbody tr th {\n",
       "        vertical-align: top;\n",
       "    }\n",
       "\n",
       "    .dataframe thead th {\n",
       "        text-align: right;\n",
       "    }\n",
       "</style>\n",
       "<table border=\"1\" class=\"dataframe\">\n",
       "  <thead>\n",
       "    <tr style=\"text-align: right;\">\n",
       "      <th></th>\n",
       "      <th>title</th>\n",
       "      <th>author</th>\n",
       "      <th>comment</th>\n",
       "    </tr>\n",
       "  </thead>\n",
       "  <tbody>\n",
       "    <tr>\n",
       "      <th>0</th>\n",
       "      <td>证券日报头版评论：以强监管促A股市场稳发展</td>\n",
       "      <td>财经评论</td>\n",
       "      <td>来源：新浪24小时 编辑：东方财富网【证券日报头版评论：以强监管促A股市场稳发展】近几年来，...</td>\n",
       "    </tr>\n",
       "    <tr>\n",
       "      <th>1</th>\n",
       "      <td>沪指创20月新低 超200股跌停！有4大利空1大利好</td>\n",
       "      <td>财经评论</td>\n",
       "      <td>来源：东方财富网恰逢5·30十一周年，昨天A股大幅下挫，上证指数收报3041.44点，跌幅为...</td>\n",
       "    </tr>\n",
       "    <tr>\n",
       "      <th>2</th>\n",
       "      <td>二线城市库存急跌</td>\n",
       "      <td>财经评论</td>\n",
       "      <td>来源：证券日报 编辑：东方财富网【二线城市库存急跌 楼市趋热房价上涨承压】随着楼市去库存的进...</td>\n",
       "    </tr>\n",
       "    <tr>\n",
       "      <th>3</th>\n",
       "      <td>沪指3000点一线或有惊天大反击？</td>\n",
       "      <td>财经评论</td>\n",
       "      <td>来源：广州万隆 编辑：东方财富网特朗普的脸，如同南方五月的天说变就变，这位美国总统可谓把全球...</td>\n",
       "    </tr>\n",
       "    <tr>\n",
       "      <th>4</th>\n",
       "      <td>早盘内参：中兴通讯、东方园林等5只停牌股暂不</td>\n",
       "      <td>财经评论</td>\n",
       "      <td>来源：东方财富网每日精选1、本周国常会：落实已明确的取消或放宽汽车、船舶、飞机等制造业领域外...</td>\n",
       "    </tr>\n",
       "  </tbody>\n",
       "</table>\n",
       "</div>"
      ],
      "text/plain": [
       "                        title author  \\\n",
       "0       证券日报头版评论：以强监管促A股市场稳发展   财经评论   \n",
       "1  沪指创20月新低 超200股跌停！有4大利空1大利好   财经评论   \n",
       "2                    二线城市库存急跌   财经评论   \n",
       "3           沪指3000点一线或有惊天大反击？   财经评论   \n",
       "4      早盘内参：中兴通讯、东方园林等5只停牌股暂不   财经评论   \n",
       "\n",
       "                                             comment  \n",
       "0  来源：新浪24小时 编辑：东方财富网【证券日报头版评论：以强监管促A股市场稳发展】近几年来，...  \n",
       "1  来源：东方财富网恰逢5·30十一周年，昨天A股大幅下挫，上证指数收报3041.44点，跌幅为...  \n",
       "2  来源：证券日报 编辑：东方财富网【二线城市库存急跌 楼市趋热房价上涨承压】随着楼市去库存的进...  \n",
       "3  来源：广州万隆 编辑：东方财富网特朗普的脸，如同南方五月的天说变就变，这位美国总统可谓把全球...  \n",
       "4  来源：东方财富网每日精选1、本周国常会：落实已明确的取消或放宽汽车、船舶、飞机等制造业领域外...  "
      ]
     },
     "execution_count": 4,
     "metadata": {},
     "output_type": "execute_result"
    }
   ],
   "source": [
    "%%time\n",
    "df.head()"
   ]
  },
  {
   "cell_type": "code",
   "execution_count": 5,
   "metadata": {},
   "outputs": [
    {
     "data": {
      "text/plain": [
       "(100, 3)"
      ]
     },
     "execution_count": 5,
     "metadata": {},
     "output_type": "execute_result"
    }
   ],
   "source": [
    "df.shape"
   ]
  },
  {
   "cell_type": "code",
   "execution_count": 6,
   "metadata": {},
   "outputs": [],
   "source": [
    "X = df[['comment']]"
   ]
  },
  {
   "cell_type": "code",
   "execution_count": 7,
   "metadata": {},
   "outputs": [
    {
     "data": {
      "text/plain": [
       "(100, 1)"
      ]
     },
     "execution_count": 7,
     "metadata": {},
     "output_type": "execute_result"
    }
   ],
   "source": [
    "X.shape"
   ]
  },
  {
   "cell_type": "code",
   "execution_count": 8,
   "metadata": {},
   "outputs": [
    {
     "data": {
      "text/html": [
       "<div>\n",
       "<style scoped>\n",
       "    .dataframe tbody tr th:only-of-type {\n",
       "        vertical-align: middle;\n",
       "    }\n",
       "\n",
       "    .dataframe tbody tr th {\n",
       "        vertical-align: top;\n",
       "    }\n",
       "\n",
       "    .dataframe thead th {\n",
       "        text-align: right;\n",
       "    }\n",
       "</style>\n",
       "<table border=\"1\" class=\"dataframe\">\n",
       "  <thead>\n",
       "    <tr style=\"text-align: right;\">\n",
       "      <th></th>\n",
       "      <th>comment</th>\n",
       "    </tr>\n",
       "  </thead>\n",
       "  <tbody>\n",
       "    <tr>\n",
       "      <th>0</th>\n",
       "      <td>来源：新浪24小时 编辑：东方财富网【证券日报头版评论：以强监管促A股市场稳发展】近几年来，...</td>\n",
       "    </tr>\n",
       "    <tr>\n",
       "      <th>1</th>\n",
       "      <td>来源：东方财富网恰逢5·30十一周年，昨天A股大幅下挫，上证指数收报3041.44点，跌幅为...</td>\n",
       "    </tr>\n",
       "    <tr>\n",
       "      <th>2</th>\n",
       "      <td>来源：证券日报 编辑：东方财富网【二线城市库存急跌 楼市趋热房价上涨承压】随着楼市去库存的进...</td>\n",
       "    </tr>\n",
       "    <tr>\n",
       "      <th>3</th>\n",
       "      <td>来源：广州万隆 编辑：东方财富网特朗普的脸，如同南方五月的天说变就变，这位美国总统可谓把全球...</td>\n",
       "    </tr>\n",
       "    <tr>\n",
       "      <th>4</th>\n",
       "      <td>来源：东方财富网每日精选1、本周国常会：落实已明确的取消或放宽汽车、船舶、飞机等制造业领域外...</td>\n",
       "    </tr>\n",
       "  </tbody>\n",
       "</table>\n",
       "</div>"
      ],
      "text/plain": [
       "                                             comment\n",
       "0  来源：新浪24小时 编辑：东方财富网【证券日报头版评论：以强监管促A股市场稳发展】近几年来，...\n",
       "1  来源：东方财富网恰逢5·30十一周年，昨天A股大幅下挫，上证指数收报3041.44点，跌幅为...\n",
       "2  来源：证券日报 编辑：东方财富网【二线城市库存急跌 楼市趋热房价上涨承压】随着楼市去库存的进...\n",
       "3  来源：广州万隆 编辑：东方财富网特朗普的脸，如同南方五月的天说变就变，这位美国总统可谓把全球...\n",
       "4  来源：东方财富网每日精选1、本周国常会：落实已明确的取消或放宽汽车、船舶、飞机等制造业领域外..."
      ]
     },
     "execution_count": 8,
     "metadata": {},
     "output_type": "execute_result"
    }
   ],
   "source": [
    "X.head()"
   ]
  },
  {
   "cell_type": "code",
   "execution_count": 9,
   "metadata": {},
   "outputs": [],
   "source": [
    "import jieba"
   ]
  },
  {
   "cell_type": "code",
   "execution_count": 10,
   "metadata": {},
   "outputs": [],
   "source": [
    "def chinese_word_cut(mytext):\n",
    "    return ' '.join(jieba.cut(mytext))"
   ]
  },
  {
   "cell_type": "code",
   "execution_count": 11,
   "metadata": {},
   "outputs": [
    {
     "name": "stderr",
     "output_type": "stream",
     "text": [
      "Building prefix dict from the default dictionary ...\n",
      "Loading model from cache C:\\Users\\wu\\AppData\\Local\\Temp\\jieba.cache\n",
      "Loading model cost 1.036 seconds.\n",
      "Prefix dict has been built succesfully.\n"
     ]
    },
    {
     "name": "stdout",
     "output_type": "stream",
     "text": [
      "Wall time: 2.17 s\n"
     ]
    },
    {
     "name": "stderr",
     "output_type": "stream",
     "text": [
      "D:\\Anaconda3\\lib\\site-packages\\ipykernel_launcher.py:1: SettingWithCopyWarning: \n",
      "A value is trying to be set on a copy of a slice from a DataFrame.\n",
      "Try using .loc[row_indexer,col_indexer] = value instead\n",
      "\n",
      "See the caveats in the documentation: http://pandas.pydata.org/pandas-docs/stable/indexing.html#indexing-view-versus-copy\n",
      "  \"\"\"Entry point for launching an IPython kernel.\n"
     ]
    }
   ],
   "source": [
    "%%time\n",
    "X['cutted_comment'] = X.comment.apply(chinese_word_cut)"
   ]
  },
  {
   "cell_type": "code",
   "execution_count": 12,
   "metadata": {},
   "outputs": [
    {
     "data": {
      "text/plain": [
       "0    来源 ： 新浪 24 小时   编辑 ： 东方 财富网 【 证券日报 头版 评论 ： 以强 ...\n",
       "1    来源 ： 东方 财富网 恰逢 5 · 30 十 一周年 ， 昨天 A股 大幅 下挫 ， 上证...\n",
       "2    来源 ： 证券日报   编辑 ： 东方 财富网 【 二线 城市 库存 急跌   楼市 趋热 ...\n",
       "3    来源 ： 广州 万隆   编辑 ： 东方 财富网 特朗普 的 脸 ， 如同 南方 五月 的 ...\n",
       "4    来源 ： 东方 财富网 每日 精选 1 、 本周 国 常会 ： 落实 已 明确 的 取消 或...\n",
       "Name: cutted_comment, dtype: object"
      ]
     },
     "execution_count": 12,
     "metadata": {},
     "output_type": "execute_result"
    }
   ],
   "source": [
    "X.cutted_comment.head()"
   ]
  },
  {
   "cell_type": "code",
   "execution_count": 13,
   "metadata": {},
   "outputs": [
    {
     "data": {
      "text/plain": [
       "0    来源 ： 新浪 24 小时   编辑 ： 东方 财富网 【 证券日报 头版 评论 ： 以强 ...\n",
       "1    来源 ： 东方 财富网 恰逢 5 · 30 十 一周年 ， 昨天 A股 大幅 下挫 ， 上证...\n",
       "2    来源 ： 证券日报   编辑 ： 东方 财富网 【 二线 城市 库存 急跌   楼市 趋热 ...\n",
       "3    来源 ： 广州 万隆   编辑 ： 东方 财富网 特朗普 的 脸 ， 如同 南方 五月 的 ...\n",
       "4    来源 ： 东方 财富网 每日 精选 1 、 本周 国 常会 ： 落实 已 明确 的 取消 或...\n",
       "Name: cutted_comment, dtype: object"
      ]
     },
     "execution_count": 13,
     "metadata": {},
     "output_type": "execute_result"
    }
   ],
   "source": [
    "X.cutted_comment[:5]"
   ]
  },
  {
   "cell_type": "code",
   "execution_count": 14,
   "metadata": {},
   "outputs": [
    {
     "data": {
      "text/plain": [
       "(100, 2)"
      ]
     },
     "execution_count": 14,
     "metadata": {},
     "output_type": "execute_result"
    }
   ],
   "source": [
    "X.shape"
   ]
  },
  {
   "cell_type": "code",
   "execution_count": 15,
   "metadata": {},
   "outputs": [],
   "source": [
    "def get_custom_stopwords(stop_words_file):\n",
    "    with open(stop_words_file, encoding='utf-8') as f:\n",
    "        stopwords = f.read( )\n",
    "    stopwords_list = stopwords.split('\\n')\n",
    "    custom_stopwords_list = [i for i in stopwords_list]\n",
    "    return custom_stopwords_list"
   ]
  },
  {
   "cell_type": "code",
   "execution_count": 16,
   "metadata": {},
   "outputs": [],
   "source": [
    "stop_words_file = 'mystopwords.txt'    #原来是stopwordsHIT.txt, mystopwords.txt比前者多过滤416（58203-57787）\n",
    "stopwords = get_custom_stopwords(stop_words_file)"
   ]
  },
  {
   "cell_type": "code",
   "execution_count": 17,
   "metadata": {},
   "outputs": [
    {
     "data": {
      "text/plain": [
       "['至少', '东方', '财富网', '编辑', '点击', '查看', '评论', '来源', '原文', '']"
      ]
     },
     "execution_count": 17,
     "metadata": {},
     "output_type": "execute_result"
    }
   ],
   "source": [
    "stopwords[-10:]"
   ]
  },
  {
   "cell_type": "code",
   "execution_count": 18,
   "metadata": {},
   "outputs": [
    {
     "data": {
      "text/html": [
       "<div>\n",
       "<style scoped>\n",
       "    .dataframe tbody tr th:only-of-type {\n",
       "        vertical-align: middle;\n",
       "    }\n",
       "\n",
       "    .dataframe tbody tr th {\n",
       "        vertical-align: top;\n",
       "    }\n",
       "\n",
       "    .dataframe thead th {\n",
       "        text-align: right;\n",
       "    }\n",
       "</style>\n",
       "<table border=\"1\" class=\"dataframe\">\n",
       "  <thead>\n",
       "    <tr style=\"text-align: right;\">\n",
       "      <th></th>\n",
       "      <th>00</th>\n",
       "      <th>000</th>\n",
       "      <th>000000</th>\n",
       "      <th>000000000</th>\n",
       "      <th>000002</th>\n",
       "      <th>000027</th>\n",
       "      <th>000046</th>\n",
       "      <th>000063</th>\n",
       "      <th>0001</th>\n",
       "      <th>000100</th>\n",
       "      <th>...</th>\n",
       "      <th>齐跌</th>\n",
       "      <th>齐齐</th>\n",
       "      <th>龙凤</th>\n",
       "      <th>龙大</th>\n",
       "      <th>龙头</th>\n",
       "      <th>龙头企业</th>\n",
       "      <th>龙头股</th>\n",
       "      <th>龙桥</th>\n",
       "      <th>龙虎榜</th>\n",
       "      <th>龙韵</th>\n",
       "    </tr>\n",
       "  </thead>\n",
       "  <tbody>\n",
       "    <tr>\n",
       "      <th>0</th>\n",
       "      <td>0</td>\n",
       "      <td>0</td>\n",
       "      <td>0</td>\n",
       "      <td>0</td>\n",
       "      <td>0</td>\n",
       "      <td>0</td>\n",
       "      <td>0</td>\n",
       "      <td>0</td>\n",
       "      <td>0</td>\n",
       "      <td>0</td>\n",
       "      <td>...</td>\n",
       "      <td>0</td>\n",
       "      <td>0</td>\n",
       "      <td>0</td>\n",
       "      <td>0</td>\n",
       "      <td>0</td>\n",
       "      <td>0</td>\n",
       "      <td>0</td>\n",
       "      <td>0</td>\n",
       "      <td>0</td>\n",
       "      <td>0</td>\n",
       "    </tr>\n",
       "    <tr>\n",
       "      <th>1</th>\n",
       "      <td>0</td>\n",
       "      <td>0</td>\n",
       "      <td>0</td>\n",
       "      <td>0</td>\n",
       "      <td>0</td>\n",
       "      <td>0</td>\n",
       "      <td>0</td>\n",
       "      <td>0</td>\n",
       "      <td>0</td>\n",
       "      <td>0</td>\n",
       "      <td>...</td>\n",
       "      <td>1</td>\n",
       "      <td>0</td>\n",
       "      <td>0</td>\n",
       "      <td>0</td>\n",
       "      <td>0</td>\n",
       "      <td>0</td>\n",
       "      <td>0</td>\n",
       "      <td>0</td>\n",
       "      <td>0</td>\n",
       "      <td>0</td>\n",
       "    </tr>\n",
       "    <tr>\n",
       "      <th>2</th>\n",
       "      <td>0</td>\n",
       "      <td>0</td>\n",
       "      <td>0</td>\n",
       "      <td>0</td>\n",
       "      <td>0</td>\n",
       "      <td>0</td>\n",
       "      <td>0</td>\n",
       "      <td>0</td>\n",
       "      <td>0</td>\n",
       "      <td>0</td>\n",
       "      <td>...</td>\n",
       "      <td>0</td>\n",
       "      <td>0</td>\n",
       "      <td>0</td>\n",
       "      <td>0</td>\n",
       "      <td>0</td>\n",
       "      <td>0</td>\n",
       "      <td>0</td>\n",
       "      <td>0</td>\n",
       "      <td>0</td>\n",
       "      <td>0</td>\n",
       "    </tr>\n",
       "    <tr>\n",
       "      <th>3</th>\n",
       "      <td>0</td>\n",
       "      <td>0</td>\n",
       "      <td>0</td>\n",
       "      <td>0</td>\n",
       "      <td>0</td>\n",
       "      <td>0</td>\n",
       "      <td>0</td>\n",
       "      <td>0</td>\n",
       "      <td>0</td>\n",
       "      <td>0</td>\n",
       "      <td>...</td>\n",
       "      <td>0</td>\n",
       "      <td>0</td>\n",
       "      <td>0</td>\n",
       "      <td>0</td>\n",
       "      <td>0</td>\n",
       "      <td>0</td>\n",
       "      <td>0</td>\n",
       "      <td>0</td>\n",
       "      <td>0</td>\n",
       "      <td>0</td>\n",
       "    </tr>\n",
       "    <tr>\n",
       "      <th>4</th>\n",
       "      <td>0</td>\n",
       "      <td>0</td>\n",
       "      <td>0</td>\n",
       "      <td>0</td>\n",
       "      <td>0</td>\n",
       "      <td>0</td>\n",
       "      <td>0</td>\n",
       "      <td>0</td>\n",
       "      <td>0</td>\n",
       "      <td>0</td>\n",
       "      <td>...</td>\n",
       "      <td>0</td>\n",
       "      <td>1</td>\n",
       "      <td>0</td>\n",
       "      <td>0</td>\n",
       "      <td>0</td>\n",
       "      <td>0</td>\n",
       "      <td>0</td>\n",
       "      <td>0</td>\n",
       "      <td>2</td>\n",
       "      <td>0</td>\n",
       "    </tr>\n",
       "  </tbody>\n",
       "</table>\n",
       "<p>5 rows × 10230 columns</p>\n",
       "</div>"
      ],
      "text/plain": [
       "   00  000  000000  000000000  000002  000027  000046  000063  0001  000100  \\\n",
       "0   0    0       0          0       0       0       0       0     0       0   \n",
       "1   0    0       0          0       0       0       0       0     0       0   \n",
       "2   0    0       0          0       0       0       0       0     0       0   \n",
       "3   0    0       0          0       0       0       0       0     0       0   \n",
       "4   0    0       0          0       0       0       0       0     0       0   \n",
       "\n",
       "  ...  齐跌  齐齐  龙凤  龙大  龙头  龙头企业  龙头股  龙桥  龙虎榜  龙韵  \n",
       "0 ...   0   0   0   0   0     0    0   0    0   0  \n",
       "1 ...   1   0   0   0   0     0    0   0    0   0  \n",
       "2 ...   0   0   0   0   0     0    0   0    0   0  \n",
       "3 ...   0   0   0   0   0     0    0   0    0   0  \n",
       "4 ...   0   1   0   0   0     0    0   0    2   0  \n",
       "\n",
       "[5 rows x 10230 columns]"
      ]
     },
     "execution_count": 18,
     "metadata": {},
     "output_type": "execute_result"
    }
   ],
   "source": [
    "from sklearn.feature_extraction.text import CountVectorizer\n",
    "\n",
    "vect = CountVectorizer()\n",
    "\n",
    "term_matrix = pd.DataFrame(vect.fit_transform(X.cutted_comment).toarray(), columns=vect.get_feature_names())\n",
    "\n",
    "term_matrix.head()    #shift + M可以合并cell"
   ]
  },
  {
   "cell_type": "code",
   "execution_count": 19,
   "metadata": {},
   "outputs": [
    {
     "data": {
      "text/plain": [
       "(100, 10230)"
      ]
     },
     "execution_count": 19,
     "metadata": {},
     "output_type": "execute_result"
    }
   ],
   "source": [
    "term_matrix.shape"
   ]
  },
  {
   "cell_type": "code",
   "execution_count": 20,
   "metadata": {},
   "outputs": [],
   "source": [
    "vect = CountVectorizer(stop_words=frozenset(stopwords)) #加上停用词去除功能"
   ]
  },
  {
   "cell_type": "code",
   "execution_count": 21,
   "metadata": {},
   "outputs": [],
   "source": [
    "term_matrix = pd.DataFrame(vect.fit_transform(X.cutted_comment).toarray(), columns=vect.get_feature_names())"
   ]
  },
  {
   "cell_type": "code",
   "execution_count": 22,
   "metadata": {},
   "outputs": [
    {
     "data": {
      "text/html": [
       "<div>\n",
       "<style scoped>\n",
       "    .dataframe tbody tr th:only-of-type {\n",
       "        vertical-align: middle;\n",
       "    }\n",
       "\n",
       "    .dataframe tbody tr th {\n",
       "        vertical-align: top;\n",
       "    }\n",
       "\n",
       "    .dataframe thead th {\n",
       "        text-align: right;\n",
       "    }\n",
       "</style>\n",
       "<table border=\"1\" class=\"dataframe\">\n",
       "  <thead>\n",
       "    <tr style=\"text-align: right;\">\n",
       "      <th></th>\n",
       "      <th>00</th>\n",
       "      <th>000</th>\n",
       "      <th>000000</th>\n",
       "      <th>000000000</th>\n",
       "      <th>000002</th>\n",
       "      <th>000027</th>\n",
       "      <th>000046</th>\n",
       "      <th>000063</th>\n",
       "      <th>0001</th>\n",
       "      <th>000100</th>\n",
       "      <th>...</th>\n",
       "      <th>齐跌</th>\n",
       "      <th>齐齐</th>\n",
       "      <th>龙凤</th>\n",
       "      <th>龙大</th>\n",
       "      <th>龙头</th>\n",
       "      <th>龙头企业</th>\n",
       "      <th>龙头股</th>\n",
       "      <th>龙桥</th>\n",
       "      <th>龙虎榜</th>\n",
       "      <th>龙韵</th>\n",
       "    </tr>\n",
       "  </thead>\n",
       "  <tbody>\n",
       "    <tr>\n",
       "      <th>0</th>\n",
       "      <td>0</td>\n",
       "      <td>0</td>\n",
       "      <td>0</td>\n",
       "      <td>0</td>\n",
       "      <td>0</td>\n",
       "      <td>0</td>\n",
       "      <td>0</td>\n",
       "      <td>0</td>\n",
       "      <td>0</td>\n",
       "      <td>0</td>\n",
       "      <td>...</td>\n",
       "      <td>0</td>\n",
       "      <td>0</td>\n",
       "      <td>0</td>\n",
       "      <td>0</td>\n",
       "      <td>0</td>\n",
       "      <td>0</td>\n",
       "      <td>0</td>\n",
       "      <td>0</td>\n",
       "      <td>0</td>\n",
       "      <td>0</td>\n",
       "    </tr>\n",
       "    <tr>\n",
       "      <th>1</th>\n",
       "      <td>0</td>\n",
       "      <td>0</td>\n",
       "      <td>0</td>\n",
       "      <td>0</td>\n",
       "      <td>0</td>\n",
       "      <td>0</td>\n",
       "      <td>0</td>\n",
       "      <td>0</td>\n",
       "      <td>0</td>\n",
       "      <td>0</td>\n",
       "      <td>...</td>\n",
       "      <td>1</td>\n",
       "      <td>0</td>\n",
       "      <td>0</td>\n",
       "      <td>0</td>\n",
       "      <td>0</td>\n",
       "      <td>0</td>\n",
       "      <td>0</td>\n",
       "      <td>0</td>\n",
       "      <td>0</td>\n",
       "      <td>0</td>\n",
       "    </tr>\n",
       "    <tr>\n",
       "      <th>2</th>\n",
       "      <td>0</td>\n",
       "      <td>0</td>\n",
       "      <td>0</td>\n",
       "      <td>0</td>\n",
       "      <td>0</td>\n",
       "      <td>0</td>\n",
       "      <td>0</td>\n",
       "      <td>0</td>\n",
       "      <td>0</td>\n",
       "      <td>0</td>\n",
       "      <td>...</td>\n",
       "      <td>0</td>\n",
       "      <td>0</td>\n",
       "      <td>0</td>\n",
       "      <td>0</td>\n",
       "      <td>0</td>\n",
       "      <td>0</td>\n",
       "      <td>0</td>\n",
       "      <td>0</td>\n",
       "      <td>0</td>\n",
       "      <td>0</td>\n",
       "    </tr>\n",
       "    <tr>\n",
       "      <th>3</th>\n",
       "      <td>0</td>\n",
       "      <td>0</td>\n",
       "      <td>0</td>\n",
       "      <td>0</td>\n",
       "      <td>0</td>\n",
       "      <td>0</td>\n",
       "      <td>0</td>\n",
       "      <td>0</td>\n",
       "      <td>0</td>\n",
       "      <td>0</td>\n",
       "      <td>...</td>\n",
       "      <td>0</td>\n",
       "      <td>0</td>\n",
       "      <td>0</td>\n",
       "      <td>0</td>\n",
       "      <td>0</td>\n",
       "      <td>0</td>\n",
       "      <td>0</td>\n",
       "      <td>0</td>\n",
       "      <td>0</td>\n",
       "      <td>0</td>\n",
       "    </tr>\n",
       "    <tr>\n",
       "      <th>4</th>\n",
       "      <td>0</td>\n",
       "      <td>0</td>\n",
       "      <td>0</td>\n",
       "      <td>0</td>\n",
       "      <td>0</td>\n",
       "      <td>0</td>\n",
       "      <td>0</td>\n",
       "      <td>0</td>\n",
       "      <td>0</td>\n",
       "      <td>0</td>\n",
       "      <td>...</td>\n",
       "      <td>0</td>\n",
       "      <td>1</td>\n",
       "      <td>0</td>\n",
       "      <td>0</td>\n",
       "      <td>0</td>\n",
       "      <td>0</td>\n",
       "      <td>0</td>\n",
       "      <td>0</td>\n",
       "      <td>2</td>\n",
       "      <td>0</td>\n",
       "    </tr>\n",
       "  </tbody>\n",
       "</table>\n",
       "<p>5 rows × 9738 columns</p>\n",
       "</div>"
      ],
      "text/plain": [
       "   00  000  000000  000000000  000002  000027  000046  000063  0001  000100  \\\n",
       "0   0    0       0          0       0       0       0       0     0       0   \n",
       "1   0    0       0          0       0       0       0       0     0       0   \n",
       "2   0    0       0          0       0       0       0       0     0       0   \n",
       "3   0    0       0          0       0       0       0       0     0       0   \n",
       "4   0    0       0          0       0       0       0       0     0       0   \n",
       "\n",
       "  ...  齐跌  齐齐  龙凤  龙大  龙头  龙头企业  龙头股  龙桥  龙虎榜  龙韵  \n",
       "0 ...   0   0   0   0   0     0    0   0    0   0  \n",
       "1 ...   1   0   0   0   0     0    0   0    0   0  \n",
       "2 ...   0   0   0   0   0     0    0   0    0   0  \n",
       "3 ...   0   0   0   0   0     0    0   0    0   0  \n",
       "4 ...   0   1   0   0   0     0    0   0    2   0  \n",
       "\n",
       "[5 rows x 9738 columns]"
      ]
     },
     "execution_count": 22,
     "metadata": {},
     "output_type": "execute_result"
    }
   ],
   "source": [
    "term_matrix.head()"
   ]
  },
  {
   "cell_type": "code",
   "execution_count": 23,
   "metadata": {},
   "outputs": [],
   "source": [
    "max_df = 0.8 # 在超过这一比例的文档中出现的关键词（过于平凡），去除掉。\n",
    "min_df = 3 # 在地狱这一数量的文档中出现的关键词（过于独特），去除掉。"
   ]
  },
  {
   "cell_type": "code",
   "execution_count": 24,
   "metadata": {},
   "outputs": [],
   "source": [
    "vect = CountVectorizer(max_df=max_df,\n",
    "                      min_df=min_df,\n",
    "                      token_pattern=u'(?u)\\\\b[^\\\\d\\\\W]\\\\w+\\\\b',\n",
    "                      stop_words=frozenset(stopwords))"
   ]
  },
  {
   "cell_type": "code",
   "execution_count": 25,
   "metadata": {},
   "outputs": [],
   "source": [
    "term_matrix = pd.DataFrame(vect.fit_transform(X.cutted_comment).toarray(), columns=vect.get_feature_names())"
   ]
  },
  {
   "cell_type": "code",
   "execution_count": 26,
   "metadata": {},
   "outputs": [
    {
     "data": {
      "text/html": [
       "<div>\n",
       "<style scoped>\n",
       "    .dataframe tbody tr th:only-of-type {\n",
       "        vertical-align: middle;\n",
       "    }\n",
       "\n",
       "    .dataframe tbody tr th {\n",
       "        vertical-align: top;\n",
       "    }\n",
       "\n",
       "    .dataframe thead th {\n",
       "        text-align: right;\n",
       "    }\n",
       "</style>\n",
       "<table border=\"1\" class=\"dataframe\">\n",
       "  <thead>\n",
       "    <tr style=\"text-align: right;\">\n",
       "      <th></th>\n",
       "      <th>aaa</th>\n",
       "      <th>adp</th>\n",
       "      <th>a股</th>\n",
       "      <th>cap</th>\n",
       "      <th>cdr</th>\n",
       "      <th>ceo</th>\n",
       "      <th>china</th>\n",
       "      <th>gdp</th>\n",
       "      <th>imf</th>\n",
       "      <th>inclusion</th>\n",
       "      <th>...</th>\n",
       "      <th>黑色</th>\n",
       "      <th>默认页</th>\n",
       "      <th>鼎晖</th>\n",
       "      <th>鼓励</th>\n",
       "      <th>齐峰</th>\n",
       "      <th>齐齐</th>\n",
       "      <th>龙头</th>\n",
       "      <th>龙头企业</th>\n",
       "      <th>龙头股</th>\n",
       "      <th>龙虎榜</th>\n",
       "    </tr>\n",
       "  </thead>\n",
       "  <tbody>\n",
       "    <tr>\n",
       "      <th>0</th>\n",
       "      <td>0</td>\n",
       "      <td>0</td>\n",
       "      <td>3</td>\n",
       "      <td>0</td>\n",
       "      <td>0</td>\n",
       "      <td>0</td>\n",
       "      <td>0</td>\n",
       "      <td>0</td>\n",
       "      <td>0</td>\n",
       "      <td>0</td>\n",
       "      <td>...</td>\n",
       "      <td>0</td>\n",
       "      <td>0</td>\n",
       "      <td>0</td>\n",
       "      <td>0</td>\n",
       "      <td>0</td>\n",
       "      <td>0</td>\n",
       "      <td>0</td>\n",
       "      <td>0</td>\n",
       "      <td>0</td>\n",
       "      <td>0</td>\n",
       "    </tr>\n",
       "    <tr>\n",
       "      <th>1</th>\n",
       "      <td>0</td>\n",
       "      <td>0</td>\n",
       "      <td>7</td>\n",
       "      <td>0</td>\n",
       "      <td>0</td>\n",
       "      <td>0</td>\n",
       "      <td>0</td>\n",
       "      <td>0</td>\n",
       "      <td>0</td>\n",
       "      <td>0</td>\n",
       "      <td>...</td>\n",
       "      <td>0</td>\n",
       "      <td>0</td>\n",
       "      <td>0</td>\n",
       "      <td>0</td>\n",
       "      <td>0</td>\n",
       "      <td>0</td>\n",
       "      <td>0</td>\n",
       "      <td>0</td>\n",
       "      <td>0</td>\n",
       "      <td>0</td>\n",
       "    </tr>\n",
       "    <tr>\n",
       "      <th>2</th>\n",
       "      <td>0</td>\n",
       "      <td>0</td>\n",
       "      <td>0</td>\n",
       "      <td>0</td>\n",
       "      <td>0</td>\n",
       "      <td>0</td>\n",
       "      <td>0</td>\n",
       "      <td>0</td>\n",
       "      <td>0</td>\n",
       "      <td>0</td>\n",
       "      <td>...</td>\n",
       "      <td>0</td>\n",
       "      <td>0</td>\n",
       "      <td>0</td>\n",
       "      <td>0</td>\n",
       "      <td>0</td>\n",
       "      <td>0</td>\n",
       "      <td>0</td>\n",
       "      <td>0</td>\n",
       "      <td>0</td>\n",
       "      <td>0</td>\n",
       "    </tr>\n",
       "    <tr>\n",
       "      <th>3</th>\n",
       "      <td>0</td>\n",
       "      <td>0</td>\n",
       "      <td>4</td>\n",
       "      <td>0</td>\n",
       "      <td>0</td>\n",
       "      <td>0</td>\n",
       "      <td>0</td>\n",
       "      <td>0</td>\n",
       "      <td>0</td>\n",
       "      <td>0</td>\n",
       "      <td>...</td>\n",
       "      <td>0</td>\n",
       "      <td>0</td>\n",
       "      <td>0</td>\n",
       "      <td>0</td>\n",
       "      <td>0</td>\n",
       "      <td>0</td>\n",
       "      <td>0</td>\n",
       "      <td>0</td>\n",
       "      <td>0</td>\n",
       "      <td>0</td>\n",
       "    </tr>\n",
       "    <tr>\n",
       "      <th>4</th>\n",
       "      <td>0</td>\n",
       "      <td>1</td>\n",
       "      <td>9</td>\n",
       "      <td>1</td>\n",
       "      <td>1</td>\n",
       "      <td>0</td>\n",
       "      <td>3</td>\n",
       "      <td>1</td>\n",
       "      <td>2</td>\n",
       "      <td>1</td>\n",
       "      <td>...</td>\n",
       "      <td>0</td>\n",
       "      <td>0</td>\n",
       "      <td>0</td>\n",
       "      <td>1</td>\n",
       "      <td>0</td>\n",
       "      <td>1</td>\n",
       "      <td>0</td>\n",
       "      <td>0</td>\n",
       "      <td>0</td>\n",
       "      <td>2</td>\n",
       "    </tr>\n",
       "  </tbody>\n",
       "</table>\n",
       "<p>5 rows × 2233 columns</p>\n",
       "</div>"
      ],
      "text/plain": [
       "   aaa  adp  a股  cap  cdr  ceo  china  gdp  imf  inclusion ...   黑色  默认页  鼎晖  \\\n",
       "0    0    0   3    0    0    0      0    0    0          0 ...    0    0   0   \n",
       "1    0    0   7    0    0    0      0    0    0          0 ...    0    0   0   \n",
       "2    0    0   0    0    0    0      0    0    0          0 ...    0    0   0   \n",
       "3    0    0   4    0    0    0      0    0    0          0 ...    0    0   0   \n",
       "4    0    1   9    1    1    0      3    1    2          1 ...    0    0   0   \n",
       "\n",
       "   鼓励  齐峰  齐齐  龙头  龙头企业  龙头股  龙虎榜  \n",
       "0   0   0   0   0     0    0    0  \n",
       "1   0   0   0   0     0    0    0  \n",
       "2   0   0   0   0     0    0    0  \n",
       "3   0   0   0   0     0    0    0  \n",
       "4   1   0   1   0     0    0    2  \n",
       "\n",
       "[5 rows x 2233 columns]"
      ]
     },
     "execution_count": 26,
     "metadata": {},
     "output_type": "execute_result"
    }
   ],
   "source": [
    "term_matrix.head()"
   ]
  },
  {
   "cell_type": "code",
   "execution_count": 27,
   "metadata": {},
   "outputs": [],
   "source": [
    "n_features = 1000"
   ]
  },
  {
   "cell_type": "code",
   "execution_count": 28,
   "metadata": {},
   "outputs": [],
   "source": [
    "tf_vectorizer = CountVectorizer(strip_accents = 'unicode',    #此处的tf-vectorizer与之前的vect一样，都是CountVectorizer的实例，参数不同而已\n",
    "                               max_features=n_features,\n",
    "                               max_df=max_df,\n",
    "                               min_df=min_df,\n",
    "                               token_pattern=u'(?u)\\\\b[^\\\\d\\\\W]\\\\w+\\\\b',\n",
    "                               stop_words=frozenset(stopwords))\n",
    "tf = tf_vectorizer.fit_transform(X.cutted_comment)    #此处的tf与之前的term_matrix一样，都是数据框"
   ]
  },
  {
   "cell_type": "code",
   "execution_count": 29,
   "metadata": {},
   "outputs": [],
   "source": [
    "from sklearn.decomposition import LatentDirichletAllocation"
   ]
  },
  {
   "cell_type": "code",
   "execution_count": 30,
   "metadata": {},
   "outputs": [],
   "source": [
    "n_topics = 5\n",
    "lda = LatentDirichletAllocation(n_topics=n_topics,\n",
    "                               max_iter=50,\n",
    "                               learning_method='online',\n",
    "                               learning_offset=50.,\n",
    "                               random_state=0)"
   ]
  },
  {
   "cell_type": "code",
   "execution_count": 31,
   "metadata": {},
   "outputs": [
    {
     "name": "stderr",
     "output_type": "stream",
     "text": [
      "D:\\Anaconda3\\lib\\site-packages\\sklearn\\decomposition\\online_lda.py:294: DeprecationWarning: n_topics has been renamed to n_components in version 0.19 and will be removed in 0.21\n",
      "  DeprecationWarning)\n"
     ]
    },
    {
     "name": "stdout",
     "output_type": "stream",
     "text": [
      "Wall time: 4.16 s\n"
     ]
    },
    {
     "data": {
      "text/plain": [
       "LatentDirichletAllocation(batch_size=128, doc_topic_prior=None,\n",
       "             evaluate_every=-1, learning_decay=0.7,\n",
       "             learning_method='online', learning_offset=50.0,\n",
       "             max_doc_update_iter=100, max_iter=50, mean_change_tol=0.001,\n",
       "             n_components=10, n_jobs=1, n_topics=5, perp_tol=0.1,\n",
       "             random_state=0, topic_word_prior=None,\n",
       "             total_samples=1000000.0, verbose=0)"
      ]
     },
     "execution_count": 31,
     "metadata": {},
     "output_type": "execute_result"
    }
   ],
   "source": [
    "%%time\n",
    "lda.fit(tf)"
   ]
  },
  {
   "cell_type": "code",
   "execution_count": 32,
   "metadata": {},
   "outputs": [],
   "source": [
    "def print_top_words(model, feature_names, n_top_words):\n",
    "    for topic_idx, topic in enumerate(model.components_):\n",
    "        print('Topic #%d:' % topic_idx)\n",
    "        print(' '.join([feature_names[i]\n",
    "                      for i in topic.argsort()[:-n_top_words -1:-1]]))\n",
    "    print()"
   ]
  },
  {
   "cell_type": "code",
   "execution_count": 33,
   "metadata": {},
   "outputs": [],
   "source": [
    "n_top_words = 20"
   ]
  },
  {
   "cell_type": "code",
   "execution_count": 34,
   "metadata": {},
   "outputs": [
    {
     "name": "stdout",
     "output_type": "stream",
     "text": [
      "Topic #0:\n",
      "中国 基金 合作 发展 券商 国家 管理 战略 中方 上市 a股 教育 美方 产品 证券 投资 措施 投资者 信息 习近平\n",
      "Topic #1:\n",
      "市场 租赁 板块 资金 a股 个股 融资 投资 行业 黄金 科技 证券 估值 下跌 机构 指数 风险 发展 监管 投资者\n",
      "Topic #2:\n",
      "市场 指数 msci a股 中国 退市 质押 股票 增长 疫苗 美国 医疗 纳入 经济 预期 风险 机构 美元 收涨 外资\n",
      "Topic #3:\n",
      "股份 公告 京东 股东 控股 年度 增持 万股 科技 个股 智能 集团 召开 股东大会 投资 股本 发行 股票 智慧 技术\n",
      "Topic #4:\n",
      "摇号 购房 券商 住房 中国 城市 旅游 资产 楼盘 选房 销售 股份 价格 市场 项目 商品 公证 房地产 昨日 投资\n",
      "\n"
     ]
    }
   ],
   "source": [
    "tf_feature_names = tf_vectorizer.get_feature_names()\n",
    "print_top_words(lda, tf_feature_names, n_top_words)"
   ]
  },
  {
   "cell_type": "code",
   "execution_count": 35,
   "metadata": {},
   "outputs": [
    {
     "name": "stderr",
     "output_type": "stream",
     "text": [
      "D:\\Anaconda3\\lib\\site-packages\\pyLDAvis\\_prepare.py:387: DeprecationWarning: \n",
      ".ix is deprecated. Please use\n",
      ".loc for label based indexing or\n",
      ".iloc for positional indexing\n",
      "\n",
      "See the documentation here:\n",
      "http://pandas.pydata.org/pandas-docs/stable/indexing.html#ix-indexer-is-deprecated\n",
      "  topic_term_dists = topic_term_dists.ix[topic_order]\n"
     ]
    },
    {
     "name": "stdout",
     "output_type": "stream",
     "text": [
      "Wall time: 6.26 s\n"
     ]
    }
   ],
   "source": [
    "%%time\n",
    "import pyLDAvis\n",
    "import pyLDAvis.sklearn\n",
    "pyLDAvis.enable_notebook()\n",
    "pyLDAvis.sklearn.prepare(lda, tf, tf_vectorizer)"
   ]
  },
  {
   "cell_type": "code",
   "execution_count": 36,
   "metadata": {},
   "outputs": [
    {
     "name": "stderr",
     "output_type": "stream",
     "text": [
      "D:\\Anaconda3\\lib\\site-packages\\pyLDAvis\\_prepare.py:387: DeprecationWarning: \n",
      ".ix is deprecated. Please use\n",
      ".loc for label based indexing or\n",
      ".iloc for positional indexing\n",
      "\n",
      "See the documentation here:\n",
      "http://pandas.pydata.org/pandas-docs/stable/indexing.html#ix-indexer-is-deprecated\n",
      "  topic_term_dists = topic_term_dists.ix[topic_order]\n"
     ]
    },
    {
     "name": "stdout",
     "output_type": "stream",
     "text": [
      "\n",
      "Note: if you're in the IPython notebook, pyLDAvis.show() is not the best command\n",
      "      to use. Consider using pyLDAvis.display(), or pyLDAvis.enable_notebook().\n",
      "      See more information at http://pyLDAvis.github.io/quickstart.html .\n",
      "\n",
      "You must interrupt the kernel to end this command\n",
      "\n",
      "Serving to http://127.0.0.1:8889/    [Ctrl-C to exit]\n"
     ]
    },
    {
     "name": "stderr",
     "output_type": "stream",
     "text": [
      "127.0.0.1 - - [31/May/2018 09:17:43] \"GET / HTTP/1.1\" 200 -\n",
      "127.0.0.1 - - [31/May/2018 09:17:43] \"GET /LDAvis.css HTTP/1.1\" 200 -\n",
      "127.0.0.1 - - [31/May/2018 09:17:44] \"GET /d3.js HTTP/1.1\" 200 -\n",
      "127.0.0.1 - - [31/May/2018 09:17:44] \"GET /LDAvis.js HTTP/1.1\" 200 -\n"
     ]
    },
    {
     "name": "stdout",
     "output_type": "stream",
     "text": [
      "\n",
      "stopping Server...\n",
      "Wall time: 31.9 s\n"
     ]
    }
   ],
   "source": [
    "%%time\n",
    "data = pyLDAvis.sklearn.prepare(lda, tf, tf_vectorizer)\n",
    "pyLDAvis.show(data)"
   ]
  },
  {
   "cell_type": "code",
   "execution_count": 37,
   "metadata": {},
   "outputs": [
    {
     "name": "stderr",
     "output_type": "stream",
     "text": [
      "D:\\Anaconda3\\lib\\site-packages\\sklearn\\decomposition\\online_lda.py:294: DeprecationWarning: n_topics has been renamed to n_components in version 0.19 and will be removed in 0.21\n",
      "  DeprecationWarning)\n"
     ]
    },
    {
     "name": "stdout",
     "output_type": "stream",
     "text": [
      "Topic #0:\n",
      "券商 证券 业务 财富 投资者 成交额 新增 收入 证券日报 互联网 一季度 a股 基金 上升 统计 数据 管理 下滑 转型 呈现\n",
      "Topic #1:\n",
      "租赁 融资 发展 科技 创新 监管 中国 市场 基金 经济 总书记 金融 合作 管理 行业 资产 企业 习近平 建设 交易所\n",
      "Topic #2:\n",
      "质押 退市 股份 股票 疫苗 股东 平仓 苏宁 规定 机构 易购 应当 外国 风险 保险 外资 澎湃 中国 国务院 成交\n",
      "Topic #3:\n",
      "京东 智能 智慧 投资 技术 无人 零售 物流 价值 科技 集团 场景 平台 服务 数据 研发 消费者 苏宁 用户 生态\n",
      "Topic #4:\n",
      "摇号 购房 住房 选房 楼盘 城市 商品 公证 销售 成都 成都市 项目 公开 通知 价格 杭州 深圳 诚意金 买房 政策\n",
      "Topic #5:\n",
      "市场 指数 msci a股 意大利 经济 增长 纳入 预期 中国 美国 资金 美元 收涨 投资者 欧洲 收盘 全球 数据 债券\n",
      "Topic #6:\n",
      "中国 中方 美方 交易 溢价 沪市 国家 个股 美国 位于 举行 磋商 措施 商务部 平方米 合作 大宗 关税 报道 国际\n",
      "Topic #7:\n",
      "股份 公告 年度 股东 控股 增持 万股 股东大会 召开 发行 股本 有限公司 计划 披露 持有 回购 股票 项目 信息 新能源\n",
      "Topic #8:\n",
      "开发 钛白粉 项目 房地产 万科 产业 生产 成交 产能 平方米 市场 提升 运营 南京 产品 具有 国家 位于 限价 估值\n",
      "Topic #9:\n",
      "市场 个股 板块 a股 黄金 资金 行业 投资 估值 股份 证券 机构 下跌 低开 指数 跌幅 反弹 大盘 新低 两市\n",
      "\n"
     ]
    },
    {
     "name": "stderr",
     "output_type": "stream",
     "text": [
      "D:\\Anaconda3\\lib\\site-packages\\pyLDAvis\\_prepare.py:387: DeprecationWarning: \n",
      ".ix is deprecated. Please use\n",
      ".loc for label based indexing or\n",
      ".iloc for positional indexing\n",
      "\n",
      "See the documentation here:\n",
      "http://pandas.pydata.org/pandas-docs/stable/indexing.html#ix-indexer-is-deprecated\n",
      "  topic_term_dists = topic_term_dists.ix[topic_order]\n",
      "D:\\Anaconda3\\lib\\site-packages\\pyLDAvis\\_prepare.py:387: DeprecationWarning: \n",
      ".ix is deprecated. Please use\n",
      ".loc for label based indexing or\n",
      ".iloc for positional indexing\n",
      "\n",
      "See the documentation here:\n",
      "http://pandas.pydata.org/pandas-docs/stable/indexing.html#ix-indexer-is-deprecated\n",
      "  topic_term_dists = topic_term_dists.ix[topic_order]\n"
     ]
    },
    {
     "name": "stdout",
     "output_type": "stream",
     "text": [
      "\n",
      "Note: if you're in the IPython notebook, pyLDAvis.show() is not the best command\n",
      "      to use. Consider using pyLDAvis.display(), or pyLDAvis.enable_notebook().\n",
      "      See more information at http://pyLDAvis.github.io/quickstart.html .\n",
      "\n",
      "You must interrupt the kernel to end this command\n",
      "\n",
      "Serving to http://127.0.0.1:8889/    [Ctrl-C to exit]\n"
     ]
    },
    {
     "name": "stderr",
     "output_type": "stream",
     "text": [
      "127.0.0.1 - - [31/May/2018 09:18:28] \"GET / HTTP/1.1\" 200 -\n",
      "127.0.0.1 - - [31/May/2018 09:18:28] \"GET /LDAvis.css HTTP/1.1\" 200 -\n",
      "127.0.0.1 - - [31/May/2018 09:18:28] \"GET /d3.js HTTP/1.1\" 200 -\n",
      "127.0.0.1 - - [31/May/2018 09:18:29] \"GET /LDAvis.js HTTP/1.1\" 200 -\n"
     ]
    },
    {
     "name": "stdout",
     "output_type": "stream",
     "text": [
      "\n",
      "stopping Server...\n",
      "Wall time: 34.3 s\n"
     ]
    }
   ],
   "source": [
    "%%time\n",
    "n_topics = 10\n",
    "lda = LatentDirichletAllocation(n_topics=n_topics, max_iter=50,\n",
    "                                learning_method='online',\n",
    "                                learning_offset=50.,\n",
    "                                random_state=0)\n",
    "lda.fit(tf)\n",
    "print_top_words(lda, tf_feature_names, n_top_words)\n",
    "pyLDAvis.sklearn.prepare(lda, tf, tf_vectorizer)\n",
    "\n",
    "data = pyLDAvis.sklearn.prepare(lda, tf, tf_vectorizer)\n",
    "pyLDAvis.show(data)"
   ]
  },
  {
   "cell_type": "code",
   "execution_count": 38,
   "metadata": {},
   "outputs": [
    {
     "name": "stderr",
     "output_type": "stream",
     "text": [
      "D:\\Anaconda3\\lib\\site-packages\\sklearn\\decomposition\\online_lda.py:294: DeprecationWarning: n_topics has been renamed to n_components in version 0.19 and will be removed in 0.21\n",
      "  DeprecationWarning)\n"
     ]
    },
    {
     "name": "stdout",
     "output_type": "stream",
     "text": [
      "Topic #0:\n",
      "证券 券商 a股 海通 美国 预期 疫苗 中信证券 昨日 加息 证券日报 价值 数据 上市 处于 估值 增加 低于 业务 以下\n",
      "Topic #1:\n",
      "租赁 融资 科技 创新 发展 监管 卖出 总书记 买入 金融 习近平 行业 院士 工作者 中国 我国 证券 建设 资产 业务\n",
      "Topic #2:\n",
      "退市 疫苗 规定 外国 机构 应当 转让 股票 成交 国务院 保险 外资 整理 中国 申请 上市 澎湃 设立 经营 海南\n",
      "Topic #3:\n",
      "京东 智能 智慧 技术 无人 零售 苏宁 物流 科技 集团 场景 服务 消费者 平台 数据 用户 生态 行业 未来 商业\n",
      "Topic #4:\n",
      "生态 购物 城市 集团 商业 中国 天津 多个 项目 有限公司 发展 家居 休闲 国内 投资 经营 旗下 平米 全国 打造\n",
      "Topic #5:\n",
      "市场 资金 债券 企业 流动性 经济 进口关税 债市 政府 意大利 中国 投资 报道 降低 利率 银行 记者 收益率 房价 世纪\n",
      "Topic #6:\n",
      "位于 平方米 规划 面积 世纪 溢价 苏州 拍卖 地产 观点 资料 未来 周边 江苏 成交 收入 控股 无人 京东 苏宁\n",
      "Topic #7:\n",
      "企业 ipo 审核 申请 证监会 证券日报 终止 规范 有限公司 发行 上市公司 股份 传媒 盈利 提出 能力 融资 北京 新股 期内\n",
      "Topic #8:\n",
      "钛白粉 项目 产能 生产 提升 产品 产业 基地 市场 具有 一期 建设 产业链 国内 终止 稳定 指导 目标 前期 环保\n",
      "Topic #9:\n",
      "医疗 美国 市场 增长 ipo 投资 工业 企业 上市 估值 科技 经济 中国 预期 a股 产品 比例 制造 欣锐 新股\n",
      "Topic #10:\n",
      "中国 msci a股 指数 纳入 基金 交易 市场 经济 收涨 个股 国际 剔除 加强 中方 预期 合作 china 投资者 停牌\n",
      "Topic #11:\n",
      "旅游 有限公司 浙江 上市 发展 股份 游戏 研发 集团 股权 澎湃 发行 人民币 企业 股东 开发 网络 团队 申请 收购\n",
      "Topic #12:\n",
      "摇号 住房 购房 选房 楼盘 商品 公证 销售 成都 成都市 城市 通知 公开 深圳 诚意金 购房者 家庭 买房 政策 价格\n",
      "Topic #13:\n",
      "珠海 新能源 产业 浙江 总书记 汽车 研发 股份 记者 业务 园区 技术 股权 使用 生产 海外 发布 工作者 收购 不确定性\n",
      "Topic #14:\n",
      "新能源 珠海 汽车 业务 生产 证券时报 记者 充电 河北 园区 销量 补贴 员工 制造 收入 调整 采访 市场 技术 全国\n",
      "Topic #15:\n",
      "股份 股东 公告 控股 个股 年度 增持 质押 市场 万股 股票 投资 资金 股东大会 平仓 召开 股价 股本 披露 板块\n",
      "Topic #16:\n",
      "投资 价值 投资者 概率 可能性 世界 集中 强调 确定 不确定性 观点 理念 风险 获利 买入 选择 企业 资金 游戏 特别\n",
      "Topic #17:\n",
      "市场 板块 a股 行业 指数 证券 个股 资金 券商 黄金 下跌 反弹 低开 投资者 调整 估值 中国 跌幅 情绪 大盘\n",
      "Topic #18:\n",
      "股份 年度 控股 万股 公告 股东大会 市场 资金 a股 管理 召开 股东 股本 未来 msci 临时 科技 汽车 签订 行业\n",
      "Topic #19:\n",
      "索罗斯 欧盟 意大利 欧洲 开发 英国 房地产 万科 市场 万美元 最高 平方米 运营 国家 经济 成交 危机 南京 欧元 规模\n",
      "\n"
     ]
    },
    {
     "name": "stderr",
     "output_type": "stream",
     "text": [
      "D:\\Anaconda3\\lib\\site-packages\\pyLDAvis\\_prepare.py:387: DeprecationWarning: \n",
      ".ix is deprecated. Please use\n",
      ".loc for label based indexing or\n",
      ".iloc for positional indexing\n",
      "\n",
      "See the documentation here:\n",
      "http://pandas.pydata.org/pandas-docs/stable/indexing.html#ix-indexer-is-deprecated\n",
      "  topic_term_dists = topic_term_dists.ix[topic_order]\n",
      "D:\\Anaconda3\\lib\\site-packages\\pyLDAvis\\_prepare.py:387: DeprecationWarning: \n",
      ".ix is deprecated. Please use\n",
      ".loc for label based indexing or\n",
      ".iloc for positional indexing\n",
      "\n",
      "See the documentation here:\n",
      "http://pandas.pydata.org/pandas-docs/stable/indexing.html#ix-indexer-is-deprecated\n",
      "  topic_term_dists = topic_term_dists.ix[topic_order]\n"
     ]
    },
    {
     "name": "stdout",
     "output_type": "stream",
     "text": [
      "\n",
      "Note: if you're in the IPython notebook, pyLDAvis.show() is not the best command\n",
      "      to use. Consider using pyLDAvis.display(), or pyLDAvis.enable_notebook().\n",
      "      See more information at http://pyLDAvis.github.io/quickstart.html .\n",
      "\n",
      "You must interrupt the kernel to end this command\n",
      "\n",
      "Serving to http://127.0.0.1:8889/    [Ctrl-C to exit]\n"
     ]
    },
    {
     "name": "stderr",
     "output_type": "stream",
     "text": [
      "127.0.0.1 - - [31/May/2018 09:19:08] \"GET / HTTP/1.1\" 200 -\n",
      "127.0.0.1 - - [31/May/2018 09:19:08] \"GET /LDAvis.css HTTP/1.1\" 200 -\n",
      "127.0.0.1 - - [31/May/2018 09:19:09] \"GET /d3.js HTTP/1.1\" 200 -\n",
      "127.0.0.1 - - [31/May/2018 09:19:09] \"GET /LDAvis.js HTTP/1.1\" 200 -\n"
     ]
    },
    {
     "name": "stdout",
     "output_type": "stream",
     "text": [
      "\n",
      "stopping Server...\n",
      "Wall time: 7min 41s\n"
     ]
    }
   ],
   "source": [
    "%%time\n",
    "n_topics = 20\n",
    "lda = LatentDirichletAllocation(n_topics=n_topics, max_iter=50,\n",
    "                                learning_method='online',\n",
    "                                learning_offset=50.,\n",
    "                                random_state=0)\n",
    "lda.fit(tf)\n",
    "print_top_words(lda, tf_feature_names, n_top_words)\n",
    "pyLDAvis.sklearn.prepare(lda, tf, tf_vectorizer)\n",
    "\n",
    "data = pyLDAvis.sklearn.prepare(lda, tf, tf_vectorizer)\n",
    "pyLDAvis.show(data)"
   ]
  },
  {
   "cell_type": "code",
   "execution_count": 17,
   "metadata": {},
   "outputs": [
    {
     "name": "stdout",
     "output_type": "stream",
     "text": [
      "X\t df\t pd\t \n"
     ]
    }
   ],
   "source": [
    "%who"
   ]
  }
 ],
 "metadata": {
  "kernelspec": {
   "display_name": "Python 3",
   "language": "python",
   "name": "python3"
  },
  "language_info": {
   "codemirror_mode": {
    "name": "ipython",
    "version": 3
   },
   "file_extension": ".py",
   "mimetype": "text/x-python",
   "name": "python",
   "nbconvert_exporter": "python",
   "pygments_lexer": "ipython3",
   "version": "3.6.4"
  }
 },
 "nbformat": 4,
 "nbformat_minor": 2
}

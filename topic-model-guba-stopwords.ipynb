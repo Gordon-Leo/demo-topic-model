{
 "cells": [
  {
   "cell_type": "code",
   "execution_count": 1,
   "metadata": {},
   "outputs": [],
   "source": [
    "import pandas as pd"
   ]
  },
  {
   "cell_type": "code",
   "execution_count": 2,
   "metadata": {},
   "outputs": [],
   "source": [
    "# 以下方法读取方式不对\n",
    "# filename = 'datascience.csv'\n",
    "# with open(filename, encoding='gb18030')"
   ]
  },
  {
   "cell_type": "code",
   "execution_count": 3,
   "metadata": {},
   "outputs": [],
   "source": [
    "df = pd.read_csv('data_20180514_20180515.csv', encoding='gb18030')"
   ]
  },
  {
   "cell_type": "code",
   "execution_count": 4,
   "metadata": {},
   "outputs": [
    {
     "data": {
      "text/html": [
       "<div>\n",
       "<style scoped>\n",
       "    .dataframe tbody tr th:only-of-type {\n",
       "        vertical-align: middle;\n",
       "    }\n",
       "\n",
       "    .dataframe tbody tr th {\n",
       "        vertical-align: top;\n",
       "    }\n",
       "\n",
       "    .dataframe thead th {\n",
       "        text-align: right;\n",
       "    }\n",
       "</style>\n",
       "<table border=\"1\" class=\"dataframe\">\n",
       "  <thead>\n",
       "    <tr style=\"text-align: right;\">\n",
       "      <th></th>\n",
       "      <th>title</th>\n",
       "      <th>author</th>\n",
       "      <th>comment</th>\n",
       "    </tr>\n",
       "  </thead>\n",
       "  <tbody>\n",
       "    <tr>\n",
       "      <th>0</th>\n",
       "      <td>重磅！银保监会收编融资租赁、保理、典当三大行</td>\n",
       "      <td>财经评论</td>\n",
       "      <td>来源：中国基金报 编辑：东方财富网在统一监管的趋势下，融资租赁、保理、典当三大行业的多头监管...</td>\n",
       "    </tr>\n",
       "    <tr>\n",
       "      <th>1</th>\n",
       "      <td>乐天玛特接盘方：出价并不高 完全依靠自有资金</td>\n",
       "      <td>财经评论</td>\n",
       "      <td>来源：中国证券报 编辑：东方财富网5月11日上午8点半，两天两夜不合眼的谈判后，韩国人撤走；...</td>\n",
       "    </tr>\n",
       "    <tr>\n",
       "      <th>2</th>\n",
       "      <td>富士康IPO引轩然大波！招股书暗藏玄机独家解析</td>\n",
       "      <td>财经评论</td>\n",
       "      <td>来源：新财富 编辑：东方财富网2018年5月13日晚上11点，富士康回A股上市的招股意向书披...</td>\n",
       "    </tr>\n",
       "    <tr>\n",
       "      <th>3</th>\n",
       "      <td>中国药企牵手美国卫生研究院 获HPV疫苗全球独家</td>\n",
       "      <td>财经评论</td>\n",
       "      <td>来源：证券时报e公司 编辑：东方财富网据中证资讯报道，近日，武汉博沃生物科技有限公司与美国国...</td>\n",
       "    </tr>\n",
       "    <tr>\n",
       "      <th>4</th>\n",
       "      <td>镍去库存节奏加快 三元高镍化有望驱动镍价走高</td>\n",
       "      <td>财经评论</td>\n",
       "      <td>来源：证券时报e公司 编辑：东方财富网据怀新投资报道，周一镍价大幅拉涨，沪镍期货主力合约较上...</td>\n",
       "    </tr>\n",
       "  </tbody>\n",
       "</table>\n",
       "</div>"
      ],
      "text/plain": [
       "                      title author  \\\n",
       "0    重磅！银保监会收编融资租赁、保理、典当三大行   财经评论   \n",
       "1    乐天玛特接盘方：出价并不高 完全依靠自有资金   财经评论   \n",
       "2   富士康IPO引轩然大波！招股书暗藏玄机独家解析   财经评论   \n",
       "3  中国药企牵手美国卫生研究院 获HPV疫苗全球独家   财经评论   \n",
       "4    镍去库存节奏加快 三元高镍化有望驱动镍价走高   财经评论   \n",
       "\n",
       "                                             comment  \n",
       "0  来源：中国基金报 编辑：东方财富网在统一监管的趋势下，融资租赁、保理、典当三大行业的多头监管...  \n",
       "1  来源：中国证券报 编辑：东方财富网5月11日上午8点半，两天两夜不合眼的谈判后，韩国人撤走；...  \n",
       "2  来源：新财富 编辑：东方财富网2018年5月13日晚上11点，富士康回A股上市的招股意向书披...  \n",
       "3  来源：证券时报e公司 编辑：东方财富网据中证资讯报道，近日，武汉博沃生物科技有限公司与美国国...  \n",
       "4  来源：证券时报e公司 编辑：东方财富网据怀新投资报道，周一镍价大幅拉涨，沪镍期货主力合约较上...  "
      ]
     },
     "execution_count": 4,
     "metadata": {},
     "output_type": "execute_result"
    }
   ],
   "source": [
    "df.head()"
   ]
  },
  {
   "cell_type": "code",
   "execution_count": 5,
   "metadata": {},
   "outputs": [
    {
     "data": {
      "text/plain": [
       "(279, 3)"
      ]
     },
     "execution_count": 5,
     "metadata": {},
     "output_type": "execute_result"
    }
   ],
   "source": [
    "df.shape"
   ]
  },
  {
   "cell_type": "code",
   "execution_count": 6,
   "metadata": {},
   "outputs": [],
   "source": [
    "X = df[['comment']]"
   ]
  },
  {
   "cell_type": "code",
   "execution_count": 7,
   "metadata": {},
   "outputs": [
    {
     "data": {
      "text/plain": [
       "(279, 1)"
      ]
     },
     "execution_count": 7,
     "metadata": {},
     "output_type": "execute_result"
    }
   ],
   "source": [
    "X.shape"
   ]
  },
  {
   "cell_type": "code",
   "execution_count": 8,
   "metadata": {},
   "outputs": [
    {
     "data": {
      "text/html": [
       "<div>\n",
       "<style scoped>\n",
       "    .dataframe tbody tr th:only-of-type {\n",
       "        vertical-align: middle;\n",
       "    }\n",
       "\n",
       "    .dataframe tbody tr th {\n",
       "        vertical-align: top;\n",
       "    }\n",
       "\n",
       "    .dataframe thead th {\n",
       "        text-align: right;\n",
       "    }\n",
       "</style>\n",
       "<table border=\"1\" class=\"dataframe\">\n",
       "  <thead>\n",
       "    <tr style=\"text-align: right;\">\n",
       "      <th></th>\n",
       "      <th>comment</th>\n",
       "    </tr>\n",
       "  </thead>\n",
       "  <tbody>\n",
       "    <tr>\n",
       "      <th>0</th>\n",
       "      <td>来源：中国基金报 编辑：东方财富网在统一监管的趋势下，融资租赁、保理、典当三大行业的多头监管...</td>\n",
       "    </tr>\n",
       "    <tr>\n",
       "      <th>1</th>\n",
       "      <td>来源：中国证券报 编辑：东方财富网5月11日上午8点半，两天两夜不合眼的谈判后，韩国人撤走；...</td>\n",
       "    </tr>\n",
       "    <tr>\n",
       "      <th>2</th>\n",
       "      <td>来源：新财富 编辑：东方财富网2018年5月13日晚上11点，富士康回A股上市的招股意向书披...</td>\n",
       "    </tr>\n",
       "    <tr>\n",
       "      <th>3</th>\n",
       "      <td>来源：证券时报e公司 编辑：东方财富网据中证资讯报道，近日，武汉博沃生物科技有限公司与美国国...</td>\n",
       "    </tr>\n",
       "    <tr>\n",
       "      <th>4</th>\n",
       "      <td>来源：证券时报e公司 编辑：东方财富网据怀新投资报道，周一镍价大幅拉涨，沪镍期货主力合约较上...</td>\n",
       "    </tr>\n",
       "  </tbody>\n",
       "</table>\n",
       "</div>"
      ],
      "text/plain": [
       "                                             comment\n",
       "0  来源：中国基金报 编辑：东方财富网在统一监管的趋势下，融资租赁、保理、典当三大行业的多头监管...\n",
       "1  来源：中国证券报 编辑：东方财富网5月11日上午8点半，两天两夜不合眼的谈判后，韩国人撤走；...\n",
       "2  来源：新财富 编辑：东方财富网2018年5月13日晚上11点，富士康回A股上市的招股意向书披...\n",
       "3  来源：证券时报e公司 编辑：东方财富网据中证资讯报道，近日，武汉博沃生物科技有限公司与美国国...\n",
       "4  来源：证券时报e公司 编辑：东方财富网据怀新投资报道，周一镍价大幅拉涨，沪镍期货主力合约较上..."
      ]
     },
     "execution_count": 8,
     "metadata": {},
     "output_type": "execute_result"
    }
   ],
   "source": [
    "X.head()"
   ]
  },
  {
   "cell_type": "code",
   "execution_count": 9,
   "metadata": {},
   "outputs": [],
   "source": [
    "import jieba"
   ]
  },
  {
   "cell_type": "code",
   "execution_count": 10,
   "metadata": {},
   "outputs": [],
   "source": [
    "def chinese_word_cut(mytext):\n",
    "    return ' '.join(jieba.cut(mytext))"
   ]
  },
  {
   "cell_type": "code",
   "execution_count": 11,
   "metadata": {},
   "outputs": [
    {
     "name": "stderr",
     "output_type": "stream",
     "text": [
      "Building prefix dict from the default dictionary ...\n",
      "Loading model from cache C:\\Users\\wu\\AppData\\Local\\Temp\\jieba.cache\n",
      "Loading model cost 0.984 seconds.\n",
      "Prefix dict has been built succesfully.\n",
      "D:\\Anaconda3\\lib\\site-packages\\ipykernel_launcher.py:1: SettingWithCopyWarning: \n",
      "A value is trying to be set on a copy of a slice from a DataFrame.\n",
      "Try using .loc[row_indexer,col_indexer] = value instead\n",
      "\n",
      "See the caveats in the documentation: http://pandas.pydata.org/pandas-docs/stable/indexing.html#indexing-view-versus-copy\n",
      "  \"\"\"Entry point for launching an IPython kernel.\n"
     ]
    }
   ],
   "source": [
    "X['cutted_comment'] = X.comment.apply(chinese_word_cut)"
   ]
  },
  {
   "cell_type": "code",
   "execution_count": 12,
   "metadata": {},
   "outputs": [
    {
     "data": {
      "text/plain": [
       "0    来源 ： 中国 基金 报   编辑 ： 东方 财富网 在 统一 监管 的 趋势 下 ， 融资...\n",
       "1    来源 ： 中国 证券报   编辑 ： 东方 财富网 5 月 11 日 上午 8 点半 ， 两...\n",
       "2    来源 ： 新 财富   编辑 ： 东方 财富网 2018 年 5 月 13 日 晚上 11 ...\n",
       "3    来源 ： 证券时报 e 公司   编辑 ： 东方 财富网 据 中证 资讯 报道 ， 近日 ，...\n",
       "4    来源 ： 证券时报 e 公司   编辑 ： 东方 财富网 据 怀新 投资 报道 ， 周一 镍...\n",
       "Name: cutted_comment, dtype: object"
      ]
     },
     "execution_count": 12,
     "metadata": {},
     "output_type": "execute_result"
    }
   ],
   "source": [
    "X.cutted_comment.head()"
   ]
  },
  {
   "cell_type": "code",
   "execution_count": 13,
   "metadata": {},
   "outputs": [
    {
     "data": {
      "text/plain": [
       "0    来源 ： 中国 基金 报   编辑 ： 东方 财富网 在 统一 监管 的 趋势 下 ， 融资...\n",
       "1    来源 ： 中国 证券报   编辑 ： 东方 财富网 5 月 11 日 上午 8 点半 ， 两...\n",
       "2    来源 ： 新 财富   编辑 ： 东方 财富网 2018 年 5 月 13 日 晚上 11 ...\n",
       "3    来源 ： 证券时报 e 公司   编辑 ： 东方 财富网 据 中证 资讯 报道 ， 近日 ，...\n",
       "4    来源 ： 证券时报 e 公司   编辑 ： 东方 财富网 据 怀新 投资 报道 ， 周一 镍...\n",
       "Name: cutted_comment, dtype: object"
      ]
     },
     "execution_count": 13,
     "metadata": {},
     "output_type": "execute_result"
    }
   ],
   "source": [
    "X.cutted_comment[:5]"
   ]
  },
  {
   "cell_type": "code",
   "execution_count": 14,
   "metadata": {},
   "outputs": [
    {
     "data": {
      "text/plain": [
       "(279, 2)"
      ]
     },
     "execution_count": 14,
     "metadata": {},
     "output_type": "execute_result"
    }
   ],
   "source": [
    "X.shape"
   ]
  },
  {
   "cell_type": "code",
   "execution_count": 15,
   "metadata": {},
   "outputs": [],
   "source": [
    "def get_custom_stopwords(stop_words_file):\n",
    "    with open(stop_words_file, encoding='utf-8') as f:\n",
    "        stopwords = f.read( )\n",
    "    stopwords_list = stopwords.split('\\n')\n",
    "    custom_stopwords_list = [i for i in stopwords_list]\n",
    "    return custom_stopwords_list"
   ]
  },
  {
   "cell_type": "code",
   "execution_count": 16,
   "metadata": {},
   "outputs": [],
   "source": [
    "stop_words_file = 'mystopwords.txt'    #原来是stopwordsHIT.txt, mystopwords.txt比前者多过滤416（58203-57787）\n",
    "stopwords = get_custom_stopwords(stop_words_file)"
   ]
  },
  {
   "cell_type": "code",
   "execution_count": 17,
   "metadata": {},
   "outputs": [
    {
     "data": {
      "text/plain": [
       "['至少', '东方', '财富网', '编辑', '点击', '查看', '评论', '来源', '原文', '']"
      ]
     },
     "execution_count": 17,
     "metadata": {},
     "output_type": "execute_result"
    }
   ],
   "source": [
    "stopwords[-10:]"
   ]
  },
  {
   "cell_type": "code",
   "execution_count": 18,
   "metadata": {},
   "outputs": [],
   "source": [
    "from sklearn.feature_extraction.text import CountVectorizer"
   ]
  },
  {
   "cell_type": "code",
   "execution_count": 19,
   "metadata": {},
   "outputs": [],
   "source": [
    "vect = CountVectorizer()"
   ]
  },
  {
   "cell_type": "code",
   "execution_count": 20,
   "metadata": {},
   "outputs": [],
   "source": [
    "term_matrix = pd.DataFrame(vect.fit_transform(X.cutted_comment).toarray(), columns=vect.get_feature_names())"
   ]
  },
  {
   "cell_type": "code",
   "execution_count": 21,
   "metadata": {},
   "outputs": [
    {
     "data": {
      "text/html": [
       "<div>\n",
       "<style scoped>\n",
       "    .dataframe tbody tr th:only-of-type {\n",
       "        vertical-align: middle;\n",
       "    }\n",
       "\n",
       "    .dataframe tbody tr th {\n",
       "        vertical-align: top;\n",
       "    }\n",
       "\n",
       "    .dataframe thead th {\n",
       "        text-align: right;\n",
       "    }\n",
       "</style>\n",
       "<table border=\"1\" class=\"dataframe\">\n",
       "  <thead>\n",
       "    <tr style=\"text-align: right;\">\n",
       "      <th></th>\n",
       "      <th>00</th>\n",
       "      <th>000</th>\n",
       "      <th>000000</th>\n",
       "      <th>000000000</th>\n",
       "      <th>000001</th>\n",
       "      <th>000002</th>\n",
       "      <th>00000725</th>\n",
       "      <th>00000735</th>\n",
       "      <th>000008</th>\n",
       "      <th>00000830</th>\n",
       "      <th>...</th>\n",
       "      <th>龙山</th>\n",
       "      <th>龙涎</th>\n",
       "      <th>龙源</th>\n",
       "      <th>龙瑞</th>\n",
       "      <th>龙盛</th>\n",
       "      <th>龙腾泛</th>\n",
       "      <th>龙芯</th>\n",
       "      <th>龙虎榜</th>\n",
       "      <th>龙里县</th>\n",
       "      <th>龙铁</th>\n",
       "    </tr>\n",
       "  </thead>\n",
       "  <tbody>\n",
       "    <tr>\n",
       "      <th>0</th>\n",
       "      <td>1</td>\n",
       "      <td>0</td>\n",
       "      <td>0</td>\n",
       "      <td>0</td>\n",
       "      <td>0</td>\n",
       "      <td>0</td>\n",
       "      <td>0</td>\n",
       "      <td>0</td>\n",
       "      <td>0</td>\n",
       "      <td>0</td>\n",
       "      <td>...</td>\n",
       "      <td>0</td>\n",
       "      <td>0</td>\n",
       "      <td>0</td>\n",
       "      <td>0</td>\n",
       "      <td>0</td>\n",
       "      <td>0</td>\n",
       "      <td>0</td>\n",
       "      <td>0</td>\n",
       "      <td>0</td>\n",
       "      <td>0</td>\n",
       "    </tr>\n",
       "    <tr>\n",
       "      <th>1</th>\n",
       "      <td>0</td>\n",
       "      <td>0</td>\n",
       "      <td>0</td>\n",
       "      <td>0</td>\n",
       "      <td>0</td>\n",
       "      <td>0</td>\n",
       "      <td>0</td>\n",
       "      <td>0</td>\n",
       "      <td>0</td>\n",
       "      <td>0</td>\n",
       "      <td>...</td>\n",
       "      <td>0</td>\n",
       "      <td>0</td>\n",
       "      <td>0</td>\n",
       "      <td>0</td>\n",
       "      <td>0</td>\n",
       "      <td>0</td>\n",
       "      <td>0</td>\n",
       "      <td>0</td>\n",
       "      <td>0</td>\n",
       "      <td>0</td>\n",
       "    </tr>\n",
       "    <tr>\n",
       "      <th>2</th>\n",
       "      <td>0</td>\n",
       "      <td>0</td>\n",
       "      <td>0</td>\n",
       "      <td>0</td>\n",
       "      <td>0</td>\n",
       "      <td>0</td>\n",
       "      <td>0</td>\n",
       "      <td>0</td>\n",
       "      <td>0</td>\n",
       "      <td>0</td>\n",
       "      <td>...</td>\n",
       "      <td>0</td>\n",
       "      <td>0</td>\n",
       "      <td>0</td>\n",
       "      <td>0</td>\n",
       "      <td>0</td>\n",
       "      <td>0</td>\n",
       "      <td>0</td>\n",
       "      <td>0</td>\n",
       "      <td>0</td>\n",
       "      <td>0</td>\n",
       "    </tr>\n",
       "    <tr>\n",
       "      <th>3</th>\n",
       "      <td>0</td>\n",
       "      <td>0</td>\n",
       "      <td>0</td>\n",
       "      <td>0</td>\n",
       "      <td>0</td>\n",
       "      <td>0</td>\n",
       "      <td>0</td>\n",
       "      <td>0</td>\n",
       "      <td>0</td>\n",
       "      <td>0</td>\n",
       "      <td>...</td>\n",
       "      <td>0</td>\n",
       "      <td>0</td>\n",
       "      <td>0</td>\n",
       "      <td>0</td>\n",
       "      <td>0</td>\n",
       "      <td>0</td>\n",
       "      <td>0</td>\n",
       "      <td>0</td>\n",
       "      <td>0</td>\n",
       "      <td>0</td>\n",
       "    </tr>\n",
       "    <tr>\n",
       "      <th>4</th>\n",
       "      <td>0</td>\n",
       "      <td>0</td>\n",
       "      <td>0</td>\n",
       "      <td>0</td>\n",
       "      <td>0</td>\n",
       "      <td>0</td>\n",
       "      <td>0</td>\n",
       "      <td>0</td>\n",
       "      <td>0</td>\n",
       "      <td>0</td>\n",
       "      <td>...</td>\n",
       "      <td>0</td>\n",
       "      <td>0</td>\n",
       "      <td>0</td>\n",
       "      <td>0</td>\n",
       "      <td>0</td>\n",
       "      <td>0</td>\n",
       "      <td>0</td>\n",
       "      <td>0</td>\n",
       "      <td>0</td>\n",
       "      <td>0</td>\n",
       "    </tr>\n",
       "  </tbody>\n",
       "</table>\n",
       "<p>5 rows × 19422 columns</p>\n",
       "</div>"
      ],
      "text/plain": [
       "   00  000  000000  000000000  000001  000002  00000725  00000735  000008  \\\n",
       "0   1    0       0          0       0       0         0         0       0   \n",
       "1   0    0       0          0       0       0         0         0       0   \n",
       "2   0    0       0          0       0       0         0         0       0   \n",
       "3   0    0       0          0       0       0         0         0       0   \n",
       "4   0    0       0          0       0       0         0         0       0   \n",
       "\n",
       "   00000830 ...  龙山  龙涎  龙源  龙瑞  龙盛  龙腾泛  龙芯  龙虎榜  龙里县  龙铁  \n",
       "0         0 ...   0   0   0   0   0    0   0    0    0   0  \n",
       "1         0 ...   0   0   0   0   0    0   0    0    0   0  \n",
       "2         0 ...   0   0   0   0   0    0   0    0    0   0  \n",
       "3         0 ...   0   0   0   0   0    0   0    0    0   0  \n",
       "4         0 ...   0   0   0   0   0    0   0    0    0   0  \n",
       "\n",
       "[5 rows x 19422 columns]"
      ]
     },
     "execution_count": 21,
     "metadata": {},
     "output_type": "execute_result"
    }
   ],
   "source": [
    "term_matrix.head()"
   ]
  },
  {
   "cell_type": "code",
   "execution_count": 22,
   "metadata": {},
   "outputs": [
    {
     "data": {
      "text/plain": [
       "(279, 19422)"
      ]
     },
     "execution_count": 22,
     "metadata": {},
     "output_type": "execute_result"
    }
   ],
   "source": [
    "term_matrix.shape"
   ]
  },
  {
   "cell_type": "code",
   "execution_count": 23,
   "metadata": {},
   "outputs": [],
   "source": [
    "vect = CountVectorizer(stop_words=frozenset(stopwords)) #加上停用词去除功能"
   ]
  },
  {
   "cell_type": "code",
   "execution_count": 24,
   "metadata": {},
   "outputs": [],
   "source": [
    "term_matrix = pd.DataFrame(vect.fit_transform(X.cutted_comment).toarray(), columns=vect.get_feature_names())"
   ]
  },
  {
   "cell_type": "code",
   "execution_count": 25,
   "metadata": {},
   "outputs": [
    {
     "data": {
      "text/html": [
       "<div>\n",
       "<style scoped>\n",
       "    .dataframe tbody tr th:only-of-type {\n",
       "        vertical-align: middle;\n",
       "    }\n",
       "\n",
       "    .dataframe tbody tr th {\n",
       "        vertical-align: top;\n",
       "    }\n",
       "\n",
       "    .dataframe thead th {\n",
       "        text-align: right;\n",
       "    }\n",
       "</style>\n",
       "<table border=\"1\" class=\"dataframe\">\n",
       "  <thead>\n",
       "    <tr style=\"text-align: right;\">\n",
       "      <th></th>\n",
       "      <th>00</th>\n",
       "      <th>000</th>\n",
       "      <th>000000</th>\n",
       "      <th>000000000</th>\n",
       "      <th>000001</th>\n",
       "      <th>000002</th>\n",
       "      <th>00000725</th>\n",
       "      <th>00000735</th>\n",
       "      <th>000008</th>\n",
       "      <th>00000830</th>\n",
       "      <th>...</th>\n",
       "      <th>龙山</th>\n",
       "      <th>龙涎</th>\n",
       "      <th>龙源</th>\n",
       "      <th>龙瑞</th>\n",
       "      <th>龙盛</th>\n",
       "      <th>龙腾泛</th>\n",
       "      <th>龙芯</th>\n",
       "      <th>龙虎榜</th>\n",
       "      <th>龙里县</th>\n",
       "      <th>龙铁</th>\n",
       "    </tr>\n",
       "  </thead>\n",
       "  <tbody>\n",
       "    <tr>\n",
       "      <th>0</th>\n",
       "      <td>1</td>\n",
       "      <td>0</td>\n",
       "      <td>0</td>\n",
       "      <td>0</td>\n",
       "      <td>0</td>\n",
       "      <td>0</td>\n",
       "      <td>0</td>\n",
       "      <td>0</td>\n",
       "      <td>0</td>\n",
       "      <td>0</td>\n",
       "      <td>...</td>\n",
       "      <td>0</td>\n",
       "      <td>0</td>\n",
       "      <td>0</td>\n",
       "      <td>0</td>\n",
       "      <td>0</td>\n",
       "      <td>0</td>\n",
       "      <td>0</td>\n",
       "      <td>0</td>\n",
       "      <td>0</td>\n",
       "      <td>0</td>\n",
       "    </tr>\n",
       "    <tr>\n",
       "      <th>1</th>\n",
       "      <td>0</td>\n",
       "      <td>0</td>\n",
       "      <td>0</td>\n",
       "      <td>0</td>\n",
       "      <td>0</td>\n",
       "      <td>0</td>\n",
       "      <td>0</td>\n",
       "      <td>0</td>\n",
       "      <td>0</td>\n",
       "      <td>0</td>\n",
       "      <td>...</td>\n",
       "      <td>0</td>\n",
       "      <td>0</td>\n",
       "      <td>0</td>\n",
       "      <td>0</td>\n",
       "      <td>0</td>\n",
       "      <td>0</td>\n",
       "      <td>0</td>\n",
       "      <td>0</td>\n",
       "      <td>0</td>\n",
       "      <td>0</td>\n",
       "    </tr>\n",
       "    <tr>\n",
       "      <th>2</th>\n",
       "      <td>0</td>\n",
       "      <td>0</td>\n",
       "      <td>0</td>\n",
       "      <td>0</td>\n",
       "      <td>0</td>\n",
       "      <td>0</td>\n",
       "      <td>0</td>\n",
       "      <td>0</td>\n",
       "      <td>0</td>\n",
       "      <td>0</td>\n",
       "      <td>...</td>\n",
       "      <td>0</td>\n",
       "      <td>0</td>\n",
       "      <td>0</td>\n",
       "      <td>0</td>\n",
       "      <td>0</td>\n",
       "      <td>0</td>\n",
       "      <td>0</td>\n",
       "      <td>0</td>\n",
       "      <td>0</td>\n",
       "      <td>0</td>\n",
       "    </tr>\n",
       "    <tr>\n",
       "      <th>3</th>\n",
       "      <td>0</td>\n",
       "      <td>0</td>\n",
       "      <td>0</td>\n",
       "      <td>0</td>\n",
       "      <td>0</td>\n",
       "      <td>0</td>\n",
       "      <td>0</td>\n",
       "      <td>0</td>\n",
       "      <td>0</td>\n",
       "      <td>0</td>\n",
       "      <td>...</td>\n",
       "      <td>0</td>\n",
       "      <td>0</td>\n",
       "      <td>0</td>\n",
       "      <td>0</td>\n",
       "      <td>0</td>\n",
       "      <td>0</td>\n",
       "      <td>0</td>\n",
       "      <td>0</td>\n",
       "      <td>0</td>\n",
       "      <td>0</td>\n",
       "    </tr>\n",
       "    <tr>\n",
       "      <th>4</th>\n",
       "      <td>0</td>\n",
       "      <td>0</td>\n",
       "      <td>0</td>\n",
       "      <td>0</td>\n",
       "      <td>0</td>\n",
       "      <td>0</td>\n",
       "      <td>0</td>\n",
       "      <td>0</td>\n",
       "      <td>0</td>\n",
       "      <td>0</td>\n",
       "      <td>...</td>\n",
       "      <td>0</td>\n",
       "      <td>0</td>\n",
       "      <td>0</td>\n",
       "      <td>0</td>\n",
       "      <td>0</td>\n",
       "      <td>0</td>\n",
       "      <td>0</td>\n",
       "      <td>0</td>\n",
       "      <td>0</td>\n",
       "      <td>0</td>\n",
       "    </tr>\n",
       "  </tbody>\n",
       "</table>\n",
       "<p>5 rows × 18838 columns</p>\n",
       "</div>"
      ],
      "text/plain": [
       "   00  000  000000  000000000  000001  000002  00000725  00000735  000008  \\\n",
       "0   1    0       0          0       0       0         0         0       0   \n",
       "1   0    0       0          0       0       0         0         0       0   \n",
       "2   0    0       0          0       0       0         0         0       0   \n",
       "3   0    0       0          0       0       0         0         0       0   \n",
       "4   0    0       0          0       0       0         0         0       0   \n",
       "\n",
       "   00000830 ...  龙山  龙涎  龙源  龙瑞  龙盛  龙腾泛  龙芯  龙虎榜  龙里县  龙铁  \n",
       "0         0 ...   0   0   0   0   0    0   0    0    0   0  \n",
       "1         0 ...   0   0   0   0   0    0   0    0    0   0  \n",
       "2         0 ...   0   0   0   0   0    0   0    0    0   0  \n",
       "3         0 ...   0   0   0   0   0    0   0    0    0   0  \n",
       "4         0 ...   0   0   0   0   0    0   0    0    0   0  \n",
       "\n",
       "[5 rows x 18838 columns]"
      ]
     },
     "execution_count": 25,
     "metadata": {},
     "output_type": "execute_result"
    }
   ],
   "source": [
    "term_matrix.head()"
   ]
  },
  {
   "cell_type": "code",
   "execution_count": 26,
   "metadata": {},
   "outputs": [],
   "source": [
    "max_df = 0.8 # 在超过这一比例的文档中出现的关键词（过于平凡），去除掉。\n",
    "min_df = 3 # 在地狱这一数量的文档中出现的关键词（过于独特），去除掉。"
   ]
  },
  {
   "cell_type": "code",
   "execution_count": 27,
   "metadata": {},
   "outputs": [],
   "source": [
    "vect = CountVectorizer(max_df=max_df,\n",
    "                      min_df=min_df,\n",
    "                      token_pattern=u'(?u)\\\\b[^\\\\d\\\\W]\\\\w+\\\\b',\n",
    "                      stop_words=frozenset(stopwords))"
   ]
  },
  {
   "cell_type": "code",
   "execution_count": 28,
   "metadata": {},
   "outputs": [],
   "source": [
    "term_matrix = pd.DataFrame(vect.fit_transform(X.cutted_comment).toarray(), columns=vect.get_feature_names())"
   ]
  },
  {
   "cell_type": "code",
   "execution_count": 29,
   "metadata": {},
   "outputs": [
    {
     "data": {
      "text/html": [
       "<div>\n",
       "<style scoped>\n",
       "    .dataframe tbody tr th:only-of-type {\n",
       "        vertical-align: middle;\n",
       "    }\n",
       "\n",
       "    .dataframe tbody tr th {\n",
       "        vertical-align: top;\n",
       "    }\n",
       "\n",
       "    .dataframe thead th {\n",
       "        text-align: right;\n",
       "    }\n",
       "</style>\n",
       "<table border=\"1\" class=\"dataframe\">\n",
       "  <thead>\n",
       "    <tr style=\"text-align: right;\">\n",
       "      <th></th>\n",
       "      <th>a0</th>\n",
       "      <th>a26</th>\n",
       "      <th>a50</th>\n",
       "      <th>ai</th>\n",
       "      <th>app</th>\n",
       "      <th>atl</th>\n",
       "      <th>a股</th>\n",
       "      <th>bat</th>\n",
       "      <th>bmtj</th>\n",
       "      <th>catl</th>\n",
       "      <th>...</th>\n",
       "      <th>黑猫</th>\n",
       "      <th>默认页</th>\n",
       "      <th>鼎力</th>\n",
       "      <th>鼎胜</th>\n",
       "      <th>鼓励</th>\n",
       "      <th>龙头</th>\n",
       "      <th>龙头企业</th>\n",
       "      <th>龙头股</th>\n",
       "      <th>龙盛</th>\n",
       "      <th>龙虎榜</th>\n",
       "    </tr>\n",
       "  </thead>\n",
       "  <tbody>\n",
       "    <tr>\n",
       "      <th>0</th>\n",
       "      <td>0</td>\n",
       "      <td>0</td>\n",
       "      <td>0</td>\n",
       "      <td>0</td>\n",
       "      <td>0</td>\n",
       "      <td>0</td>\n",
       "      <td>0</td>\n",
       "      <td>0</td>\n",
       "      <td>0</td>\n",
       "      <td>0</td>\n",
       "      <td>...</td>\n",
       "      <td>0</td>\n",
       "      <td>0</td>\n",
       "      <td>0</td>\n",
       "      <td>0</td>\n",
       "      <td>0</td>\n",
       "      <td>0</td>\n",
       "      <td>0</td>\n",
       "      <td>0</td>\n",
       "      <td>0</td>\n",
       "      <td>0</td>\n",
       "    </tr>\n",
       "    <tr>\n",
       "      <th>1</th>\n",
       "      <td>0</td>\n",
       "      <td>0</td>\n",
       "      <td>0</td>\n",
       "      <td>0</td>\n",
       "      <td>0</td>\n",
       "      <td>0</td>\n",
       "      <td>0</td>\n",
       "      <td>0</td>\n",
       "      <td>0</td>\n",
       "      <td>0</td>\n",
       "      <td>...</td>\n",
       "      <td>0</td>\n",
       "      <td>0</td>\n",
       "      <td>0</td>\n",
       "      <td>0</td>\n",
       "      <td>0</td>\n",
       "      <td>1</td>\n",
       "      <td>0</td>\n",
       "      <td>0</td>\n",
       "      <td>0</td>\n",
       "      <td>0</td>\n",
       "    </tr>\n",
       "    <tr>\n",
       "      <th>2</th>\n",
       "      <td>0</td>\n",
       "      <td>0</td>\n",
       "      <td>0</td>\n",
       "      <td>0</td>\n",
       "      <td>0</td>\n",
       "      <td>0</td>\n",
       "      <td>5</td>\n",
       "      <td>0</td>\n",
       "      <td>0</td>\n",
       "      <td>0</td>\n",
       "      <td>...</td>\n",
       "      <td>0</td>\n",
       "      <td>0</td>\n",
       "      <td>0</td>\n",
       "      <td>0</td>\n",
       "      <td>0</td>\n",
       "      <td>0</td>\n",
       "      <td>0</td>\n",
       "      <td>0</td>\n",
       "      <td>0</td>\n",
       "      <td>0</td>\n",
       "    </tr>\n",
       "    <tr>\n",
       "      <th>3</th>\n",
       "      <td>0</td>\n",
       "      <td>0</td>\n",
       "      <td>0</td>\n",
       "      <td>0</td>\n",
       "      <td>0</td>\n",
       "      <td>0</td>\n",
       "      <td>0</td>\n",
       "      <td>0</td>\n",
       "      <td>0</td>\n",
       "      <td>0</td>\n",
       "      <td>...</td>\n",
       "      <td>0</td>\n",
       "      <td>0</td>\n",
       "      <td>0</td>\n",
       "      <td>0</td>\n",
       "      <td>0</td>\n",
       "      <td>0</td>\n",
       "      <td>0</td>\n",
       "      <td>0</td>\n",
       "      <td>0</td>\n",
       "      <td>0</td>\n",
       "    </tr>\n",
       "    <tr>\n",
       "      <th>4</th>\n",
       "      <td>0</td>\n",
       "      <td>0</td>\n",
       "      <td>0</td>\n",
       "      <td>0</td>\n",
       "      <td>0</td>\n",
       "      <td>0</td>\n",
       "      <td>1</td>\n",
       "      <td>0</td>\n",
       "      <td>0</td>\n",
       "      <td>0</td>\n",
       "      <td>...</td>\n",
       "      <td>0</td>\n",
       "      <td>0</td>\n",
       "      <td>0</td>\n",
       "      <td>0</td>\n",
       "      <td>0</td>\n",
       "      <td>0</td>\n",
       "      <td>0</td>\n",
       "      <td>0</td>\n",
       "      <td>0</td>\n",
       "      <td>0</td>\n",
       "    </tr>\n",
       "  </tbody>\n",
       "</table>\n",
       "<p>5 rows × 4518 columns</p>\n",
       "</div>"
      ],
      "text/plain": [
       "   a0  a26  a50  ai  app  atl  a股  bat  bmtj  catl ...   黑猫  默认页  鼎力  鼎胜  鼓励  \\\n",
       "0   0    0    0   0    0    0   0    0     0     0 ...    0    0   0   0   0   \n",
       "1   0    0    0   0    0    0   0    0     0     0 ...    0    0   0   0   0   \n",
       "2   0    0    0   0    0    0   5    0     0     0 ...    0    0   0   0   0   \n",
       "3   0    0    0   0    0    0   0    0     0     0 ...    0    0   0   0   0   \n",
       "4   0    0    0   0    0    0   1    0     0     0 ...    0    0   0   0   0   \n",
       "\n",
       "   龙头  龙头企业  龙头股  龙盛  龙虎榜  \n",
       "0   0     0    0   0    0  \n",
       "1   1     0    0   0    0  \n",
       "2   0     0    0   0    0  \n",
       "3   0     0    0   0    0  \n",
       "4   0     0    0   0    0  \n",
       "\n",
       "[5 rows x 4518 columns]"
      ]
     },
     "execution_count": 29,
     "metadata": {},
     "output_type": "execute_result"
    }
   ],
   "source": [
    "term_matrix.head()"
   ]
  },
  {
   "cell_type": "code",
   "execution_count": 30,
   "metadata": {},
   "outputs": [],
   "source": [
    "n_features = 1000"
   ]
  },
  {
   "cell_type": "code",
   "execution_count": 31,
   "metadata": {},
   "outputs": [],
   "source": [
    "tf_vectorizer = CountVectorizer(strip_accents = 'unicode',    #此处的tf-vectorizer与之前的vect一样，都是CountVectorizer的实例，参数不同而已\n",
    "                               max_features=n_features,\n",
    "                               max_df=max_df,\n",
    "                               min_df=min_df,\n",
    "                               token_pattern=u'(?u)\\\\b[^\\\\d\\\\W]\\\\w+\\\\b',\n",
    "                               stop_words=frozenset(stopwords))\n",
    "tf = tf_vectorizer.fit_transform(X.cutted_comment)    #此处的tf与之前的term_matrix一样，都是数据框"
   ]
  },
  {
   "cell_type": "code",
   "execution_count": 32,
   "metadata": {},
   "outputs": [],
   "source": [
    "from sklearn.decomposition import LatentDirichletAllocation"
   ]
  },
  {
   "cell_type": "code",
   "execution_count": 33,
   "metadata": {},
   "outputs": [],
   "source": [
    "n_topics = 5\n",
    "lda = LatentDirichletAllocation(n_topics=n_topics,\n",
    "                               max_iter=50,\n",
    "                               learning_method='online',\n",
    "                               learning_offset=50.,\n",
    "                               random_state=0)"
   ]
  },
  {
   "cell_type": "code",
   "execution_count": 34,
   "metadata": {},
   "outputs": [
    {
     "name": "stderr",
     "output_type": "stream",
     "text": [
      "D:\\Anaconda3\\lib\\site-packages\\sklearn\\decomposition\\online_lda.py:294: DeprecationWarning: n_topics has been renamed to n_components in version 0.19 and will be removed in 0.21\n",
      "  DeprecationWarning)\n"
     ]
    },
    {
     "data": {
      "text/plain": [
       "LatentDirichletAllocation(batch_size=128, doc_topic_prior=None,\n",
       "             evaluate_every=-1, learning_decay=0.7,\n",
       "             learning_method='online', learning_offset=50.0,\n",
       "             max_doc_update_iter=100, max_iter=50, mean_change_tol=0.001,\n",
       "             n_components=10, n_jobs=1, n_topics=5, perp_tol=0.1,\n",
       "             random_state=0, topic_word_prior=None,\n",
       "             total_samples=1000000.0, verbose=0)"
      ]
     },
     "execution_count": 34,
     "metadata": {},
     "output_type": "execute_result"
    }
   ],
   "source": [
    "lda.fit(tf)"
   ]
  },
  {
   "cell_type": "code",
   "execution_count": 35,
   "metadata": {},
   "outputs": [],
   "source": [
    "def print_top_words(model, feature_names, n_top_words):\n",
    "    for topic_idx, topic in enumerate(model.components_):\n",
    "        print('Topic #%d:' % topic_idx)\n",
    "        print(' '.join([feature_names[i]\n",
    "                      for i in topic.argsort()[:-n_top_words -1:-1]]))\n",
    "    print()"
   ]
  },
  {
   "cell_type": "code",
   "execution_count": 36,
   "metadata": {},
   "outputs": [],
   "source": [
    "n_top_words = 20"
   ]
  },
  {
   "cell_type": "code",
   "execution_count": 37,
   "metadata": {},
   "outputs": [
    {
     "name": "stdout",
     "output_type": "stream",
     "text": [
      "Topic #0:\n",
      "股份 富士康 发行 披露 投资者 战略 年度 投资 工业 科技 公告 信息 金额 市场 资金 上市公司 上市 项目 证券 配售\n",
      "Topic #1:\n",
      "银行 同比 增长 减少 企业 增加 净利润 员工 项目 增速 营收 调控 下降 业务 股份 城市 百分点 上市 资产 房地产\n",
      "Topic #2:\n",
      "企业 流动性 货币政策 资金 降准 mlf 中国 融资 外汇 我国 央行 风险 金融 经济 人民币 煤炭 金融机构 市场 上市公司 工具\n",
      "Topic #3:\n",
      "个股 基金 市场 购买 机构 资金 调研 板块 业绩 行业 a股 股份 开户 数据 电子 投资 中国 科技 涨幅 证券\n",
      "Topic #4:\n",
      "中国 发展 市场 企业 产品 技术 领域 业务 平安 投资 科技 合作 行业 汽车 集团 全球 上海 平台 服务 提升\n",
      "\n"
     ]
    }
   ],
   "source": [
    "tf_feature_names = tf_vectorizer.get_feature_names()\n",
    "print_top_words(lda, tf_feature_names, n_top_words)"
   ]
  },
  {
   "cell_type": "code",
   "execution_count": 38,
   "metadata": {},
   "outputs": [
    {
     "name": "stderr",
     "output_type": "stream",
     "text": [
      "D:\\Anaconda3\\lib\\site-packages\\pyLDAvis\\_prepare.py:387: DeprecationWarning: \n",
      ".ix is deprecated. Please use\n",
      ".loc for label based indexing or\n",
      ".iloc for positional indexing\n",
      "\n",
      "See the documentation here:\n",
      "http://pandas.pydata.org/pandas-docs/stable/indexing.html#ix-indexer-is-deprecated\n",
      "  topic_term_dists = topic_term_dists.ix[topic_order]\n"
     ]
    },
    {
     "data": {
      "text/html": [
       "\n",
       "<link rel=\"stylesheet\" type=\"text/css\" href=\"https://cdn.rawgit.com/bmabey/pyLDAvis/files/ldavis.v1.0.0.css\">\n",
       "\n",
       "\n",
       "<div id=\"ldavis_el82165597588649366569207622\"></div>\n",
       "<script type=\"text/javascript\">\n",
       "\n",
       "var ldavis_el82165597588649366569207622_data = {\"mdsDat\": {\"Freq\": [26.364642715461173, 24.246582787623066, 23.64455154338142, 13.407618411875491, 12.336604541658849], \"cluster\": [1, 1, 1, 1, 1], \"topics\": [1, 2, 3, 4, 5], \"x\": [0.012009984016276651, -0.13635937160634526, -0.17491872382690624, 0.20131690487512133, 0.09795120654185353], \"y\": [-0.024086924631825383, 0.10857367446842674, -0.12415229187488364, -0.10165390184384565, 0.14131944388212808]}, \"tinfo\": {\"Category\": [\"Default\", \"Default\", \"Default\", \"Default\", \"Default\", \"Default\", \"Default\", \"Default\", \"Default\", \"Default\", \"Default\", \"Default\", \"Default\", \"Default\", \"Default\", \"Default\", \"Default\", \"Default\", \"Default\", \"Default\", \"Default\", \"Default\", \"Default\", \"Default\", \"Default\", \"Default\", \"Default\", \"Default\", \"Default\", \"Default\", \"Topic1\", \"Topic1\", \"Topic1\", \"Topic1\", \"Topic1\", \"Topic1\", \"Topic1\", \"Topic1\", \"Topic1\", \"Topic1\", \"Topic1\", \"Topic1\", \"Topic1\", \"Topic1\", \"Topic1\", \"Topic1\", \"Topic1\", \"Topic1\", \"Topic1\", \"Topic1\", \"Topic1\", \"Topic1\", \"Topic1\", \"Topic1\", \"Topic1\", \"Topic1\", \"Topic1\", \"Topic1\", \"Topic1\", \"Topic1\", \"Topic1\", \"Topic1\", \"Topic1\", \"Topic1\", \"Topic1\", \"Topic1\", \"Topic1\", \"Topic1\", \"Topic1\", \"Topic1\", \"Topic1\", \"Topic1\", \"Topic1\", \"Topic1\", \"Topic1\", \"Topic1\", \"Topic1\", \"Topic1\", \"Topic1\", \"Topic1\", \"Topic1\", \"Topic1\", \"Topic1\", \"Topic1\", \"Topic1\", \"Topic1\", \"Topic1\", \"Topic1\", \"Topic1\", \"Topic1\", \"Topic1\", \"Topic1\", \"Topic1\", \"Topic1\", \"Topic1\", \"Topic1\", \"Topic1\", \"Topic2\", \"Topic2\", \"Topic2\", \"Topic2\", \"Topic2\", \"Topic2\", \"Topic2\", \"Topic2\", \"Topic2\", \"Topic2\", \"Topic2\", \"Topic2\", \"Topic2\", \"Topic2\", \"Topic2\", \"Topic2\", \"Topic2\", \"Topic2\", \"Topic2\", \"Topic2\", \"Topic2\", \"Topic2\", \"Topic2\", \"Topic2\", \"Topic2\", \"Topic2\", \"Topic2\", \"Topic2\", \"Topic2\", \"Topic2\", \"Topic2\", \"Topic2\", \"Topic2\", \"Topic2\", \"Topic2\", \"Topic2\", \"Topic2\", \"Topic2\", \"Topic2\", \"Topic2\", \"Topic2\", \"Topic2\", \"Topic2\", \"Topic2\", \"Topic2\", \"Topic2\", \"Topic2\", \"Topic2\", \"Topic2\", \"Topic2\", \"Topic2\", \"Topic2\", \"Topic2\", \"Topic2\", \"Topic2\", \"Topic2\", \"Topic2\", \"Topic2\", \"Topic2\", \"Topic2\", \"Topic2\", \"Topic2\", \"Topic2\", \"Topic2\", \"Topic2\", \"Topic3\", \"Topic3\", \"Topic3\", \"Topic3\", \"Topic3\", \"Topic3\", \"Topic3\", \"Topic3\", \"Topic3\", \"Topic3\", \"Topic3\", \"Topic3\", \"Topic3\", \"Topic3\", \"Topic3\", \"Topic3\", \"Topic3\", \"Topic3\", \"Topic3\", \"Topic3\", \"Topic3\", \"Topic3\", \"Topic3\", \"Topic3\", \"Topic3\", \"Topic3\", \"Topic3\", \"Topic3\", \"Topic3\", \"Topic3\", \"Topic3\", \"Topic3\", \"Topic3\", \"Topic3\", \"Topic3\", \"Topic3\", \"Topic3\", \"Topic3\", \"Topic3\", \"Topic3\", \"Topic3\", \"Topic3\", \"Topic3\", \"Topic3\", \"Topic3\", \"Topic3\", \"Topic3\", \"Topic3\", \"Topic3\", \"Topic3\", \"Topic3\", \"Topic3\", \"Topic3\", \"Topic3\", \"Topic3\", \"Topic3\", \"Topic3\", \"Topic3\", \"Topic3\", \"Topic3\", \"Topic4\", \"Topic4\", \"Topic4\", \"Topic4\", \"Topic4\", \"Topic4\", \"Topic4\", \"Topic4\", \"Topic4\", \"Topic4\", \"Topic4\", \"Topic4\", \"Topic4\", \"Topic4\", \"Topic4\", \"Topic4\", \"Topic4\", \"Topic4\", \"Topic4\", \"Topic4\", \"Topic4\", \"Topic4\", \"Topic4\", \"Topic4\", \"Topic4\", \"Topic4\", \"Topic4\", \"Topic4\", \"Topic4\", \"Topic4\", \"Topic4\", \"Topic4\", \"Topic4\", \"Topic4\", \"Topic4\", \"Topic4\", \"Topic4\", \"Topic4\", \"Topic4\", \"Topic4\", \"Topic4\", \"Topic4\", \"Topic4\", \"Topic4\", \"Topic4\", \"Topic4\", \"Topic4\", \"Topic4\", \"Topic4\", \"Topic4\", \"Topic4\", \"Topic4\", \"Topic5\", \"Topic5\", \"Topic5\", \"Topic5\", \"Topic5\", \"Topic5\", \"Topic5\", \"Topic5\", \"Topic5\", \"Topic5\", \"Topic5\", \"Topic5\", \"Topic5\", \"Topic5\", \"Topic5\", \"Topic5\", \"Topic5\", \"Topic5\", \"Topic5\", \"Topic5\", \"Topic5\", \"Topic5\", \"Topic5\", \"Topic5\", \"Topic5\", \"Topic5\", \"Topic5\", \"Topic5\", \"Topic5\", \"Topic5\", \"Topic5\", \"Topic5\", \"Topic5\", \"Topic5\", \"Topic5\", \"Topic5\", \"Topic5\", \"Topic5\", \"Topic5\", \"Topic5\", \"Topic5\", \"Topic5\", \"Topic5\", \"Topic5\", \"Topic5\", \"Topic5\", \"Topic5\", \"Topic5\", \"Topic5\", \"Topic5\", \"Topic5\", \"Topic5\", \"Topic5\", \"Topic5\", \"Topic5\", \"Topic5\"], \"Freq\": [427.0, 436.0, 441.0, 391.0, 466.0, 779.0, 351.0, 176.0, 168.0, 380.0, 638.0, 288.0, 189.0, 228.0, 308.0, 121.0, 117.0, 214.0, 279.0, 157.0, 100.0, 519.0, 351.0, 95.0, 215.0, 283.0, 131.0, 171.0, 147.0, 103.0, 93.91663727832191, 64.82104495749692, 74.65605759812735, 63.591921994409866, 45.76532972393515, 51.64088432501733, 38.58821230585315, 68.33176721436597, 85.17676169110925, 32.45827596903446, 102.42611857662123, 27.502367837313187, 25.54431833439002, 25.22245056272574, 27.304847181136243, 22.16765726917541, 21.15141999201174, 31.847029973313237, 30.770476199479592, 32.499027117074064, 24.39595032091312, 22.694503663945714, 32.50388013928903, 27.158629486064623, 26.54837732508024, 26.45729710356441, 20.824457690816057, 25.29553321783785, 23.4385484803701, 27.237926449212743, 80.86368715519576, 171.96016254194816, 93.32077459905929, 67.31600739692118, 58.97589830019517, 173.5534046693989, 142.08441528209167, 168.1170386692403, 245.13590485629223, 176.7137867825448, 43.22742519112273, 144.35478332211002, 54.64093050946749, 57.1778907748915, 431.76678186194835, 114.7865394274086, 47.139701034840684, 104.23167582355622, 85.41467024427118, 70.45424869242073, 73.2240195415555, 96.94063619892374, 99.76317282395642, 168.41596601004605, 103.34763607315156, 114.08100273770044, 136.23029838360677, 102.81987202384238, 185.4865524048139, 207.32485928669618, 148.96006073987925, 153.5092109577289, 142.21083907627522, 90.88767326876727, 93.55994895561182, 90.40472841878398, 91.26735931060972, 156.79929025451804, 90.97328325773475, 70.27674382328742, 54.072993846792194, 51.72339305182374, 34.19522134084872, 31.152927521040017, 30.681736847883116, 30.984745564907232, 27.224534202735413, 52.239790318688215, 26.859844985302857, 26.837690380417047, 23.30452716228551, 52.245869057484875, 23.347875366234753, 23.35715744890567, 122.20805909237272, 22.31675009128695, 81.81389461113938, 19.3466874317592, 17.378397986474067, 218.2687938500128, 108.87297017512444, 413.66773584878536, 14.660113983335279, 13.484139717552775, 69.31985934131086, 13.51437876556683, 14.113010535882577, 65.91740871219953, 263.3634490146466, 33.80798371741797, 72.1245196959435, 322.2905865206196, 108.43136020302329, 81.71674405093445, 212.1476100497969, 51.688783767496204, 85.41990598345733, 123.45482552202867, 82.09569563363031, 128.9560824190026, 105.8395143122379, 221.93326562478657, 186.82440249639566, 119.88157843966648, 123.633714431672, 145.98892238660835, 174.4073857655765, 104.7786625236983, 298.63992631850385, 219.38683911011256, 155.6196853237812, 176.73541954630184, 101.14365169970094, 91.6139875449188, 141.37336570813906, 162.2271290711763, 124.26481510838187, 134.31181155364948, 108.34060937100243, 140.38736634781128, 116.6200154205055, 117.59833463391232, 130.34937026497568, 124.38455365232991, 85.3089268718544, 67.90965178827258, 69.07826694581213, 53.75180469194173, 42.50626682642941, 52.7944454160377, 109.3493477940492, 31.966645573717607, 31.181798035236515, 49.410174203399556, 30.041409323012722, 30.17073907746792, 27.95477870480972, 28.883886633762522, 23.89275940607938, 39.51148473961544, 30.39544633573487, 20.712120111445877, 20.514189073886048, 20.027426216475995, 57.624696921726326, 17.955664448957336, 17.474365679832875, 405.659059547143, 26.075878180055398, 84.9892581785474, 83.73243995325393, 55.371676609401256, 201.1215283277546, 56.58806022364297, 319.1062133741349, 111.23611379221654, 97.71584471588656, 155.72244359336364, 163.17668037596817, 266.34710953390186, 121.85966371491747, 50.20284432134235, 49.88584666738199, 210.4148055612001, 507.7351243020663, 244.46476835102143, 77.39436613270401, 162.9361078473742, 174.30294695749362, 96.01697774924972, 104.09121346615223, 140.6118866469997, 135.51562296421315, 121.7248162396072, 172.2680206454543, 179.13053624585595, 114.79585771154355, 143.45428916940708, 132.79959317792026, 149.79617807947938, 154.40575933899896, 114.43436515116936, 175.55758109886222, 167.27322331643165, 120.5427866519287, 116.73740183477709, 100.10632490844588, 94.40369043059178, 71.09530095917155, 56.20608294184555, 54.8818873867409, 56.01970272290916, 53.554795664338705, 55.8363358393058, 51.223237908845405, 36.74596624120532, 86.25085787592357, 26.195865304586118, 58.33252706237334, 20.128911961278124, 52.77938227871696, 15.159358550367866, 21.337854642832127, 74.72910711790512, 10.999844808379288, 10.767109533638198, 10.339156980928188, 70.8958638787641, 10.23793943451464, 42.67211430638088, 24.251783857791548, 68.09930508135231, 82.53520468407478, 35.10517900199121, 37.59082241181942, 89.79895367538015, 103.94222077062213, 35.75195474157105, 64.79535659280683, 46.281924519416464, 95.35530152463342, 206.4426261343508, 92.0893640489449, 91.50719174254573, 61.13384274795892, 89.80202770339451, 123.34342029706615, 108.40304174100136, 66.96365364503326, 77.98150192824411, 73.74017477113702, 79.13767721110625, 65.83723697221463, 58.570836846772465, 59.464035113675884, 60.04253537380345, 46.93811908460567, 31.316146486991585, 31.762010806589622, 27.33908514491091, 23.26187805872801, 78.07924454419516, 51.69604449580593, 17.987363776404504, 16.949325706209855, 14.528283357153414, 12.530982001119709, 38.0535787952309, 10.618952901890559, 12.80914255290591, 72.54401196398919, 32.71559493798935, 43.53079750293869, 11.664033558586263, 21.23906361658741, 32.69976481818472, 24.845485856946432, 88.82288808666196, 61.706825934629116, 149.6003804691039, 27.2741772499254, 22.400881195878366, 38.01631563135388, 43.2232210314077, 274.1778538246019, 242.52042738816243, 41.626007451410445, 64.2209206724648, 232.60827246798675, 70.86002810542607, 40.00817745677321, 97.03156802613418, 79.4816760338007, 65.7419253181654, 94.6506361433987, 41.993595076667006, 87.81528380141961, 131.43292506382082, 62.54323608555628, 45.06026059588388, 55.26394659440983, 70.21253158785123, 63.74198551948604, 49.08048957779349, 67.81904513465675, 60.229459536025715, 54.24114331451202, 60.05324398543747, 51.33848620891324, 49.79994326466496], \"Term\": [\"\\u5bcc\\u58eb\\u5eb7\", \"\\u4e2a\\u80a1\", \"\\u94f6\\u884c\", \"\\u540c\\u6bd4\", \"\\u589e\\u957f\", \"\\u80a1\\u4efd\", \"\\u53d1\\u884c\", \"\\u6d41\\u52a8\\u6027\", \"\\u8d27\\u5e01\\u653f\\u7b56\", \"\\u57fa\\u91d1\", \"\\u4f01\\u4e1a\", \"\\u8d2d\\u4e70\", \"\\u51cf\\u5c11\", \"\\u8c03\\u7814\", \"\\u62ab\\u9732\", \"\\u964d\\u51c6\", \"mlf\", \"\\u5e74\\u5ea6\", \"\\u6218\\u7565\", \"\\u5f00\\u6237\", \"\\u5916\\u6c47\", \"\\u8d44\\u91d1\", \"\\u6295\\u8d44\\u8005\", \"\\u592e\\u884c\", \"\\u589e\\u52a0\", \"\\u677f\\u5757\", \"\\u914d\\u552e\", \"\\u91d1\\u989d\", \"\\u878d\\u8d44\", \"\\u5458\\u5de5\", \"\\u6296\\u97f3\", \"\\u89c6\\u9891\", \"\\u533a\\u5757\", \"\\u878d\\u5408\", \"\\u77f3\\u58a8\", \"\\u519b\\u6c11\", \"\\u4fe1\\u606f\\u5316\", \"\\u817e\\u8baf\", \"\\u7279\\u65af\\u62c9\", \"\\u7528\\u6237\", \"\\u54c1\\u724c\", \"\\u4e1c\\u98ce\\u6c7d\\u8f66\", \"\\u4e0b\\u8f7d\\u91cf\", \"\\u5934\\u6761\", \"\\u6749\\u6749\", \"\\u4e58\\u7528\\u8f66\", \"\\u6253\\u9020\", \"\\u53cc\\u65b9\", \"\\u95e8\\u5e97\", \"\\u96f6\\u552e\", \"\\u96f6\\u90e8\\u4ef6\", \"\\u9752\\u5c9b\", \"\\u89c4\\u5212\", \"\\u8425\\u9500\", \"\\u98de\\u673a\", \"\\u8865\\u8d34\", \"\\u4e2d\\u5174\", \"\\u4f9b\\u5e94\\u5546\", \"\\u6d4b\\u8bd5\", \"\\u56fd\\u4ea7\", \"\\u667a\\u6167\", \"\\u9886\\u57df\", \"\\u5e94\\u7528\", \"\\u65b0\\u80fd\\u6e90\", \"\\u7cfb\\u7edf\", \"\\u6280\\u672f\", \"\\u6c7d\\u8f66\", \"\\u5e73\\u5b89\", \"\\u53d1\\u5c55\", \"\\u4ea7\\u54c1\", \"\\u5efa\\u7acb\", \"\\u5408\\u4f5c\", \"\\u65d7\\u4e0b\", \"\\u8f6f\\u4ef6\", \"\\u4e2d\\u56fd\", \"\\u5168\\u7403\", \"it\", \"\\u5e73\\u53f0\", \"\\u56fd\\u9645\", \"\\u63d0\\u4f9b\", \"\\u4f18\\u52bf\", \"\\u56fd\\u5bb6\", \"\\u521b\\u65b0\", \"\\u4e1a\\u52a1\", \"\\u670d\\u52a1\", \"\\u4e0a\\u6d77\", \"\\u96c6\\u56e2\", \"\\u63d0\\u5347\", \"\\u4f01\\u4e1a\", \"\\u5e02\\u573a\", \"\\u79d1\\u6280\", \"\\u6295\\u8d44\", \"\\u884c\\u4e1a\", \"\\u56fd\\u5185\", \"\\u6709\\u9650\\u516c\\u53f8\", \"\\u7ba1\\u7406\", \"\\u589e\\u957f\", \"\\u5f00\\u6237\", \"qfii\", \"msci\", \"\\u91cd\\u4ed3\", \"\\u516c\\u52df\", \"\\u84dd\\u7b79\", \"\\u5bb6\\u6570\", \"\\u80a1\\u901a\", \"\\u9884\\u544a\", \"\\u5317\\u5411\", \"\\u6301\\u4ed3\", \"\\u98df\\u54c1\\u996e\\u6599\", \"\\u5317\\u4e0a\", \"\\u767d\\u9a6c\\u80a1\", \"\\u5927\\u76d8\", \"\\u504f\\u597d\", \"\\u6469\\u6839\", \"\\u79c1\\u52df\", \"\\u767d\\u9152\", \"\\u4e0a\\u5468\", \"\\u767d\\u9a6c\", \"\\u5927\\u901a\", \"\\u8c03\\u7814\", \"\\u6df7\\u5408\", \"\\u4e2a\\u80a1\", \"\\u84dd\\u7b79\\u80a1\", \"\\u5165\\u6469\", \"\\u589e\\u6301\", \"\\u77ed\\u7ebf\", \"\\u54c1\\u79cd\", \"\\u4e8c\\u5b63\\u5ea6\", \"\\u8d2d\\u4e70\", \"\\u9707\\u8361\", \"\\u914d\\u7f6e\", \"\\u57fa\\u91d1\", \"\\u6307\\u6570\", \"\\u770b\\u597d\", \"\\u677f\\u5757\", \"\\u4e0b\\u8dcc\", \"\\u521b\\u4e1a\\u677f\", \"\\u4f30\\u503c\", \"\\u6982\\u5ff5\", \"\\u6da8\\u5e45\", \"\\u5916\\u8d44\", \"\\u673a\\u6784\", \"\\u4e1a\\u7ee9\", \"\\u8bc1\\u5238\\u65e5\\u62a5\", \"\\u4e00\\u5b63\\u5ea6\", \"\\u7535\\u5b50\", \"a\\u80a1\", \"\\u4e0a\\u6da8\", \"\\u5e02\\u573a\", \"\\u8d44\\u91d1\", \"\\u6570\\u636e\", \"\\u884c\\u4e1a\", \"\\u72ec\\u89d2\\u517d\", \"\\u6982\\u5ff5\\u80a1\", \"\\u6295\\u8d44\", \"\\u80a1\\u4efd\", \"\\u8bc1\\u5238\", \"\\u79d1\\u6280\", \"\\u51c0\\u5229\\u6da6\", \"\\u4e2d\\u56fd\", \"\\u540c\\u6bd4\", \"\\u589e\\u957f\", \"\\u914d\\u552e\", \"\\u80a1\\u4e1c\\u5927\\u4f1a\", \"\\u8f6c\\u589e\", \"\\u5bcc\\u8054\", \"\\u62db\\u80a1\", \"\\u52df\\u8d44\", \"\\u62db\\u80a1\\u4e66\", \"\\u65b0\\u80a1\", \"\\u5206\\u7ea2\", \"\\u4fdd\\u8350\", \"\\u8d44\\u91d1\\u989d\", \"\\u8bf4\\u660e\\u4e66\", \"\\u671f\\u4e3a\", \"\\u8be2\\u4ef7\", \"\\u8fd0\\u7b97\", \"\\u9f99\\u864e\\u699c\", \"\\u56de\\u62e8\", \"\\u80a1\\u672c\", \"\\u53d1\\u884c\\u4eba\", \"\\u7533\\u62a5\", \"\\u6570\\u636e\\u4e2d\\u5fc3\", \"\\u6e38\\u8d44\", \"\\u7533\\u8d2d\", \"\\u4e91\\u7f51\", \"\\u8fc7\\u4f1a\", \"\\u5bcc\\u58eb\\u5eb7\", \"\\u6536\\u5230\", \"\\u56de\\u8d2d\", \"\\u4ebf\\u80a1\", \"\\u6279\\u6587\", \"\\u5e74\\u5ea6\", \"\\u52df\\u96c6\", \"\\u53d1\\u884c\", \"ipo\", \"\\u9501\\u5b9a\", \"\\u91d1\\u989d\", \"\\u516c\\u544a\", \"\\u62ab\\u9732\", \"\\u53ec\\u5f00\", \"\\u7f51\\u4e0a\", \"\\u5356\\u51fa\", \"\\u6218\\u7565\", \"\\u80a1\\u4efd\", \"\\u6295\\u8d44\\u8005\", \"\\u8865\\u5145\", \"\\u4fe1\\u606f\", \"\\u5de5\\u4e1a\", \"\\u73af\\u4fdd\", \"\\u80a1\\u4e1c\", \"\\u4e0a\\u5e02\", \"\\u9879\\u76ee\", \"\\u80a1\\u7968\", \"\\u79d1\\u6280\", \"\\u6295\\u8d44\", \"\\u6709\\u9650\\u516c\\u53f8\", \"\\u4e0a\\u5e02\\u516c\\u53f8\", \"\\u8bc1\\u5238\", \"\\u8d44\\u91d1\", \"\\u5e02\\u573a\", \"a\\u80a1\", \"\\u6d41\\u52a8\\u6027\", \"\\u8d27\\u5e01\\u653f\\u7b56\", \"\\u964d\\u51c6\", \"mlf\", \"\\u5916\\u6c47\", \"\\u592e\\u884c\", \"\\u8d27\\u5e01\", \"\\u51c6\\u5907\\u91d1\\u7387\", \"\\u6c47\\u7387\", \"\\u7eaf\\u78b1\", \"\\u6c47\\u5151\", \"\\u5e02\\u573a\\u5316\", \"\\u8d44\\u7ba1\", \"\\u52a0\\u606f\", \"\\u7164\\u70ad\", \"\\u8d3e\\u8dc3\\u4ead\", \"\\u503a\\u52a1\", \"\\u611f\\u8c22\\u60a8\", \"\\u6cf0\\u56fd\", \"\\u5173\\u8054\\u65b9\", \"\\u5148\\u751f\", \"\\u5de5\\u5177\", \"\\u7126\\u5316\", \"\\u79d8\\u4e66\", \"\\u8d75\\u51ef\", \"\\u5b58\\u6b3e\", \"\\u5ba1\\u8ba1\\u62a5\\u544a\", \"\\u7f8e\\u5143\", \"\\u89c6\\u7f51\", \"\\u5229\\u7387\", \"\\u91d1\\u878d\\u673a\\u6784\", \"\\u6ce2\\u52a8\", \"\\u5b9e\\u4f53\", \"\\u4eba\\u6c11\\u5e01\", \"\\u878d\\u8d44\", \"\\u6846\\u67b6\", \"\\u4fdd\\u6301\", \"\\u8bc1\\u5238\\u62a5\", \"\\u6211\\u56fd\", \"\\u4f01\\u4e1a\", \"\\u98ce\\u9669\", \"\\u91d1\\u878d\", \"\\u6210\\u672c\", \"\\u7ecf\\u6d4e\", \"\\u8d44\\u91d1\", \"\\u4e2d\\u56fd\", \"\\u4ea7\\u80fd\", \"\\u4e0a\\u5e02\\u516c\\u53f8\", \"\\u94f6\\u884c\", \"\\u5e02\\u573a\", \"\\u589e\\u52a0\", \"\\u7f8e\\u56fd\", \"\\u697c\\u5e02\", \"\\u4f4f\\u623f\", \"\\u623f\\u4f01\", \"\\u623f\\u4ef7\", \"\\u5468\\u8f6c\", \"\\u6e05\\u7406\", \"\\u516c\\u79ef\\u91d1\", \"\\u8425\\u6536\", \"\\u4eba\\u6570\", \"\\u540c\\u4e1a\", \"\\u9884\\u7b97\", \"\\u6574\\u6cbb\", \"\\u4e71\\u8c61\", \"ppp\", \"\\u7f5a\\u5355\", \"\\u8d22\\u653f\\u90e8\", \"\\u8c03\\u63a7\", \"\\u5e74\\u672b\", \"\\u79df\\u8d41\", \"\\u516c\\u5171\", \"\\u5546\\u4e1a\\u94f6\\u884c\", \"\\u94f6\\u884c\\u4e1a\", \"\\u8fdd\\u89c4\", \"\\u5458\\u5de5\", \"\\u623f\\u5730\\u4ea7\", \"\\u51cf\\u5c11\", \"\\u652f\\u51fa\", \"\\u4e07\\u79d1\", \"\\u4e94\\u5927\", \"\\u73af\\u6bd4\", \"\\u94f6\\u884c\", \"\\u540c\\u6bd4\", \"\\u90e8\\u95e8\", \"\\u767e\\u5206\\u70b9\", \"\\u589e\\u957f\", \"\\u4e0b\\u964d\", \"\\u4e07\\u4ebf\\u5143\", \"\\u589e\\u52a0\", \"\\u589e\\u901f\", \"\\u57ce\\u5e02\", \"\\u51c0\\u5229\\u6da6\", \"\\u5316\\u5b66\", \"\\u9879\\u76ee\", \"\\u4f01\\u4e1a\", \"\\u8d44\\u4ea7\", \"\\u4e0a\\u5347\", \"\\u6536\\u5165\", \"\\u4e1a\\u52a1\", \"\\u4e0a\\u5e02\", \"\\u653f\\u7b56\", \"\\u80a1\\u4efd\", \"\\u884c\\u4e1a\", \"\\u7ecf\\u6d4e\", \"\\u5e02\\u573a\", \"\\u8bb0\\u8005\", \"\\u89c4\\u6a21\"], \"Total\": [427.0, 436.0, 441.0, 391.0, 466.0, 779.0, 351.0, 176.0, 168.0, 380.0, 638.0, 288.0, 189.0, 228.0, 308.0, 121.0, 117.0, 214.0, 279.0, 157.0, 100.0, 519.0, 351.0, 95.0, 215.0, 283.0, 131.0, 171.0, 147.0, 103.0, 94.61504966121655, 65.4930430858032, 75.44888842499343, 64.35274778557586, 46.421743581231325, 52.384841915165694, 39.25821957766777, 69.56847321645441, 86.8776260699084, 33.13573164180276, 104.82035210289493, 28.18817674198272, 26.20123676221163, 25.88127384733956, 28.09124325852138, 22.89664080771687, 21.854356183016897, 33.171452746216346, 32.138075193448294, 33.9643424928823, 25.54729667085641, 24.048854162805902, 34.44804895077306, 28.814338357382542, 28.3388716107177, 28.252455944902117, 22.42360391901552, 27.23958697687138, 25.38910844251691, 29.531429246704327, 88.27765477853299, 190.8408162374654, 105.84918520554164, 76.00610747284286, 66.23527731187681, 210.50730802719792, 170.61331400183337, 213.33801478547315, 335.27706303786925, 234.1842941428197, 48.603105513891165, 193.251068209986, 63.45360362342986, 67.77857617469039, 760.7215124527816, 155.95274387134936, 54.24961173211431, 149.87873975056922, 117.21496307667715, 92.90275190093625, 99.49506726659716, 146.95953306792978, 153.88634773035088, 352.004202464655, 172.43080464053088, 202.03532219081666, 273.87143246293095, 175.0933109260907, 638.5518341912768, 799.5614661407428, 456.11425176815544, 492.47303586263735, 420.84552123565516, 187.10230043148925, 218.6423333491917, 217.47016888965751, 466.0908817657422, 157.60516693340128, 91.7576033020559, 71.07891443782361, 54.86194139526258, 52.51617366013191, 35.00042564897984, 31.95741443437995, 31.474936903694907, 31.794288160428295, 28.01297094011168, 53.84369401750221, 27.719046946074094, 27.698127305351868, 24.08906983185537, 54.00709390240068, 24.138336728991717, 24.157309996871586, 126.40250560363982, 23.172027018545805, 85.29872677092128, 20.19705508436278, 18.172319254002446, 228.31713912377612, 114.62351781319005, 436.2454889586026, 15.515335326785031, 14.27477422956909, 73.48663071635478, 14.395853813688044, 15.041961744414342, 70.8308535442405, 288.72268797029847, 36.39519044510109, 78.86756393866429, 380.2193366355474, 122.41269171325219, 92.00755771710364, 283.2086249938009, 58.411221838802916, 103.24353466026008, 156.82980065905508, 99.9358067941578, 170.20511792422582, 135.43575664961642, 323.8590645140772, 273.8144097110979, 167.58820207432316, 175.07050977133795, 216.9490465017931, 337.64451429818064, 156.6918265878068, 799.5614661407428, 519.1599685857519, 321.97886590596795, 420.84552123565516, 154.7844749716754, 142.05454831653088, 492.47303586263735, 779.272786145742, 351.88279630451433, 456.11425176815544, 254.91663766925586, 760.7215124527816, 391.70758539349924, 466.0908817657422, 131.09352902612227, 125.2401666251337, 86.02784065336354, 68.65199333700205, 70.06185725931726, 54.606114400881296, 43.24501788533394, 53.89819977579012, 111.71339701944466, 32.687996363614666, 31.887984306333237, 50.57278975573972, 30.753156702611633, 30.89211105701304, 28.66392028705105, 29.646989137979553, 24.606653310038173, 40.81736128672485, 31.40352194641911, 21.421824741283636, 21.261942373801823, 20.783246886575622, 59.85292998864999, 18.6746747054212, 18.1985596800324, 427.26616270638544, 27.490551626757274, 89.64570277261427, 88.43668006007775, 58.70770794584354, 214.28367831434647, 60.12135706200216, 351.7897731004556, 120.16614105827942, 105.26005909485379, 171.24559891799154, 183.06230119812133, 308.05731126867613, 139.75325784856275, 53.8410089398302, 54.035341237088, 279.2367852667737, 779.272786145742, 351.0935502359453, 91.57314302672232, 232.9240278882796, 253.64748367231334, 122.61269724067093, 141.0311967278024, 269.3771648831367, 271.08502846887, 227.68609841219634, 456.11425176815544, 492.47303586263735, 218.6423333491917, 360.9995188846829, 351.88279630451433, 519.1599685857519, 799.5614661407428, 337.64451429818064, 176.4126476657431, 168.089288554365, 121.35842265827657, 117.54909167964377, 100.95138766869056, 95.24513507476131, 72.017212513212, 57.01538559455149, 55.69319348974971, 56.864571978570325, 54.36909813146125, 56.69618310805521, 52.200725731129246, 37.558367833703294, 88.44678497737812, 27.12369352720432, 60.46274986502348, 20.9581097958797, 55.269051620062704, 15.985016917739165, 22.696573880248568, 79.98250712941842, 11.827135533349184, 11.608916022323063, 11.168602272022836, 76.60337259254268, 11.134162062761785, 48.100423588462675, 27.89107825603368, 79.21411322739715, 96.6646935521471, 40.99508911282354, 44.24886981268084, 114.98129863478083, 147.57618929516943, 44.485539528385885, 101.89773406685292, 64.76391142330573, 181.8050841639699, 638.5518341912768, 184.58766287818398, 242.42207823059113, 113.72791922598331, 255.72394687757983, 519.1599685857519, 760.7215124527816, 167.5997343453914, 360.9995188846829, 441.7007303423947, 799.5614661407428, 215.18430518996308, 111.27666825992846, 60.25673603497296, 60.87709576996318, 47.76295898159367, 32.11393879476243, 32.60951335467785, 28.18833442235208, 24.08046889614911, 81.13389991523336, 54.00681464070503, 18.82556554443158, 17.74344765736491, 15.338754433349596, 13.333194900100263, 40.49598757131882, 11.457076318064399, 13.89645449838392, 79.16202076932223, 35.86155342150021, 48.29779578184936, 13.13960106504621, 24.145935347899464, 37.48717935889161, 28.487081262368765, 103.61784520798419, 73.08173247800441, 189.81032384573527, 34.792724202173844, 28.731846967197644, 49.264485455435086, 56.80493796256881, 441.7007303423947, 391.70758539349924, 56.950033868939926, 95.19580149043692, 466.0908817657422, 117.10040860514763, 57.04393517227251, 215.18430518996308, 168.7829164973975, 135.83072612180956, 254.91663766925586, 69.6136351217322, 271.08502846887, 638.5518341912768, 178.55602329062432, 81.78892861892129, 148.02034374890644, 352.004202464655, 269.3771648831367, 146.12483859053157, 779.272786145742, 420.84552123565516, 255.72394687757983, 799.5614661407428, 223.5366516280485, 195.43566376912068], \"loglift\": [30.0, 29.0, 28.0, 27.0, 26.0, 25.0, 24.0, 23.0, 22.0, 21.0, 20.0, 19.0, 18.0, 17.0, 16.0, 15.0, 14.0, 13.0, 12.0, 11.0, 10.0, 9.0, 8.0, 7.0, 6.0, 5.0, 4.0, 3.0, 2.0, 1.0, 1.3257, 1.3228, 1.3226, 1.3213, 1.3189, 1.3188, 1.3159, 1.3152, 1.3134, 1.3125, 1.31, 1.3085, 1.3078, 1.3074, 1.3048, 1.3008, 1.3005, 1.2924, 1.2897, 1.289, 1.287, 1.2752, 1.2751, 1.274, 1.2679, 1.2675, 1.2592, 1.2591, 1.2532, 1.2523, 1.2454, 1.229, 1.2072, 1.2117, 1.2171, 1.1401, 1.1502, 1.0949, 1.02, 1.0516, 1.2159, 1.0414, 1.1836, 1.1631, 0.7668, 1.0267, 1.1927, 0.9699, 1.0167, 1.0566, 1.0266, 0.9171, 0.8997, 0.5959, 0.8212, 0.7616, 0.6348, 0.8008, 0.0969, -0.0166, 0.2141, 0.1675, 0.2482, 0.6111, 0.4843, 0.4554, -0.2974, 1.4118, 1.4083, 1.4055, 1.4024, 1.4017, 1.3936, 1.3914, 1.3914, 1.3911, 1.3883, 1.3867, 1.3854, 1.3853, 1.3838, 1.3837, 1.3836, 1.3832, 1.3831, 1.3793, 1.3752, 1.3739, 1.3722, 1.3719, 1.3654, 1.3638, 1.3602, 1.3599, 1.3585, 1.3537, 1.3531, 1.345, 1.325, 1.3432, 1.3275, 1.2516, 1.2956, 1.2983, 1.128, 1.2946, 1.2274, 1.1776, 1.2203, 1.1394, 1.1703, 1.039, 1.0346, 1.0819, 1.069, 1.0208, 0.7563, 1.0145, 0.4321, 0.5555, 0.6898, 0.5493, 0.9914, 0.9783, 0.1689, -0.1525, 0.376, 0.1943, 0.5612, -0.273, 0.2053, 0.0398, 1.4363, 1.4352, 1.4336, 1.4312, 1.4279, 1.4263, 1.4248, 1.4213, 1.4206, 1.4197, 1.4196, 1.4188, 1.4186, 1.4184, 1.417, 1.416, 1.4126, 1.4095, 1.4094, 1.4083, 1.4062, 1.405, 1.4041, 1.4028, 1.4014, 1.3901, 1.3892, 1.3887, 1.3874, 1.3835, 1.3786, 1.3815, 1.3445, 1.3648, 1.3677, 1.347, 1.327, 1.2966, 1.305, 1.3721, 1.3621, 1.1591, 1.0136, 1.0801, 1.2738, 1.0847, 1.0669, 1.1975, 1.1383, 0.7919, 0.7487, 0.8158, 0.4683, 0.4307, 0.7978, 0.5192, 0.4676, 0.1991, -0.2024, 0.36, 2.0045, 2.0045, 2.0026, 2.0024, 2.0009, 2.0005, 1.9965, 1.9951, 1.9947, 1.9944, 1.9943, 1.9941, 1.9904, 1.9875, 1.9842, 1.9745, 1.9735, 1.969, 1.9633, 1.9563, 1.9476, 1.9414, 1.9368, 1.9341, 1.9322, 1.9319, 1.9254, 1.8896, 1.8695, 1.8582, 1.8513, 1.8542, 1.8463, 1.7622, 1.6588, 1.7908, 1.5566, 1.6734, 1.364, 0.8802, 1.314, 1.0351, 1.3886, 0.9629, 0.5721, 0.0609, 1.0919, 0.4769, 0.2193, -0.3035, 0.825, 1.3676, 2.0794, 2.0788, 2.0752, 2.0674, 2.0663, 2.062, 2.058, 2.0542, 2.0489, 2.0471, 2.0468, 2.0383, 2.0305, 2.0304, 2.0166, 2.0111, 2.0053, 2.0008, 1.9887, 1.9735, 1.9643, 1.956, 1.9558, 1.9385, 1.9234, 1.8545, 1.8491, 1.8437, 1.8334, 1.8194, 1.6157, 1.6132, 1.7792, 1.699, 1.3976, 1.5903, 1.7379, 1.2961, 1.3395, 1.3669, 1.1019, 1.5872, 0.9654, 0.5119, 1.0436, 1.4965, 1.1074, 0.4805, 0.6513, 1.0016, -0.3489, 0.1485, 0.5419, -0.4962, 0.6215, 0.7254], \"logprob\": [30.0, 29.0, 28.0, 27.0, 26.0, 25.0, 24.0, 23.0, 22.0, 21.0, 20.0, 19.0, 18.0, 17.0, 16.0, 15.0, 14.0, 13.0, 12.0, 11.0, 10.0, 9.0, 8.0, 7.0, 6.0, 5.0, 4.0, 3.0, 2.0, 1.0, -5.2271, -5.5979, -5.4566, -5.617, -5.946, -5.8252, -6.1166, -5.5451, -5.3248, -6.2896, -5.1404, -6.4553, -6.5291, -6.5418, -6.4625, -6.6709, -6.7178, -6.3086, -6.343, -6.2883, -6.5751, -6.6474, -6.2882, -6.4678, -6.4906, -6.494, -6.7334, -6.5389, -6.6151, -6.4649, -5.3768, -4.6223, -5.2335, -5.5601, -5.6924, -4.613, -4.8131, -4.6449, -4.2677, -4.595, -6.003, -4.7972, -5.7687, -5.7234, -3.7016, -5.0264, -5.9164, -5.1229, -5.322, -5.5146, -5.476, -5.1954, -5.1667, -4.6431, -5.1314, -5.0326, -4.8552, -5.1365, -4.5465, -4.4352, -4.7658, -4.7358, -4.8122, -5.2599, -5.2309, -5.2652, -5.2557, -4.6308, -5.1752, -5.4333, -5.6954, -5.7399, -6.1537, -6.2469, -6.2621, -6.2523, -6.3817, -5.7299, -6.3951, -6.396, -6.5371, -5.7298, -6.5353, -6.5349, -4.88, -6.5804, -5.2813, -6.7233, -6.8305, -4.3, -4.9956, -3.6607, -7.0006, -7.0843, -5.447, -7.082, -7.0387, -5.4974, -4.1122, -6.1651, -5.4074, -3.9103, -4.9997, -5.2825, -4.3285, -5.7405, -5.2382, -4.8699, -5.2779, -4.8263, -5.0239, -4.2834, -4.4556, -4.8993, -4.8685, -4.7022, -4.5244, -5.0339, -3.9865, -4.2949, -4.6384, -4.5111, -5.0692, -5.1682, -4.7344, -4.5968, -4.8634, -4.7856, -5.0005, -4.7414, -4.9269, -4.9185, -4.7904, -4.8373, -5.2144, -5.4425, -5.4254, -5.6763, -5.911, -5.6942, -4.9661, -6.1959, -6.2208, -5.7605, -6.2581, -6.2538, -6.33, -6.2973, -6.4871, -5.984, -6.2463, -6.6299, -6.6395, -6.6635, -5.6067, -6.7727, -6.7999, -3.6551, -6.3996, -5.2181, -5.233, -5.6466, -4.3567, -5.6248, -3.8951, -4.949, -5.0786, -4.6126, -4.5658, -4.0758, -4.8578, -5.7446, -5.7509, -4.3116, -3.4307, -4.1616, -5.3117, -4.5673, -4.4998, -5.0961, -5.0154, -4.7146, -4.7515, -4.8589, -4.5116, -4.4725, -4.9175, -4.6946, -4.7718, -4.6514, -4.621, -4.9206, -3.9254, -3.9737, -4.3013, -4.3334, -4.4871, -4.5457, -4.8293, -5.0643, -5.0881, -5.0676, -5.1126, -5.0709, -5.1571, -5.4893, -4.6361, -5.8277, -5.0272, -6.0912, -5.1272, -6.3747, -6.0328, -4.7795, -6.6954, -6.7168, -6.7574, -4.8321, -6.7672, -5.3398, -5.9048, -4.8724, -4.6801, -5.535, -5.4666, -4.5957, -4.4495, -5.5167, -4.9221, -5.2586, -4.5357, -3.7633, -4.5706, -4.5769, -4.9803, -4.5957, -4.2783, -4.4075, -4.8892, -4.7369, -4.7928, -4.7221, -4.9061, -5.0231, -4.9247, -4.915, -5.1612, -5.5659, -5.5518, -5.7018, -5.8633, -4.6523, -5.0647, -6.1204, -6.1798, -6.334, -6.4819, -5.3711, -6.6474, -6.4599, -4.7259, -5.5222, -5.2366, -6.5536, -5.9542, -5.5227, -5.7974, -4.5234, -4.8877, -4.0021, -5.7041, -5.901, -5.3721, -5.2437, -3.3963, -3.519, -5.2813, -4.8477, -3.5607, -4.7494, -5.321, -4.435, -4.6345, -4.8243, -4.4599, -5.2726, -4.5348, -4.1316, -4.8742, -5.2021, -4.9979, -4.7585, -4.8552, -5.1166, -4.7932, -4.9119, -5.0166, -4.9148, -5.0716, -5.1021]}, \"token.table\": {\"Topic\": [1, 2, 3, 4, 5, 2, 3, 1, 2, 4, 2, 2, 3, 5, 2, 1, 2, 4, 5, 2, 4, 5, 3, 5, 1, 2, 3, 4, 5, 1, 2, 3, 1, 2, 3, 4, 5, 1, 2, 3, 4, 5, 1, 2, 3, 5, 1, 2, 3, 4, 5, 2, 3, 1, 1, 2, 3, 4, 5, 1, 2, 3, 4, 5, 1, 2, 3, 4, 5, 1, 1, 2, 3, 1, 3, 1, 2, 3, 4, 5, 1, 5, 2, 4, 3, 1, 2, 5, 1, 2, 3, 4, 5, 1, 2, 3, 4, 5, 4, 5, 1, 2, 4, 5, 2, 3, 1, 2, 3, 4, 5, 1, 2, 3, 4, 5, 1, 2, 3, 4, 5, 5, 1, 3, 5, 1, 2, 4, 5, 3, 1, 2, 3, 4, 5, 1, 4, 5, 2, 4, 5, 2, 1, 2, 3, 5, 1, 5, 2, 1, 2, 3, 4, 5, 4, 1, 1, 2, 3, 4, 5, 4, 2, 3, 4, 5, 1, 3, 2, 3, 4, 1, 2, 3, 4, 5, 4, 5, 4, 3, 3, 4, 2, 3, 4, 5, 2, 2, 1, 1, 2, 3, 1, 5, 1, 2, 3, 4, 5, 1, 2, 3, 4, 3, 1, 3, 4, 5, 1, 3, 4, 5, 5, 1, 2, 3, 4, 5, 1, 3, 5, 5, 1, 3, 5, 2, 2, 5, 3, 2, 3, 4, 1, 3, 1, 2, 3, 4, 5, 1, 2, 3, 4, 5, 1, 2, 3, 5, 1, 2, 4, 5, 1, 2, 3, 5, 1, 2, 3, 4, 5, 2, 3, 1, 2, 3, 4, 5, 1, 2, 3, 4, 5, 4, 1, 2, 5, 2, 3, 2, 4, 1, 4, 5, 1, 4, 4, 2, 2, 3, 3, 1, 2, 3, 4, 5, 3, 4, 1, 2, 3, 4, 5, 4, 1, 2, 3, 4, 5, 1, 2, 3, 5, 1, 3, 4, 5, 3, 5, 1, 2, 3, 1, 5, 2, 4, 1, 4, 5, 1, 2, 3, 4, 5, 1, 2, 3, 5, 5, 5, 1, 2, 5, 1, 2, 3, 1, 2, 3, 5, 1, 2, 3, 4, 5, 1, 2, 3, 4, 1, 2, 3, 4, 5, 3, 3, 2, 3, 1, 2, 4, 5, 1, 2, 3, 4, 5, 1, 2, 3, 4, 5, 2, 4, 5, 1, 2, 3, 4, 5, 3, 5, 1, 2, 3, 4, 5, 1, 2, 3, 4, 5, 3, 5, 2, 3, 1, 2, 3, 1, 2, 3, 1, 2, 3, 1, 2, 3, 1, 2, 3, 5, 3, 1, 2, 3, 4, 5, 1, 1, 2, 3, 4, 5, 1, 3, 4, 5, 1, 2, 3, 1, 2, 3, 4, 4, 1, 2, 3, 4, 3, 4, 5, 1, 4, 4, 1, 3, 1, 2, 3, 5, 1, 2, 5, 3, 4, 4, 5, 1, 2, 1, 2, 3, 1, 2, 3, 4, 5, 1, 2, 4, 5, 1, 3, 2, 3, 1, 2, 3, 4, 5, 2, 2, 2, 1, 2, 4, 5, 1, 2, 3, 2, 1, 2, 3, 5, 1, 2, 3, 4, 2, 3, 5, 1, 2, 3, 4, 5, 1, 3, 4, 1, 2, 3, 4, 5, 1, 3, 4, 5, 1, 3, 4, 1, 4, 1, 2, 3, 4, 5, 3, 1, 2, 3, 5, 1, 3, 2, 3, 4, 2, 1, 4, 3, 5, 1, 2, 2, 2, 1, 1, 2, 3, 4, 5, 1, 2, 3, 4, 5, 3, 4, 5, 1, 3, 5, 1, 4, 5, 1, 2, 3, 4, 5, 3, 4, 1, 1, 2, 3, 4, 5, 1, 2, 3, 4, 5, 2, 3, 4, 2, 3, 4, 5, 3, 1, 3, 4, 5, 1, 2, 4, 5, 1, 5, 4, 4, 1, 2, 3, 5, 4, 1, 2, 3, 4, 5, 4, 1, 2, 3, 4, 5, 3, 4, 3, 1, 2, 3, 3, 3, 3, 5, 1, 2, 4, 5, 3, 1, 2, 3, 2, 1, 2, 3, 4, 5, 1, 2, 4, 1, 2, 3, 1, 2, 3, 4, 5, 2, 5, 2, 3, 4, 1, 5, 4, 1, 2, 3, 4, 5, 1, 2, 1, 2, 1, 2, 3, 1, 2, 1, 2, 3, 4, 5, 2, 5, 1, 2, 3, 4, 5, 1, 2, 3, 4, 5, 1, 3, 2, 3], \"Freq\": [0.008885084380049011, 0.5153348940428427, 0.33763320644186245, 0.05627220107364374, 0.07996575942044111, 0.06657449369302854, 0.9237210999907709, 0.8663656475937, 0.1290331815565085, 0.9953288309437541, 0.9848208931388873, 0.0246938044970225, 0.0246938044970225, 0.938364570886855, 0.9917434275221646, 0.08567976422523536, 0.7082860509286123, 0.19991944985888252, 0.005711984281682358, 0.26295521083354517, 0.01753034738890301, 0.7012138955561203, 0.208827507916565, 0.7657008623607383, 0.11003934336802051, 0.14671912449069402, 0.024453187415115672, 0.1711723119058097, 0.5501967168401026, 0.023447008832514122, 0.961327362133079, 0.011723504416257061, 0.05568400724132432, 0.1187925487814919, 0.5234296680684487, 0.06682080868958919, 0.2375850975629838, 0.06371199626819193, 0.28808902660399827, 0.39612241158049766, 0.21606676995299873, 0.03601112832549978, 0.564257768215056, 0.282128884107528, 0.11879110909790654, 0.03464740682022274, 0.06381953811991727, 0.6701051502591312, 0.12763907623983453, 0.03190976905995863, 0.10849321480385934, 0.8902398950582489, 0.1027199878913364, 0.9923195701012916, 0.008539679851775008, 0.20495231644260017, 0.008539679851775008, 0.17079359703550015, 0.6063172694760256, 0.47726702926755254, 0.12499850766531138, 0.09374888074898353, 0.10511238144583003, 0.19886126219481357, 0.13147591479200701, 0.682944335169592, 0.04747741367489142, 0.058433739907558666, 0.08034639237289316, 0.9933242669894838, 0.0022922873137030757, 0.9490069478730734, 0.04813803358776459, 0.9365131526512434, 0.04459586441196397, 0.5678819291005847, 0.18403581035667094, 0.06704161662993013, 0.14197048227514616, 0.03812170357388184, 0.96083963515667, 0.9750101230352706, 0.93179732697668, 0.056472565271313946, 0.9638722111060203, 0.16238878628371836, 0.06089579485639439, 0.7713467348476623, 0.7558149902745174, 0.02135070593995812, 0.09394310613581572, 0.11956395326376547, 0.008540282375983248, 0.453461339284574, 0.059665965695338684, 0.053699369125804815, 0.3997619701587692, 0.029832982847669342, 0.03703236366198492, 0.9628414552116078, 0.15654719692438018, 0.03478826598319559, 0.7827359846219009, 0.026091199487396695, 0.04523010132540793, 0.9498321278335666, 0.2897180621747046, 0.042283176641713646, 0.13781183498040003, 0.3226049773404819, 0.20515170889127732, 0.7337047152739382, 0.10050749524300523, 0.03015224857290157, 0.0804059961944042, 0.0402029980972021, 0.07013973080227134, 0.7842897171526705, 0.10839776578532843, 0.006376339163842849, 0.025505356655371396, 0.9855923519532294, 0.9177819040070992, 0.036711276160283975, 0.036711276160283975, 0.08832384824274202, 0.14720641373790336, 0.6378944595309145, 0.1275788919061829, 0.9789526297065891, 0.26188796644568685, 0.012879736054705911, 0.6997989923056879, 0.012879736054705911, 0.012879736054705911, 0.9934225346832933, 0.9592683119685872, 0.016539108827044607, 0.9528411281285798, 0.9252497804646633, 0.044059513355460156, 0.9106974156601024, 0.7374028641321461, 0.1410683740078888, 0.038473192911242404, 0.0833585846410252, 0.07610581135984308, 0.9132697363181169, 0.9901711487308191, 0.049163590433945456, 0.03277572695596364, 0.8904072489703455, 0.02185048463730909, 0.9551309029401045, 0.9383787378638271, 0.9926535634909632, 0.019614255255034786, 0.4236679135087513, 0.16083689309128524, 0.023537106306041743, 0.3726708498456609, 0.982191024686352, 0.026342086661543525, 0.1053683466461741, 0.07902625998463057, 0.7902625998463058, 0.017902955718479163, 0.9757110866571145, 0.8232961054627445, 0.15497338455769308, 0.009685836534855817, 0.6498302251946751, 0.12996604503893502, 0.06498302251946751, 0.09747453377920128, 0.06498302251946751, 0.8584328881495499, 0.12624013061022793, 0.9851333307087365, 0.9889002466567826, 0.9480823917733068, 0.049899073251226674, 0.18674502455254804, 0.11492001510926032, 0.08619001133194525, 0.6033300793236167, 0.974795144175073, 0.9638392178295802, 0.9940504302400732, 0.018506406679516522, 0.055519220038549574, 0.9253203339758262, 0.9646849128020187, 0.030146403525063085, 0.7307389231464589, 0.03877390204450598, 0.04772172559323813, 0.06859998054027981, 0.11333909828394056, 0.0028426067966292024, 0.04548170874606724, 0.9067915681247155, 0.042639101949438034, 0.9553068617967816, 0.06439921429060666, 0.8729671270504459, 0.021466404763535552, 0.042932809527071104, 0.7451446521554544, 0.22768308815861107, 0.02069846255987373, 0.005174615639968433, 0.9561465740573316, 0.0663760441960323, 0.2986921988821453, 0.005105849553540946, 0.012764623883852364, 0.6203607207552249, 0.02895254185201718, 0.11581016740806872, 0.8589254082765096, 0.9813087258295311, 0.9730934685267382, 0.009540132044379786, 0.009540132044379786, 0.930729663981411, 0.08282967593442127, 0.8697115973114233, 0.9753459642644418, 0.044620097520412925, 0.9481770723087747, 0.011155024380103231, 0.9142801648522707, 0.06772445665572376, 0.48636494468608216, 0.026723348609125393, 0.005344669721825079, 0.2939568347003793, 0.18706344026387775, 0.6600456464104526, 0.11567810297915149, 0.061241348636021375, 0.10206891439336896, 0.06804594292891264, 0.7251633901415516, 0.14503267802831032, 0.08531334001665312, 0.04265667000832656, 0.43436416549146833, 0.06625894049869856, 0.022086313499566187, 0.48589889699045613, 0.028930669590178835, 0.8468796007306895, 0.09731225225787427, 0.023670547846509956, 0.02323589536693226, 0.16729844664191226, 0.05111896980725097, 0.3067138188435058, 0.45077637011848576, 0.9389462998559238, 0.05443166955686515, 0.2843889713254251, 0.1777431070783907, 0.005924770235946356, 0.05924770235946356, 0.46805684863976216, 0.19524089305342107, 0.25316950967366686, 0.008582017277073454, 0.045055590704635634, 0.49990250638952866, 0.9905757841406511, 0.20674008616822168, 0.7826588976368392, 0.0073835745060079165, 0.9628364765186622, 0.01851608608689735, 0.9354887376995513, 0.9869270480451946, 0.9659493635229183, 0.9268521423678392, 0.06527127763153796, 0.13559668360796234, 0.8587789961837616, 0.8981367384120453, 0.9700409294266948, 0.049149691300106685, 0.950227365135396, 0.9905029219792422, 0.26020364580184546, 0.019712397409230715, 0.685991429841229, 0.031539835854769147, 0.003942479481846143, 0.06251366929408177, 0.9377050394112264, 0.2588919160888662, 0.37395498990614, 0.19260558008543666, 0.09880416121265907, 0.07504113509822208, 0.9877208117038783, 0.6938942786220287, 0.00667206037136566, 0.2802265355973577, 0.01334412074273132, 0.00667206037136566, 0.7874827192375263, 0.014062191414955828, 0.09374794276637219, 0.10312273704300941, 0.014000133018059862, 0.9380089122100107, 0.028000266036119725, 0.018666844024079816, 0.0836550487576313, 0.9202055363339444, 0.8786085581991903, 0.009447403851604195, 0.10392144236764615, 0.8847171296021454, 0.10287408483745877, 0.9961602341777475, 0.9542845320875234, 0.3253378787884008, 0.5363678542187149, 0.13189373464394627, 0.39602852874600164, 0.027501981162916782, 0.0055003962325833565, 0.5225376420954189, 0.04400316986066685, 0.23635854401111855, 0.0035811900607745236, 0.75204991276265, 0.007162380121549047, 0.9653129190448569, 0.9840261366158723, 0.05473323995437423, 0.09578316992015491, 0.8483652192928006, 0.9609068244398423, 0.05110061531898722, 0.9368446141814324, 0.8265746288367285, 0.052254717914965595, 0.10925986473129169, 0.019001715605442036, 0.3127074759133703, 0.28631009158302084, 0.36347167654865764, 0.014213976177880467, 0.022336248279526447, 0.04272365581742972, 0.15950164838507097, 0.6949714679635235, 0.09968853024066936, 0.9934994521123349, 0.04869223826639699, 0.8634756919241066, 0.05843068591967639, 0.025969193742078393, 0.9848440035583548, 0.9943341939183928, 0.9657584040035793, 0.018572277000068832, 0.02450726275203068, 0.8822614590731045, 0.04901452550406136, 0.0326763503360409, 0.7534760657535975, 0.010763943796479965, 0.10763943796479965, 0.053819718982399824, 0.06458366277887978, 0.588257766417346, 0.17704845397026917, 0.08566860675980767, 0.0514011640558846, 0.09709108766111535, 0.9520927621071444, 0.20119148932760605, 0.7760243159779091, 0.2972564370924525, 0.08782576550458823, 0.23645398405081447, 0.006755828115737557, 0.3715705463655656, 0.9457794937331676, 0.036376134374352595, 0.3763904927492856, 0.06843463504532465, 0.06843463504532465, 0.15055619709971424, 0.3353297117220908, 0.22051136741606867, 0.4845038495338973, 0.15528969536342863, 0.03726952688722287, 0.1024911989398629, 0.9876802236975029, 0.9779151276707923, 0.018553495370158504, 0.9833352546184007, 0.881508108068016, 0.07894102460310591, 0.02631367486770197, 0.866775042854959, 0.015759546233726527, 0.11031682363608569, 0.9175594911669228, 0.0566394747633903, 0.02265578990535612, 0.4299258911121912, 0.04573679692682885, 0.5259731646585318, 0.5973410622001426, 0.011598855576701799, 0.16238397807382518, 0.2261776837456851, 0.975509613211587, 0.06175525773844955, 0.6854833608967901, 0.16982695878073628, 0.02470210309537982, 0.05866749485152708, 0.9611536147233228, 0.20479602272448286, 0.7485647727170753, 0.028247727272342465, 0.010592897727128424, 0.007061931818085616, 0.15735450382777427, 0.04495842966507836, 0.8092517339714105, 0.9791436423930504, 0.05003211721999424, 0.8205267224079056, 0.12007708132798618, 0.06335594394306818, 0.6476385380846968, 0.2886215224073106, 0.9932112515354072, 0.9875533535372273, 0.8322914353476195, 0.09964052395006712, 0.05275086562062377, 0.011722414582360837, 0.09757266264238398, 0.8537607981208598, 0.024393165660595996, 0.03618661694701486, 0.9589453490958937, 0.9976608952294341, 0.9059002623929843, 0.07877393586025949, 0.005875263988508226, 0.7579090545175612, 0.11163001578165631, 0.12338054375867276, 0.043621065688708396, 0.950939232013843, 0.9578430422831302, 0.9623135455759062, 0.9300645933229652, 0.9723360778121678, 0.011306233462932183, 0.9783876913441728, 0.011510443427578503, 0.08398775137092347, 0.6525202221894824, 0.2584238503720722, 0.0734018596975671, 0.008155762188618567, 0.7829531701073824, 0.0244672865658557, 0.10602490845204136, 0.14083282698542055, 0.08802051686588784, 0.017604103373177568, 0.7569764450466354, 0.9657248660123152, 0.9803086456743012, 0.033415239661270774, 0.9690419501768525, 0.09218754505950179, 0.672969078934363, 0.20742197638387902, 0.013828131758925269, 0.013828131758925269, 0.9494206088397977, 0.9407312066356852, 0.9547898760949589, 0.06302798974388321, 0.07353265470119708, 0.18908396923164963, 0.6722985572680875, 0.08694937892599718, 0.891231133991471, 0.021737344731499294, 0.9725022344064336, 0.9909149560379322, 0.9651707410180241, 0.023733706746344858, 0.007911235582114953, 0.3266725374670758, 0.2937860404066319, 0.37709849962642306, 0.9475475555898446, 0.02070487863497503, 0.062114635904925095, 0.9110146599389014, 0.4138498648321059, 0.0965649684608247, 0.1287532912810996, 0.18393327325871373, 0.17473660959577803, 0.8907639915537964, 0.1056838634046877, 0.9847959467821873, 0.2424489405745041, 0.08211980245265461, 0.11340353672033257, 0.3519420105113769, 0.21116520630682617, 0.05571960962604987, 0.9286601604341644, 0.01857320320868329, 0.9601053265793713, 0.08315935082449953, 0.020789837706124883, 0.8939630213633699, 0.46730371077011823, 0.5302099795276342, 0.11345007609118454, 0.11345007609118454, 0.7374254945926996, 0.028362519022796136, 0.007090629755699034, 0.9900976926288693, 0.05261315514787149, 0.20788612521841904, 0.651889824758993, 0.08726084268427466, 0.024499378903389157, 0.9799751561355663, 0.4304171430905001, 0.5358254230310308, 0.03513609331351021, 0.9849106320642329, 0.9774542527105018, 0.014374327245742674, 0.02465060846439712, 0.9613737301114876, 0.9370334888526882, 0.034704944031581045, 0.9714167576413745, 0.9667854212667013, 0.9945185279927562, 0.01355232175022333, 0.03388080437555833, 0.22361330887868494, 0.7047207310116131, 0.02710464350044666, 0.3374159705515464, 0.42058187878608244, 0.0617803889742268, 0.03564253210051546, 0.14257012840206185, 0.8408578918988324, 0.08736185889857999, 0.065521394173935, 0.9202739772678576, 0.03539515297184068, 0.03539515297184068, 0.9579642680825742, 0.02902922024492649, 0.02902922024492649, 0.19443738807514463, 0.12791933425996357, 0.15861997448235482, 0.26095544189032566, 0.25583866851992715, 0.10756127721060801, 0.8604902176848641, 0.9924718250584684, 0.21472988724850858, 0.16104741543638146, 0.16104741543638146, 0.23262404451921764, 0.22815050520154037, 0.16198575377545033, 0.3523900608448393, 0.3779667588093841, 0.09662308119939142, 0.011367421317575462, 0.23161047055910444, 0.046322094111820894, 0.710272109714587, 0.7160408579762767, 0.035802042898813835, 0.07160408579762767, 0.17304320734426687, 0.9711217192192984, 0.019773479075010012, 0.9689004746754906, 0.0757939216519494, 0.9221593800987177, 0.030659108759264607, 0.9548122442170978, 0.004379872679894944, 0.01313961803968483, 0.07196080123288243, 0.9354904160274715, 0.9858754250863933, 0.9935195837656682, 0.006927062137235798, 0.9109086710465074, 0.05541649709788638, 0.020781186411707394, 0.9585715151191601, 0.1176101461770328, 0.2576222249592147, 0.05600483151287276, 0.21841884290020377, 0.3528304385310984, 0.9769979111533078, 0.019261885748319704, 0.4218352978882015, 0.28892828622479555, 0.23692119470433234, 0.032745205772143494, 0.9721530123132657, 0.8953671870874867, 0.9880522323290076, 0.8409737002012255, 0.014753924564933782, 0.14753924564933782, 0.9341398604556893, 0.9768377709537877, 0.10531089416882378, 0.8775907847401981, 0.12291476447773882, 0.017559252068248404, 0.12291476447773882, 0.7374885868664329, 0.9916584057638392, 0.06339741904401315, 0.9129228342337893, 0.025358967617605258, 0.984288900951343, 0.3176278355585989, 0.20212680444638112, 0.01237511047630905, 0.37950338794014415, 0.0907508101595997, 0.12414046493124643, 0.020690077488541073, 0.8586382157744544, 0.03503739680266681, 0.05255609520400022, 0.9109723168693371, 0.006791929000602918, 0.17432617768214156, 0.03169566866948029, 0.16753424868153866, 0.6203295153883999, 0.10670314673998638, 0.8803009606048876, 0.009500279674922684, 0.931027408142423, 0.057001678049536104, 0.964587947890535, 0.031115740254533387, 0.9970465778112013, 0.49658337409254205, 0.3103646088078388, 0.1533566302344615, 0.014605393355663, 0.025559438372410252, 0.9421645658739322, 0.02944264268356038, 0.9394340352017941, 0.03914308480007476, 0.027476157914557722, 0.9341893690949625, 0.054952315829115445, 0.9563865223804273, 0.04158202271219249, 0.118044143495275, 0.014755517936909376, 0.5016876098549188, 0.044266553810728124, 0.32462139461200623, 0.9750178976670131, 0.9581001577753508, 0.9012747031325754, 0.04715972283833243, 0.03143981522555496, 0.00523996920425916, 0.01047993840851832, 0.2925439282236134, 0.1300195236549393, 0.032504880913734824, 0.4984081740106006, 0.043339841218313094, 0.9527549427828544, 0.03528722010306868, 0.9740594636073542, 0.9781769023839685], \"Term\": [\"a\\u80a1\", \"a\\u80a1\", \"a\\u80a1\", \"a\\u80a1\", \"a\\u80a1\", \"ipo\", \"ipo\", \"it\", \"it\", \"mlf\", \"msci\", \"ppp\", \"ppp\", \"ppp\", \"qfii\", \"\\u4e00\\u5b63\\u5ea6\", \"\\u4e00\\u5b63\\u5ea6\", \"\\u4e00\\u5b63\\u5ea6\", \"\\u4e00\\u5b63\\u5ea6\", \"\\u4e07\\u4ebf\\u5143\", \"\\u4e07\\u4ebf\\u5143\", \"\\u4e07\\u4ebf\\u5143\", \"\\u4e07\\u79d1\", \"\\u4e07\\u79d1\", \"\\u4e0a\\u5347\", \"\\u4e0a\\u5347\", \"\\u4e0a\\u5347\", \"\\u4e0a\\u5347\", \"\\u4e0a\\u5347\", \"\\u4e0a\\u5468\", \"\\u4e0a\\u5468\", \"\\u4e0a\\u5468\", \"\\u4e0a\\u5e02\", \"\\u4e0a\\u5e02\", \"\\u4e0a\\u5e02\", \"\\u4e0a\\u5e02\", \"\\u4e0a\\u5e02\", \"\\u4e0a\\u5e02\\u516c\\u53f8\", \"\\u4e0a\\u5e02\\u516c\\u53f8\", \"\\u4e0a\\u5e02\\u516c\\u53f8\", \"\\u4e0a\\u5e02\\u516c\\u53f8\", \"\\u4e0a\\u5e02\\u516c\\u53f8\", \"\\u4e0a\\u6d77\", \"\\u4e0a\\u6d77\", \"\\u4e0a\\u6d77\", \"\\u4e0a\\u6d77\", \"\\u4e0a\\u6da8\", \"\\u4e0a\\u6da8\", \"\\u4e0a\\u6da8\", \"\\u4e0a\\u6da8\", \"\\u4e0a\\u6da8\", \"\\u4e0b\\u8dcc\", \"\\u4e0b\\u8dcc\", \"\\u4e0b\\u8f7d\\u91cf\", \"\\u4e0b\\u964d\", \"\\u4e0b\\u964d\", \"\\u4e0b\\u964d\", \"\\u4e0b\\u964d\", \"\\u4e0b\\u964d\", \"\\u4e1a\\u52a1\", \"\\u4e1a\\u52a1\", \"\\u4e1a\\u52a1\", \"\\u4e1a\\u52a1\", \"\\u4e1a\\u52a1\", \"\\u4e1a\\u7ee9\", \"\\u4e1a\\u7ee9\", \"\\u4e1a\\u7ee9\", \"\\u4e1a\\u7ee9\", \"\\u4e1a\\u7ee9\", \"\\u4e1c\\u98ce\\u6c7d\\u8f66\", \"\\u4e2a\\u80a1\", \"\\u4e2a\\u80a1\", \"\\u4e2a\\u80a1\", \"\\u4e2d\\u5174\", \"\\u4e2d\\u5174\", \"\\u4e2d\\u56fd\", \"\\u4e2d\\u56fd\", \"\\u4e2d\\u56fd\", \"\\u4e2d\\u56fd\", \"\\u4e2d\\u56fd\", \"\\u4e58\\u7528\\u8f66\", \"\\u4e71\\u8c61\", \"\\u4e8c\\u5b63\\u5ea6\", \"\\u4e8c\\u5b63\\u5ea6\", \"\\u4e91\\u7f51\", \"\\u4e94\\u5927\", \"\\u4e94\\u5927\", \"\\u4e94\\u5927\", \"\\u4ea7\\u54c1\", \"\\u4ea7\\u54c1\", \"\\u4ea7\\u54c1\", \"\\u4ea7\\u54c1\", \"\\u4ea7\\u54c1\", \"\\u4ea7\\u80fd\", \"\\u4ea7\\u80fd\", \"\\u4ea7\\u80fd\", \"\\u4ea7\\u80fd\", \"\\u4ea7\\u80fd\", \"\\u4eba\\u6570\", \"\\u4eba\\u6570\", \"\\u4eba\\u6c11\\u5e01\", \"\\u4eba\\u6c11\\u5e01\", \"\\u4eba\\u6c11\\u5e01\", \"\\u4eba\\u6c11\\u5e01\", \"\\u4ebf\\u80a1\", \"\\u4ebf\\u80a1\", \"\\u4f01\\u4e1a\", \"\\u4f01\\u4e1a\", \"\\u4f01\\u4e1a\", \"\\u4f01\\u4e1a\", \"\\u4f01\\u4e1a\", \"\\u4f18\\u52bf\", \"\\u4f18\\u52bf\", \"\\u4f18\\u52bf\", \"\\u4f18\\u52bf\", \"\\u4f18\\u52bf\", \"\\u4f30\\u503c\", \"\\u4f30\\u503c\", \"\\u4f30\\u503c\", \"\\u4f30\\u503c\", \"\\u4f30\\u503c\", \"\\u4f4f\\u623f\", \"\\u4f9b\\u5e94\\u5546\", \"\\u4f9b\\u5e94\\u5546\", \"\\u4f9b\\u5e94\\u5546\", \"\\u4fdd\\u6301\", \"\\u4fdd\\u6301\", \"\\u4fdd\\u6301\", \"\\u4fdd\\u6301\", \"\\u4fdd\\u8350\", \"\\u4fe1\\u606f\", \"\\u4fe1\\u606f\", \"\\u4fe1\\u606f\", \"\\u4fe1\\u606f\", \"\\u4fe1\\u606f\", \"\\u4fe1\\u606f\\u5316\", \"\\u503a\\u52a1\", \"\\u503a\\u52a1\", \"\\u504f\\u597d\", \"\\u5148\\u751f\", \"\\u5148\\u751f\", \"\\u5165\\u6469\", \"\\u5168\\u7403\", \"\\u5168\\u7403\", \"\\u5168\\u7403\", \"\\u5168\\u7403\", \"\\u516c\\u5171\", \"\\u516c\\u5171\", \"\\u516c\\u52df\", \"\\u516c\\u544a\", \"\\u516c\\u544a\", \"\\u516c\\u544a\", \"\\u516c\\u544a\", \"\\u516c\\u79ef\\u91d1\", \"\\u5173\\u8054\\u65b9\", \"\\u519b\\u6c11\", \"\\u51c0\\u5229\\u6da6\", \"\\u51c0\\u5229\\u6da6\", \"\\u51c0\\u5229\\u6da6\", \"\\u51c0\\u5229\\u6da6\", \"\\u51c0\\u5229\\u6da6\", \"\\u51c6\\u5907\\u91d1\\u7387\", \"\\u51cf\\u5c11\", \"\\u51cf\\u5c11\", \"\\u51cf\\u5c11\", \"\\u51cf\\u5c11\", \"\\u5206\\u7ea2\", \"\\u5206\\u7ea2\", \"\\u521b\\u4e1a\\u677f\", \"\\u521b\\u4e1a\\u677f\", \"\\u521b\\u4e1a\\u677f\", \"\\u521b\\u65b0\", \"\\u521b\\u65b0\", \"\\u521b\\u65b0\", \"\\u521b\\u65b0\", \"\\u521b\\u65b0\", \"\\u5229\\u7387\", \"\\u5229\\u7387\", \"\\u52a0\\u606f\", \"\\u52df\\u8d44\", \"\\u52df\\u96c6\", \"\\u52df\\u96c6\", \"\\u5316\\u5b66\", \"\\u5316\\u5b66\", \"\\u5316\\u5b66\", \"\\u5316\\u5b66\", \"\\u5317\\u4e0a\", \"\\u5317\\u5411\", \"\\u533a\\u5757\", \"\\u5356\\u51fa\", \"\\u5356\\u51fa\", \"\\u5356\\u51fa\", \"\\u53cc\\u65b9\", \"\\u53cc\\u65b9\", \"\\u53d1\\u5c55\", \"\\u53d1\\u5c55\", \"\\u53d1\\u5c55\", \"\\u53d1\\u5c55\", \"\\u53d1\\u5c55\", \"\\u53d1\\u884c\", \"\\u53d1\\u884c\", \"\\u53d1\\u884c\", \"\\u53d1\\u884c\", \"\\u53d1\\u884c\\u4eba\", \"\\u53ec\\u5f00\", \"\\u53ec\\u5f00\", \"\\u53ec\\u5f00\", \"\\u53ec\\u5f00\", \"\\u5408\\u4f5c\", \"\\u5408\\u4f5c\", \"\\u5408\\u4f5c\", \"\\u5408\\u4f5c\", \"\\u540c\\u4e1a\", \"\\u540c\\u6bd4\", \"\\u540c\\u6bd4\", \"\\u540c\\u6bd4\", \"\\u540c\\u6bd4\", \"\\u540c\\u6bd4\", \"\\u5458\\u5de5\", \"\\u5458\\u5de5\", \"\\u5458\\u5de5\", \"\\u5468\\u8f6c\", \"\\u54c1\\u724c\", \"\\u54c1\\u724c\", \"\\u54c1\\u724c\", \"\\u54c1\\u79cd\", \"\\u5546\\u4e1a\\u94f6\\u884c\", \"\\u5546\\u4e1a\\u94f6\\u884c\", \"\\u56de\\u62e8\", \"\\u56de\\u8d2d\", \"\\u56de\\u8d2d\", \"\\u56de\\u8d2d\", \"\\u56fd\\u4ea7\", \"\\u56fd\\u4ea7\", \"\\u56fd\\u5185\", \"\\u56fd\\u5185\", \"\\u56fd\\u5185\", \"\\u56fd\\u5185\", \"\\u56fd\\u5185\", \"\\u56fd\\u5bb6\", \"\\u56fd\\u5bb6\", \"\\u56fd\\u5bb6\", \"\\u56fd\\u5bb6\", \"\\u56fd\\u5bb6\", \"\\u56fd\\u9645\", \"\\u56fd\\u9645\", \"\\u56fd\\u9645\", \"\\u56fd\\u9645\", \"\\u57ce\\u5e02\", \"\\u57ce\\u5e02\", \"\\u57ce\\u5e02\", \"\\u57ce\\u5e02\", \"\\u57fa\\u91d1\", \"\\u57fa\\u91d1\", \"\\u57fa\\u91d1\", \"\\u57fa\\u91d1\", \"\\u589e\\u52a0\", \"\\u589e\\u52a0\", \"\\u589e\\u52a0\", \"\\u589e\\u52a0\", \"\\u589e\\u52a0\", \"\\u589e\\u6301\", \"\\u589e\\u6301\", \"\\u589e\\u901f\", \"\\u589e\\u901f\", \"\\u589e\\u901f\", \"\\u589e\\u901f\", \"\\u589e\\u901f\", \"\\u589e\\u957f\", \"\\u589e\\u957f\", \"\\u589e\\u957f\", \"\\u589e\\u957f\", \"\\u589e\\u957f\", \"\\u5916\\u6c47\", \"\\u5916\\u8d44\", \"\\u5916\\u8d44\", \"\\u5916\\u8d44\", \"\\u5927\\u76d8\", \"\\u5927\\u76d8\", \"\\u5927\\u901a\", \"\\u592e\\u884c\", \"\\u5934\\u6761\", \"\\u5b58\\u6b3e\", \"\\u5b58\\u6b3e\", \"\\u5b9e\\u4f53\", \"\\u5b9e\\u4f53\", \"\\u5ba1\\u8ba1\\u62a5\\u544a\", \"\\u5bb6\\u6570\", \"\\u5bcc\\u58eb\\u5eb7\", \"\\u5bcc\\u58eb\\u5eb7\", \"\\u5bcc\\u8054\", \"\\u5de5\\u4e1a\", \"\\u5de5\\u4e1a\", \"\\u5de5\\u4e1a\", \"\\u5de5\\u4e1a\", \"\\u5de5\\u4e1a\", \"\\u5de5\\u5177\", \"\\u5de5\\u5177\", \"\\u5e02\\u573a\", \"\\u5e02\\u573a\", \"\\u5e02\\u573a\", \"\\u5e02\\u573a\", \"\\u5e02\\u573a\", \"\\u5e02\\u573a\\u5316\", \"\\u5e73\\u53f0\", \"\\u5e73\\u53f0\", \"\\u5e73\\u53f0\", \"\\u5e73\\u53f0\", \"\\u5e73\\u53f0\", \"\\u5e73\\u5b89\", \"\\u5e73\\u5b89\", \"\\u5e73\\u5b89\", \"\\u5e73\\u5b89\", \"\\u5e74\\u5ea6\", \"\\u5e74\\u5ea6\", \"\\u5e74\\u5ea6\", \"\\u5e74\\u5ea6\", \"\\u5e74\\u672b\", \"\\u5e74\\u672b\", \"\\u5e94\\u7528\", \"\\u5e94\\u7528\", \"\\u5e94\\u7528\", \"\\u5efa\\u7acb\", \"\\u5efa\\u7acb\", \"\\u5f00\\u6237\", \"\\u611f\\u8c22\\u60a8\", \"\\u6210\\u672c\", \"\\u6210\\u672c\", \"\\u6210\\u672c\", \"\\u6211\\u56fd\", \"\\u6211\\u56fd\", \"\\u6211\\u56fd\", \"\\u6211\\u56fd\", \"\\u6211\\u56fd\", \"\\u6218\\u7565\", \"\\u6218\\u7565\", \"\\u6218\\u7565\", \"\\u6218\\u7565\", \"\\u623f\\u4ef7\", \"\\u623f\\u4f01\", \"\\u623f\\u5730\\u4ea7\", \"\\u623f\\u5730\\u4ea7\", \"\\u623f\\u5730\\u4ea7\", \"\\u6253\\u9020\", \"\\u6279\\u6587\", \"\\u6279\\u6587\", \"\\u6280\\u672f\", \"\\u6280\\u672f\", \"\\u6280\\u672f\", \"\\u6280\\u672f\", \"\\u6295\\u8d44\", \"\\u6295\\u8d44\", \"\\u6295\\u8d44\", \"\\u6295\\u8d44\", \"\\u6295\\u8d44\", \"\\u6295\\u8d44\\u8005\", \"\\u6295\\u8d44\\u8005\", \"\\u6295\\u8d44\\u8005\", \"\\u6295\\u8d44\\u8005\", \"\\u6296\\u97f3\", \"\\u62ab\\u9732\", \"\\u62ab\\u9732\", \"\\u62ab\\u9732\", \"\\u62ab\\u9732\", \"\\u62db\\u80a1\", \"\\u62db\\u80a1\\u4e66\", \"\\u6301\\u4ed3\", \"\\u6301\\u4ed3\", \"\\u6307\\u6570\", \"\\u6307\\u6570\", \"\\u6307\\u6570\", \"\\u6307\\u6570\", \"\\u63d0\\u4f9b\", \"\\u63d0\\u4f9b\", \"\\u63d0\\u4f9b\", \"\\u63d0\\u4f9b\", \"\\u63d0\\u4f9b\", \"\\u63d0\\u5347\", \"\\u63d0\\u5347\", \"\\u63d0\\u5347\", \"\\u63d0\\u5347\", \"\\u63d0\\u5347\", \"\\u6469\\u6839\", \"\\u652f\\u51fa\", \"\\u652f\\u51fa\", \"\\u6536\\u5165\", \"\\u6536\\u5165\", \"\\u6536\\u5165\", \"\\u6536\\u5165\", \"\\u6536\\u5165\", \"\\u6536\\u5230\", \"\\u6536\\u5230\", \"\\u653f\\u7b56\", \"\\u653f\\u7b56\", \"\\u653f\\u7b56\", \"\\u653f\\u7b56\", \"\\u653f\\u7b56\", \"\\u6570\\u636e\", \"\\u6570\\u636e\", \"\\u6570\\u636e\", \"\\u6570\\u636e\", \"\\u6570\\u636e\", \"\\u6570\\u636e\\u4e2d\\u5fc3\", \"\\u6574\\u6cbb\", \"\\u65b0\\u80a1\", \"\\u65b0\\u80a1\", \"\\u65b0\\u80fd\\u6e90\", \"\\u65b0\\u80fd\\u6e90\", \"\\u65b0\\u80fd\\u6e90\", \"\\u65d7\\u4e0b\", \"\\u65d7\\u4e0b\", \"\\u65d7\\u4e0b\", \"\\u667a\\u6167\", \"\\u667a\\u6167\", \"\\u667a\\u6167\", \"\\u6709\\u9650\\u516c\\u53f8\", \"\\u6709\\u9650\\u516c\\u53f8\", \"\\u6709\\u9650\\u516c\\u53f8\", \"\\u670d\\u52a1\", \"\\u670d\\u52a1\", \"\\u670d\\u52a1\", \"\\u670d\\u52a1\", \"\\u671f\\u4e3a\", \"\\u673a\\u6784\", \"\\u673a\\u6784\", \"\\u673a\\u6784\", \"\\u673a\\u6784\", \"\\u673a\\u6784\", \"\\u6749\\u6749\", \"\\u677f\\u5757\", \"\\u677f\\u5757\", \"\\u677f\\u5757\", \"\\u677f\\u5757\", \"\\u677f\\u5757\", \"\\u6846\\u67b6\", \"\\u6846\\u67b6\", \"\\u6846\\u67b6\", \"\\u697c\\u5e02\", \"\\u6982\\u5ff5\", \"\\u6982\\u5ff5\", \"\\u6982\\u5ff5\", \"\\u6982\\u5ff5\\u80a1\", \"\\u6982\\u5ff5\\u80a1\", \"\\u6982\\u5ff5\\u80a1\", \"\\u6c47\\u5151\", \"\\u6c47\\u7387\", \"\\u6c7d\\u8f66\", \"\\u6c7d\\u8f66\", \"\\u6c7d\\u8f66\", \"\\u6c7d\\u8f66\", \"\\u6ce2\\u52a8\", \"\\u6ce2\\u52a8\", \"\\u6ce2\\u52a8\", \"\\u6cf0\\u56fd\", \"\\u6cf0\\u56fd\", \"\\u6d41\\u52a8\\u6027\", \"\\u6d4b\\u8bd5\", \"\\u6d4b\\u8bd5\", \"\\u6da8\\u5e45\", \"\\u6da8\\u5e45\", \"\\u6da8\\u5e45\", \"\\u6da8\\u5e45\", \"\\u6df7\\u5408\", \"\\u6df7\\u5408\", \"\\u6e05\\u7406\", \"\\u6e38\\u8d44\", \"\\u7126\\u5316\", \"\\u7164\\u70ad\", \"\\u7164\\u70ad\", \"\\u7279\\u65af\\u62c9\", \"\\u7279\\u65af\\u62c9\", \"\\u72ec\\u89d2\\u517d\", \"\\u72ec\\u89d2\\u517d\", \"\\u72ec\\u89d2\\u517d\", \"\\u73af\\u4fdd\", \"\\u73af\\u4fdd\", \"\\u73af\\u4fdd\", \"\\u73af\\u4fdd\", \"\\u73af\\u4fdd\", \"\\u73af\\u6bd4\", \"\\u73af\\u6bd4\", \"\\u73af\\u6bd4\", \"\\u73af\\u6bd4\", \"\\u7528\\u6237\", \"\\u7533\\u62a5\", \"\\u7533\\u8d2d\", \"\\u7533\\u8d2d\", \"\\u7535\\u5b50\", \"\\u7535\\u5b50\", \"\\u7535\\u5b50\", \"\\u7535\\u5b50\", \"\\u7535\\u5b50\", \"\\u767d\\u9152\", \"\\u767d\\u9a6c\", \"\\u767d\\u9a6c\\u80a1\", \"\\u767e\\u5206\\u70b9\", \"\\u767e\\u5206\\u70b9\", \"\\u767e\\u5206\\u70b9\", \"\\u767e\\u5206\\u70b9\", \"\\u770b\\u597d\", \"\\u770b\\u597d\", \"\\u770b\\u597d\", \"\\u77ed\\u7ebf\", \"\\u77f3\\u58a8\", \"\\u79c1\\u52df\", \"\\u79c1\\u52df\", \"\\u79c1\\u52df\", \"\\u79d1\\u6280\", \"\\u79d1\\u6280\", \"\\u79d1\\u6280\", \"\\u79d8\\u4e66\", \"\\u79df\\u8d41\", \"\\u79df\\u8d41\", \"\\u79df\\u8d41\", \"\\u7ba1\\u7406\", \"\\u7ba1\\u7406\", \"\\u7ba1\\u7406\", \"\\u7ba1\\u7406\", \"\\u7ba1\\u7406\", \"\\u7cfb\\u7edf\", \"\\u7cfb\\u7edf\", \"\\u7eaf\\u78b1\", \"\\u7ecf\\u6d4e\", \"\\u7ecf\\u6d4e\", \"\\u7ecf\\u6d4e\", \"\\u7ecf\\u6d4e\", \"\\u7ecf\\u6d4e\", \"\\u7f51\\u4e0a\", \"\\u7f51\\u4e0a\", \"\\u7f51\\u4e0a\", \"\\u7f5a\\u5355\", \"\\u7f8e\\u5143\", \"\\u7f8e\\u5143\", \"\\u7f8e\\u5143\", \"\\u7f8e\\u56fd\", \"\\u7f8e\\u56fd\", \"\\u80a1\\u4e1c\", \"\\u80a1\\u4e1c\", \"\\u80a1\\u4e1c\", \"\\u80a1\\u4e1c\", \"\\u80a1\\u4e1c\", \"\\u80a1\\u4e1c\\u5927\\u4f1a\", \"\\u80a1\\u4efd\", \"\\u80a1\\u4efd\", \"\\u80a1\\u4efd\", \"\\u80a1\\u4efd\", \"\\u80a1\\u672c\", \"\\u80a1\\u672c\", \"\\u80a1\\u7968\", \"\\u80a1\\u7968\", \"\\u80a1\\u7968\", \"\\u80a1\\u901a\", \"\\u817e\\u8baf\", \"\\u817e\\u8baf\", \"\\u8425\\u6536\", \"\\u8425\\u6536\", \"\\u8425\\u9500\", \"\\u8425\\u9500\", \"\\u84dd\\u7b79\", \"\\u84dd\\u7b79\\u80a1\", \"\\u878d\\u5408\", \"\\u878d\\u8d44\", \"\\u878d\\u8d44\", \"\\u878d\\u8d44\", \"\\u878d\\u8d44\", \"\\u878d\\u8d44\", \"\\u884c\\u4e1a\", \"\\u884c\\u4e1a\", \"\\u884c\\u4e1a\", \"\\u884c\\u4e1a\", \"\\u884c\\u4e1a\", \"\\u8865\\u5145\", \"\\u8865\\u5145\", \"\\u8865\\u5145\", \"\\u8865\\u8d34\", \"\\u8865\\u8d34\", \"\\u8865\\u8d34\", \"\\u89c4\\u5212\", \"\\u89c4\\u5212\", \"\\u89c4\\u5212\", \"\\u89c4\\u6a21\", \"\\u89c4\\u6a21\", \"\\u89c4\\u6a21\", \"\\u89c4\\u6a21\", \"\\u89c4\\u6a21\", \"\\u89c6\\u7f51\", \"\\u89c6\\u7f51\", \"\\u89c6\\u9891\", \"\\u8bb0\\u8005\", \"\\u8bb0\\u8005\", \"\\u8bb0\\u8005\", \"\\u8bb0\\u8005\", \"\\u8bb0\\u8005\", \"\\u8bc1\\u5238\", \"\\u8bc1\\u5238\", \"\\u8bc1\\u5238\", \"\\u8bc1\\u5238\", \"\\u8bc1\\u5238\", \"\\u8bc1\\u5238\\u62a5\", \"\\u8bc1\\u5238\\u62a5\", \"\\u8bc1\\u5238\\u62a5\", \"\\u8bc1\\u5238\\u65e5\\u62a5\", \"\\u8bc1\\u5238\\u65e5\\u62a5\", \"\\u8bc1\\u5238\\u65e5\\u62a5\", \"\\u8bc1\\u5238\\u65e5\\u62a5\", \"\\u8be2\\u4ef7\", \"\\u8bf4\\u660e\\u4e66\", \"\\u8bf4\\u660e\\u4e66\", \"\\u8c03\\u63a7\", \"\\u8c03\\u63a7\", \"\\u8c03\\u7814\", \"\\u8c03\\u7814\", \"\\u8c03\\u7814\", \"\\u8c03\\u7814\", \"\\u8d22\\u653f\\u90e8\", \"\\u8d22\\u653f\\u90e8\", \"\\u8d27\\u5e01\", \"\\u8d27\\u5e01\\u653f\\u7b56\", \"\\u8d2d\\u4e70\", \"\\u8d2d\\u4e70\", \"\\u8d2d\\u4e70\", \"\\u8d2d\\u4e70\", \"\\u8d3e\\u8dc3\\u4ead\", \"\\u8d44\\u4ea7\", \"\\u8d44\\u4ea7\", \"\\u8d44\\u4ea7\", \"\\u8d44\\u4ea7\", \"\\u8d44\\u4ea7\", \"\\u8d44\\u7ba1\", \"\\u8d44\\u91d1\", \"\\u8d44\\u91d1\", \"\\u8d44\\u91d1\", \"\\u8d44\\u91d1\", \"\\u8d44\\u91d1\", \"\\u8d44\\u91d1\\u989d\", \"\\u8d75\\u51ef\", \"\\u8f6c\\u589e\", \"\\u8f6f\\u4ef6\", \"\\u8f6f\\u4ef6\", \"\\u8f6f\\u4ef6\", \"\\u8fc7\\u4f1a\", \"\\u8fd0\\u7b97\", \"\\u8fdd\\u89c4\", \"\\u8fdd\\u89c4\", \"\\u90e8\\u95e8\", \"\\u90e8\\u95e8\", \"\\u90e8\\u95e8\", \"\\u90e8\\u95e8\", \"\\u914d\\u552e\", \"\\u914d\\u7f6e\", \"\\u914d\\u7f6e\", \"\\u914d\\u7f6e\", \"\\u91cd\\u4ed3\", \"\\u91d1\\u878d\", \"\\u91d1\\u878d\", \"\\u91d1\\u878d\", \"\\u91d1\\u878d\", \"\\u91d1\\u878d\", \"\\u91d1\\u878d\\u673a\\u6784\", \"\\u91d1\\u878d\\u673a\\u6784\", \"\\u91d1\\u878d\\u673a\\u6784\", \"\\u91d1\\u989d\", \"\\u91d1\\u989d\", \"\\u91d1\\u989d\", \"\\u94f6\\u884c\", \"\\u94f6\\u884c\", \"\\u94f6\\u884c\", \"\\u94f6\\u884c\", \"\\u94f6\\u884c\", \"\\u94f6\\u884c\\u4e1a\", \"\\u94f6\\u884c\\u4e1a\", \"\\u9501\\u5b9a\", \"\\u9501\\u5b9a\", \"\\u9501\\u5b9a\", \"\\u95e8\\u5e97\", \"\\u95e8\\u5e97\", \"\\u964d\\u51c6\", \"\\u96c6\\u56e2\", \"\\u96c6\\u56e2\", \"\\u96c6\\u56e2\", \"\\u96c6\\u56e2\", \"\\u96c6\\u56e2\", \"\\u96f6\\u552e\", \"\\u96f6\\u552e\", \"\\u96f6\\u90e8\\u4ef6\", \"\\u96f6\\u90e8\\u4ef6\", \"\\u9707\\u8361\", \"\\u9707\\u8361\", \"\\u9707\\u8361\", \"\\u9752\\u5c9b\", \"\\u9752\\u5c9b\", \"\\u9879\\u76ee\", \"\\u9879\\u76ee\", \"\\u9879\\u76ee\", \"\\u9879\\u76ee\", \"\\u9879\\u76ee\", \"\\u9884\\u544a\", \"\\u9884\\u7b97\", \"\\u9886\\u57df\", \"\\u9886\\u57df\", \"\\u9886\\u57df\", \"\\u9886\\u57df\", \"\\u9886\\u57df\", \"\\u98ce\\u9669\", \"\\u98ce\\u9669\", \"\\u98ce\\u9669\", \"\\u98ce\\u9669\", \"\\u98ce\\u9669\", \"\\u98de\\u673a\", \"\\u98de\\u673a\", \"\\u98df\\u54c1\\u996e\\u6599\", \"\\u9f99\\u864e\\u699c\"]}, \"R\": 30, \"lambda.step\": 0.01, \"plot.opts\": {\"xlab\": \"PC1\", \"ylab\": \"PC2\"}, \"topic.order\": [5, 4, 1, 3, 2]};\n",
       "\n",
       "function LDAvis_load_lib(url, callback){\n",
       "  var s = document.createElement('script');\n",
       "  s.src = url;\n",
       "  s.async = true;\n",
       "  s.onreadystatechange = s.onload = callback;\n",
       "  s.onerror = function(){console.warn(\"failed to load library \" + url);};\n",
       "  document.getElementsByTagName(\"head\")[0].appendChild(s);\n",
       "}\n",
       "\n",
       "if(typeof(LDAvis) !== \"undefined\"){\n",
       "   // already loaded: just create the visualization\n",
       "   !function(LDAvis){\n",
       "       new LDAvis(\"#\" + \"ldavis_el82165597588649366569207622\", ldavis_el82165597588649366569207622_data);\n",
       "   }(LDAvis);\n",
       "}else if(typeof define === \"function\" && define.amd){\n",
       "   // require.js is available: use it to load d3/LDAvis\n",
       "   require.config({paths: {d3: \"https://cdnjs.cloudflare.com/ajax/libs/d3/3.5.5/d3.min\"}});\n",
       "   require([\"d3\"], function(d3){\n",
       "      window.d3 = d3;\n",
       "      LDAvis_load_lib(\"https://cdn.rawgit.com/bmabey/pyLDAvis/files/ldavis.v1.0.0.js\", function(){\n",
       "        new LDAvis(\"#\" + \"ldavis_el82165597588649366569207622\", ldavis_el82165597588649366569207622_data);\n",
       "      });\n",
       "    });\n",
       "}else{\n",
       "    // require.js not available: dynamically load d3 & LDAvis\n",
       "    LDAvis_load_lib(\"https://cdnjs.cloudflare.com/ajax/libs/d3/3.5.5/d3.min.js\", function(){\n",
       "         LDAvis_load_lib(\"https://cdn.rawgit.com/bmabey/pyLDAvis/files/ldavis.v1.0.0.js\", function(){\n",
       "                 new LDAvis(\"#\" + \"ldavis_el82165597588649366569207622\", ldavis_el82165597588649366569207622_data);\n",
       "            })\n",
       "         });\n",
       "}\n",
       "</script>"
      ],
      "text/plain": [
       "PreparedData(topic_coordinates=            Freq  cluster  topics         x         y\n",
       "topic                                                \n",
       "4      26.364643        1       1  0.012010 -0.024087\n",
       "3      24.246583        1       2 -0.136359  0.108574\n",
       "0      23.644552        1       3 -0.174919 -0.124152\n",
       "2      13.407618        1       4  0.201317 -0.101654\n",
       "1      12.336605        1       5  0.097951  0.141319, topic_info=     Category        Freq  Term       Total  loglift  logprob\n",
       "term                                                         \n",
       "385   Default  427.000000   富士康  427.000000  30.0000  30.0000\n",
       "54    Default  436.000000    个股  436.000000  29.0000  29.0000\n",
       "952   Default  441.000000    银行  441.000000  28.0000  28.0000\n",
       "294   Default  391.000000    同比  391.000000  27.0000  27.0000\n",
       "344   Default  466.000000    增长  466.000000  26.0000  26.0000\n",
       "788   Default  779.000000    股份  779.000000  25.0000  25.0000\n",
       "277   Default  351.000000    发行  351.000000  24.0000  24.0000\n",
       "651   Default  176.000000   流动性  176.000000  23.0000  23.0000\n",
       "876   Default  168.000000  货币政策  168.000000  22.0000  22.0000\n",
       "335   Default  380.000000    基金  380.000000  21.0000  21.0000\n",
       "122   Default  638.000000    企业  638.000000  20.0000  20.0000\n",
       "879   Default  288.000000    购买  288.000000  19.0000  19.0000\n",
       "207   Default  189.000000    减少  189.000000  18.0000  18.0000\n",
       "864   Default  228.000000    调研  228.000000  17.0000  17.0000\n",
       "495   Default  308.000000    披露  308.000000  16.0000  16.0000\n",
       "964   Default  121.000000    降准  121.000000  15.0000  15.0000\n",
       "3     Default  117.000000   mlf  117.000000  14.0000  14.0000\n",
       "421   Default  214.000000    年度  214.000000  13.0000  13.0000\n",
       "472   Default  279.000000    战略  279.000000  12.0000  12.0000\n",
       "437   Default  157.000000    开户  157.000000  11.0000  11.0000\n",
       "347   Default  100.000000    外汇  100.000000  10.0000  10.0000\n",
       "891   Default  519.000000    资金  519.000000   9.0000   9.0000\n",
       "491   Default  351.000000   投资者  351.000000   8.0000   8.0000\n",
       "357   Default   95.000000    央行   95.000000   7.0000   7.0000\n",
       "337   Default  215.000000    增加  215.000000   6.0000   6.0000\n",
       "613   Default  283.000000    板块  283.000000   5.0000   5.0000\n",
       "935   Default  131.000000    配售  131.000000   4.0000   4.0000\n",
       "951   Default  171.000000    金额  171.000000   3.0000   3.0000\n",
       "820   Default  147.000000    融资  147.000000   2.0000   2.0000\n",
       "299   Default  103.000000    员工  103.000000   1.0000   1.0000\n",
       "...       ...         ...   ...         ...      ...      ...\n",
       "532    Topic5   27.274177    支出   34.792724   1.8491  -5.7041\n",
       "16     Topic5   22.400881    万科   28.731847   1.8437  -5.9010\n",
       "96     Topic5   38.016316    五大   49.264485   1.8334  -5.3721\n",
       "687    Topic5   43.223221    环比   56.804938   1.8194  -5.2437\n",
       "952    Topic5  274.177854    银行  441.700730   1.6157  -3.3963\n",
       "294    Topic5  242.520427    同比  391.707585   1.6132  -3.5190\n",
       "934    Topic5   41.626007    部门   56.950034   1.7792  -5.2813\n",
       "709    Topic5   64.220921   百分点   95.195801   1.6990  -4.8477\n",
       "344    Topic5  232.608272    增长  466.090882   1.3976  -3.5607\n",
       "38     Topic5   70.860028    下降  117.100409   1.5903  -4.7494\n",
       "15     Topic5   40.008177   万亿元   57.043935   1.7379  -5.3210\n",
       "337    Topic5   97.031568    增加  215.184305   1.2961  -4.4350\n",
       "342    Topic5   79.481676    增速  168.782916   1.3395  -4.6345\n",
       "332    Topic5   65.741925    城市  135.830726   1.3669  -4.8243\n",
       "204    Topic5   94.650636   净利润  254.916638   1.1019  -4.4599\n",
       "246    Topic5   41.993595    化学   69.613635   1.5872  -5.2726\n",
       "974    Topic5   87.815284    项目  271.085028   0.9654  -4.5348\n",
       "122    Topic5  131.432925    企业  638.551834   0.5119  -4.1316\n",
       "885    Topic5   62.543236    资产  178.556023   1.0436  -4.8742\n",
       "22     Topic5   45.060261    上升   81.788929   1.4965  -5.2021\n",
       "534    Topic5   55.263947    收入  148.020344   1.1074  -4.9979\n",
       "47     Topic5   70.212532    业务  352.004202   0.4805  -4.7585\n",
       "26     Topic5   63.741986    上市  269.377165   0.6513  -4.8552\n",
       "546    Topic5   49.080490    政策  146.124839   1.0016  -5.1166\n",
       "788    Topic5   67.819045    股份  779.272786  -0.3489  -4.7932\n",
       "821    Topic5   60.229460    行业  420.845521   0.1485  -4.9119\n",
       "761    Topic5   54.241143    经济  255.723947   0.5419  -5.0166\n",
       "409    Topic5   60.053244    市场  799.561466  -0.4962  -4.9148\n",
       "847    Topic5   51.338486    记者  223.536652   0.6215  -5.0716\n",
       "835    Topic5   49.799943    规模  195.435664   0.7254  -5.1021\n",
       "\n",
       "[330 rows x 6 columns], token_table=      Topic      Freq  Term\n",
       "term                       \n",
       "0         1  0.008885    a股\n",
       "0         2  0.515335    a股\n",
       "0         3  0.337633    a股\n",
       "0         4  0.056272    a股\n",
       "0         5  0.079966    a股\n",
       "1         2  0.066574   ipo\n",
       "1         3  0.923721   ipo\n",
       "2         1  0.866366    it\n",
       "2         2  0.129033    it\n",
       "3         4  0.995329   mlf\n",
       "4         2  0.984821  msci\n",
       "6         2  0.024694   ppp\n",
       "6         3  0.024694   ppp\n",
       "6         5  0.938365   ppp\n",
       "7         2  0.991743  qfii\n",
       "9         1  0.085680   一季度\n",
       "9         2  0.708286   一季度\n",
       "9         4  0.199919   一季度\n",
       "9         5  0.005712   一季度\n",
       "15        2  0.262955   万亿元\n",
       "15        4  0.017530   万亿元\n",
       "15        5  0.701214   万亿元\n",
       "16        3  0.208828    万科\n",
       "16        5  0.765701    万科\n",
       "22        1  0.110039    上升\n",
       "22        2  0.146719    上升\n",
       "22        3  0.024453    上升\n",
       "22        4  0.171172    上升\n",
       "22        5  0.550197    上升\n",
       "24        1  0.023447    上周\n",
       "...     ...       ...   ...\n",
       "968       1  0.942165    零售\n",
       "968       2  0.029443    零售\n",
       "969       1  0.939434   零部件\n",
       "969       2  0.039143   零部件\n",
       "971       1  0.027476    震荡\n",
       "971       2  0.934189    震荡\n",
       "971       3  0.054952    震荡\n",
       "972       1  0.956387    青岛\n",
       "972       2  0.041582    青岛\n",
       "974       1  0.118044    项目\n",
       "974       2  0.014756    项目\n",
       "974       3  0.501688    项目\n",
       "974       4  0.044267    项目\n",
       "974       5  0.324621    项目\n",
       "975       2  0.975018    预告\n",
       "978       5  0.958100    预算\n",
       "981       1  0.901275    领域\n",
       "981       2  0.047160    领域\n",
       "981       3  0.031440    领域\n",
       "981       4  0.005240    领域\n",
       "981       5  0.010480    领域\n",
       "982       1  0.292544    风险\n",
       "982       2  0.130020    风险\n",
       "982       3  0.032505    风险\n",
       "982       4  0.498408    风险\n",
       "982       5  0.043340    风险\n",
       "983       1  0.952755    飞机\n",
       "983       3  0.035287    飞机\n",
       "985       2  0.974059  食品饮料\n",
       "999       3  0.978177   龙虎榜\n",
       "\n",
       "[712 rows x 3 columns], R=30, lambda_step=0.01, plot_opts={'xlab': 'PC1', 'ylab': 'PC2'}, topic_order=[5, 4, 1, 3, 2])"
      ]
     },
     "execution_count": 38,
     "metadata": {},
     "output_type": "execute_result"
    }
   ],
   "source": [
    "import pyLDAvis\n",
    "import pyLDAvis.sklearn\n",
    "pyLDAvis.enable_notebook()\n",
    "pyLDAvis.sklearn.prepare(lda, tf, tf_vectorizer)"
   ]
  },
  {
   "cell_type": "code",
   "execution_count": 39,
   "metadata": {},
   "outputs": [
    {
     "name": "stderr",
     "output_type": "stream",
     "text": [
      "D:\\Anaconda3\\lib\\site-packages\\pyLDAvis\\_prepare.py:387: DeprecationWarning: \n",
      ".ix is deprecated. Please use\n",
      ".loc for label based indexing or\n",
      ".iloc for positional indexing\n",
      "\n",
      "See the documentation here:\n",
      "http://pandas.pydata.org/pandas-docs/stable/indexing.html#ix-indexer-is-deprecated\n",
      "  topic_term_dists = topic_term_dists.ix[topic_order]\n"
     ]
    },
    {
     "name": "stdout",
     "output_type": "stream",
     "text": [
      "\n",
      "Note: if you're in the IPython notebook, pyLDAvis.show() is not the best command\n",
      "      to use. Consider using pyLDAvis.display(), or pyLDAvis.enable_notebook().\n",
      "      See more information at http://pyLDAvis.github.io/quickstart.html .\n",
      "\n",
      "You must interrupt the kernel to end this command\n",
      "\n",
      "Serving to http://127.0.0.1:8889/    [Ctrl-C to exit]\n"
     ]
    },
    {
     "name": "stderr",
     "output_type": "stream",
     "text": [
      "127.0.0.1 - - [28/May/2018 21:41:02] \"GET / HTTP/1.1\" 200 -\n",
      "127.0.0.1 - - [28/May/2018 21:41:03] \"GET /LDAvis.css HTTP/1.1\" 200 -\n",
      "127.0.0.1 - - [28/May/2018 21:41:03] \"GET /d3.js HTTP/1.1\" 200 -\n",
      "127.0.0.1 - - [28/May/2018 21:41:03] \"GET /LDAvis.js HTTP/1.1\" 200 -\n"
     ]
    },
    {
     "name": "stdout",
     "output_type": "stream",
     "text": [
      "\n",
      "stopping Server...\n"
     ]
    }
   ],
   "source": [
    "data = pyLDAvis.sklearn.prepare(lda, tf, tf_vectorizer)\n",
    "pyLDAvis.show(data)"
   ]
  },
  {
   "cell_type": "code",
   "execution_count": 40,
   "metadata": {
    "scrolled": true
   },
   "outputs": [
    {
     "name": "stderr",
     "output_type": "stream",
     "text": [
      "D:\\Anaconda3\\lib\\site-packages\\sklearn\\decomposition\\online_lda.py:294: DeprecationWarning: n_topics has been renamed to n_components in version 0.19 and will be removed in 0.21\n",
      "  DeprecationWarning)\n"
     ]
    },
    {
     "name": "stdout",
     "output_type": "stream",
     "text": [
      "Topic #0:\n",
      "富士康 发行 股份 战略 投资者 年度 工业 市场 投资 公告 上市 配售 项目 召开 股东大会 披露 ipo 锁定 金额 资金\n",
      "Topic #1:\n",
      "银行 同比 增长 减少 营收 调控 增速 股份 净利润 百分点 楼市 城市 住房 房地产 下降 资产 增加 环比 上市 政策\n",
      "Topic #2:\n",
      "流动性 货币政策 企业 降准 mlf 资金 外汇 央行 增加 金融 我国 银行 工具 融资 人民币 存款 经济 金融机构 货币 利率\n",
      "Topic #3:\n",
      "个股 基金 股份 调研 购买 科技 机构 电子 业绩 数据 开户 证券日报 私募 市场 同比 净利润 增长 独角兽 涨幅 概念股\n",
      "Topic #4:\n",
      "平安 科技 智慧 区块 金融 技术 平台 中国 服务 合作 医疗 管理 城市 智能 数据 客户 应用 业务 战略 创新\n",
      "Topic #5:\n",
      "企业 中国 发展 行业 市场 产能 增长 业务 煤炭 国内 产品 项目 经济 集团 领域 投资 国家 汽车 交易 持续\n",
      "Topic #6:\n",
      "中国 资金 上市公司 披露 外资 上海 信息 qfii 投资者 监管 银行 持股 投资 a股 券商 证券 市场 机构 购买 泰国\n",
      "Topic #7:\n",
      "投资 成长 当时 过程 周刊 管理 pe 资本 团队 中国 杠杆 估值 利率 上市 企业 银行业 理念 股价 投资者 比较\n",
      "Topic #8:\n",
      "解禁 股份 市值 持有 富联 苹果 沪市 工业 控股 本周 股东 深市 亿股 股权 融资 a股 管理 净利润 科技 合并\n",
      "Topic #9:\n",
      "板块 市场 a股 资金 估值 证券 指数 行业 创业板 msci 调整 个股 涨幅 行情 预期 医药 反弹 震荡 相对 概念\n",
      "\n"
     ]
    },
    {
     "name": "stderr",
     "output_type": "stream",
     "text": [
      "D:\\Anaconda3\\lib\\site-packages\\pyLDAvis\\_prepare.py:387: DeprecationWarning: \n",
      ".ix is deprecated. Please use\n",
      ".loc for label based indexing or\n",
      ".iloc for positional indexing\n",
      "\n",
      "See the documentation here:\n",
      "http://pandas.pydata.org/pandas-docs/stable/indexing.html#ix-indexer-is-deprecated\n",
      "  topic_term_dists = topic_term_dists.ix[topic_order]\n",
      "D:\\Anaconda3\\lib\\site-packages\\pyLDAvis\\_prepare.py:387: DeprecationWarning: \n",
      ".ix is deprecated. Please use\n",
      ".loc for label based indexing or\n",
      ".iloc for positional indexing\n",
      "\n",
      "See the documentation here:\n",
      "http://pandas.pydata.org/pandas-docs/stable/indexing.html#ix-indexer-is-deprecated\n",
      "  topic_term_dists = topic_term_dists.ix[topic_order]\n"
     ]
    },
    {
     "name": "stdout",
     "output_type": "stream",
     "text": [
      "\n",
      "Note: if you're in the IPython notebook, pyLDAvis.show() is not the best command\n",
      "      to use. Consider using pyLDAvis.display(), or pyLDAvis.enable_notebook().\n",
      "      See more information at http://pyLDAvis.github.io/quickstart.html .\n",
      "\n",
      "You must interrupt the kernel to end this command\n",
      "\n",
      "Serving to http://127.0.0.1:8889/    [Ctrl-C to exit]\n"
     ]
    },
    {
     "name": "stderr",
     "output_type": "stream",
     "text": [
      "127.0.0.1 - - [28/May/2018 21:41:45] \"GET / HTTP/1.1\" 200 -\n",
      "127.0.0.1 - - [28/May/2018 21:41:45] \"GET /LDAvis.css HTTP/1.1\" 200 -\n",
      "127.0.0.1 - - [28/May/2018 21:41:46] \"GET /d3.js HTTP/1.1\" 200 -\n",
      "127.0.0.1 - - [28/May/2018 21:41:46] \"GET /LDAvis.js HTTP/1.1\" 200 -\n"
     ]
    },
    {
     "name": "stdout",
     "output_type": "stream",
     "text": [
      "\n",
      "stopping Server...\n"
     ]
    }
   ],
   "source": [
    "n_topics = 10\n",
    "lda = LatentDirichletAllocation(n_topics=n_topics,\n",
    "                               max_iter=50,\n",
    "                               learning_method='online',\n",
    "                               learning_offset=50.,\n",
    "                               random_state=0)\n",
    "lda.fit(tf)\n",
    "print_top_words(lda, tf_feature_names, n_top_words)\n",
    "pyLDAvis.sklearn.prepare(lda, tf, tf_vectorizer)\n",
    "\n",
    "data = pyLDAvis.sklearn.prepare(lda, tf, tf_vectorizer)\n",
    "pyLDAvis.show(data)"
   ]
  },
  {
   "cell_type": "code",
   "execution_count": 51,
   "metadata": {},
   "outputs": [
    {
     "name": "stderr",
     "output_type": "stream",
     "text": [
      "D:\\Anaconda3\\lib\\site-packages\\sklearn\\decomposition\\online_lda.py:294: DeprecationWarning: n_topics has been renamed to n_components in version 0.19 and will be removed in 0.21\n",
      "  DeprecationWarning)\n"
     ]
    },
    {
     "name": "stdout",
     "output_type": "stream",
     "text": [
      "Topic #0:\n",
      "证券时报 金额 连续 万科 成交 中国 大涨 供应商 交易日 交易 本周 高开 国务院 富士康 年度 董事长 战略 发行 股份 股价\n",
      "Topic #1:\n",
      "负责 团队 介绍 金额 老板 销售 两年 全国 世纪 巨大 之间 报道 采取 负债 江苏 确认 组织 当时 工厂 经济\n",
      "Topic #2:\n",
      "美元 美国 投资 记者 过程 飞机 当时 周刊 设备 团队 下降 左右 理念 收益率 造成 银行业 保险业 操作 航空 利率\n",
      "Topic #3:\n",
      "监管 会议 整治 乱象 银行业 习近平 主席 深化 市场 保监会 委员会 坚持 保险业 促进 发展 举措 各项 中央 落实 保险\n",
      "Topic #4:\n",
      "科技 主力 平台 数据 信息 平安 资金 管理 服务 证券时报 概念 全国 股份 流出 营业部 个股 板块 中兴 手机 激励\n",
      "Topic #5:\n",
      "中国 企业 市场 发展 行业 增长 城市 业务 国内 调控 楼市 技术 产品 政策 领域 房地产 全球 住房 投资 研发\n",
      "Topic #6:\n",
      "中国 上海 外汇 人民币 外资 企业 qfii 银行 资金 a股 市场 汇率 证券 泰国 汇兑 投资 保险 买入 设立 扩大\n",
      "Topic #7:\n",
      "高开 动力 商品 期货 投资 汽车 测试 中国 周刊 企业 我国 增长 当时 美国 富士康 理念 过程 市场 经济 发展\n",
      "Topic #8:\n",
      "股份 汽车 解禁 新能源 集团 东风汽车 市值 科技 st 标的 能源 本周 乘用车 补贴 证券时报 零部件 控股 环保 电子 副总经理\n",
      "Topic #9:\n",
      "板块 市场 a股 估值 资金 行业 指数 创业板 msci 调整 行情 预期 涨幅 个股 反弹 业绩 证券 震荡 医药 相对\n",
      "Topic #10:\n",
      "清理 部门 文件 意见 通知 制度 经济 国务院 加强 涉及 规定 保护 法律 制定 措施 开展 完善 国家 组织 发展\n",
      "Topic #11:\n",
      "富士康 发行 战略 市场 工业 投资者 股份 配售 上市 投资 ipo 锁定 a股 资金 金额 披露 互联网 项目 企业 股票\n",
      "Topic #12:\n",
      "增长 同比 资管 管理 收入 规模 光电 支出 预算 生态 国盛 券商 计划 全国 基金 资产 万亿元 社保 证券 出口\n",
      "Topic #13:\n",
      "平安 科技 智慧 医疗 区块 平台 金融 技术 服务 it 领域 信息化 中国 软件 应用 数据 客户 信息 城市 智能\n",
      "Topic #14:\n",
      "券商 业务 养老 合资 摩根 外资 计划 持股 大通 创新 机构 龙头 证券 管理 新华 云网 计算 比例 申请 中国\n",
      "Topic #15:\n",
      "个股 基金 购买 调研 股份 科技 机构 业绩 电子 数据 开户 私募 证券日报 上市公司 同比 净利润 增长 资金 涨幅 市场\n",
      "Topic #16:\n",
      "货币政策 流动性 降准 mlf 央行 资金 我国 存款 金融 利率 货币 金融机构 保持 融资 准备金率 经济 工具 市场 美国 稳定\n",
      "Topic #17:\n",
      "产能 煤炭 企业 价格 租赁 退出 交易 经济 进口 供应 需求 因素 同比 部门 行业 亏损 指标 记者 融资 了解\n",
      "Topic #18:\n",
      "年度 公告 股东大会 召开 股份 项目 控股 集团 投资 股东 股权 有限公司 分红 转增 子公司 合作 协议 收入 科技 交易\n",
      "Topic #19:\n",
      "银行 企业 同比 减少 上市公司 披露 增长 股份 增加 资产 员工 营收 净利润 信息 上市 投资者 债务 业务 增速 记者\n",
      "\n"
     ]
    },
    {
     "name": "stderr",
     "output_type": "stream",
     "text": [
      "D:\\Anaconda3\\lib\\site-packages\\pyLDAvis\\_prepare.py:387: DeprecationWarning: \n",
      ".ix is deprecated. Please use\n",
      ".loc for label based indexing or\n",
      ".iloc for positional indexing\n",
      "\n",
      "See the documentation here:\n",
      "http://pandas.pydata.org/pandas-docs/stable/indexing.html#ix-indexer-is-deprecated\n",
      "  topic_term_dists = topic_term_dists.ix[topic_order]\n",
      "D:\\Anaconda3\\lib\\site-packages\\pyLDAvis\\_prepare.py:387: DeprecationWarning: \n",
      ".ix is deprecated. Please use\n",
      ".loc for label based indexing or\n",
      ".iloc for positional indexing\n",
      "\n",
      "See the documentation here:\n",
      "http://pandas.pydata.org/pandas-docs/stable/indexing.html#ix-indexer-is-deprecated\n",
      "  topic_term_dists = topic_term_dists.ix[topic_order]\n"
     ]
    },
    {
     "name": "stdout",
     "output_type": "stream",
     "text": [
      "\n",
      "Note: if you're in the IPython notebook, pyLDAvis.show() is not the best command\n",
      "      to use. Consider using pyLDAvis.display(), or pyLDAvis.enable_notebook().\n",
      "      See more information at http://pyLDAvis.github.io/quickstart.html .\n",
      "\n",
      "You must interrupt the kernel to end this command\n",
      "\n",
      "Serving to http://127.0.0.1:8889/    [Ctrl-C to exit]\n"
     ]
    },
    {
     "name": "stderr",
     "output_type": "stream",
     "text": [
      "127.0.0.1 - - [28/May/2018 21:21:35] \"GET / HTTP/1.1\" 200 -\n",
      "127.0.0.1 - - [28/May/2018 21:21:35] \"GET /LDAvis.css HTTP/1.1\" 200 -\n",
      "127.0.0.1 - - [28/May/2018 21:21:36] \"GET /d3.js HTTP/1.1\" 200 -\n",
      "127.0.0.1 - - [28/May/2018 21:21:36] \"GET /LDAvis.js HTTP/1.1\" 200 -\n"
     ]
    },
    {
     "name": "stdout",
     "output_type": "stream",
     "text": [
      "\n",
      "stopping Server...\n"
     ]
    }
   ],
   "source": [
    "n_topics = 20\n",
    "lda = LatentDirichletAllocation(n_topics=n_topics,\n",
    "                               max_iter=50,\n",
    "                               learning_method='online',\n",
    "                               learning_offset=50.,\n",
    "                               random_state=0)\n",
    "lda.fit(tf)\n",
    "print_top_words(lda, tf_feature_names, n_top_words)\n",
    "pyLDAvis.sklearn.prepare(lda, tf, tf_vectorizer)\n",
    "\n",
    "data = pyLDAvis.sklearn.prepare(lda, tf, tf_vectorizer)\n",
    "pyLDAvis.show(data)"
   ]
  },
  {
   "cell_type": "code",
   "execution_count": 50,
   "metadata": {},
   "outputs": [
    {
     "name": "stderr",
     "output_type": "stream",
     "text": [
      "D:\\Anaconda3\\lib\\site-packages\\sklearn\\decomposition\\online_lda.py:294: DeprecationWarning: n_topics has been renamed to n_components in version 0.19 and will be removed in 0.21\n",
      "  DeprecationWarning)\n"
     ]
    },
    {
     "name": "stdout",
     "output_type": "stream",
     "text": [
      "Topic #0:\n",
      "万股 沪市 ppp 项目 金额 中信证券 成交 卖出 证券 个股 交易 北京 中国 市场 当天 生态 电器 主力 上海 政府\n",
      "Topic #1:\n",
      "富士康 发行 投资者 战略 金额 市场 智能 投资 相比 程度 罚单 初始 升级 运算 亿股 工业 操纵 项目 制造 债务\n",
      "Topic #2:\n",
      "中国 技术 特斯拉 市场 平安 工业 股份 上海 合作 企业 汽车 合资 存款 有限公司 投资 银行 科技 开放 服务 经济\n",
      "Topic #3:\n",
      "投资 股东 股价 收购 资本 交易 挂牌 三板 罚款 当时 周刊 金额 罚单 pe 过程 估值 销售 操纵 投资者 上市公司\n",
      "Topic #4:\n",
      "中国 发展 外资 上海 市场 泰国 扩大 设立 集团 国家 企业 机构 投资 管理 创新 业务 全球 对外开放 我国 经济\n",
      "Topic #5:\n",
      "市场 a股 资金 qfii 板块 指数 估值 msci 行业 购买 一季度 个股 中国 银行 创业板 医药 配置 市值 持仓 调整\n",
      "Topic #6:\n",
      "年度 召开 股东大会 公告 特斯拉 股份 保险 汽车 转增 上海 有限公司 分红 养老 业务 中国 发放 注册资本 收到 新华 投资\n",
      "Topic #7:\n",
      "年度 高开 股东大会 公告 手机 召开 货币政策 行业 转增 迎来 整合 蓝筹 合作 股指 转型 股份 维持 首席 证券报 创业板\n",
      "Topic #8:\n",
      "行业 增长 板块 预期 龙头 业绩 增速 领域 提升 估值 价格 持续 新能源 景气 标的 推荐 市场 医疗 需求 汽车\n",
      "Topic #9:\n",
      "中国 泰国 券商 a股 证券时报 指出 旅游 监管 大幅 公募 机构 期货 库存 因素 报道 使用 研发 迎来 新兴 升级\n",
      "Topic #10:\n",
      "董事长 云网 st 担任 调查 上市公司 实际 股东 债务 公告 董事会 控制 投资者 信息 中科 股权 深交所 转让 资料 之后\n",
      "Topic #11:\n",
      "流动性 货币政策 降准 mlf 央行 资金 我国 金融 存款 工具 货币 利率 金融机构 保持 准备金率 经济 美国 市场化 资管 市场\n",
      "Topic #12:\n",
      "信息 管理 社会 全国 平台 服务 从事 数据 公开 建筑 建立 获得 办法 统一 日前 各类 变动 进入 状态 安全\n",
      "Topic #13:\n",
      "平安 科技 技术 智慧 服务 区块 客户 金融 业务 应用 平台 城市 发展 中国 智能 市场 产品 数据 合作 领域\n",
      "Topic #14:\n",
      "测试 汽车 政策 助力 智能 联网 产业链 系统 获得 代表 主体 科技 通信 证券时报 龙头 迎来 发展 中心 集团 领域\n",
      "Topic #15:\n",
      "富士康 发行 市场 股份 战略 工业 投资者 投资 配售 科技 概念股 上市 独角兽 个股 ipo 资金 电子 锁定 a股 披露\n",
      "Topic #16:\n",
      "增长 出口 进出口 进口 跨境 一路 同期 全国 百分点 机械设备 贸易 金融市场 系统 涨停 股本 对应 机电 各项 过会 此前\n",
      "Topic #17:\n",
      "证券 买入 卖出 股份 营业部 个股 上海 金额 数据 龙虎榜 涨停 机构 药业 当日 当天 交易日 均线 游资 中信证券 连续\n",
      "Topic #18:\n",
      "股份 科技 集团 证券时报 电子 化工 个股 通信 st 主力 证券 资金 传媒 生物 中国 共有 下降 计算机 代码 建筑\n",
      "Topic #19:\n",
      "项目 房企 企业 ppp 周转 记者 环保 控股 证券日报 集团 生态 股份 行业 公告 管理 万科 模式 资金 发展 规模\n",
      "Topic #20:\n",
      "企业 研发 本土 品牌 市场 渠道 高端 提升 能力 提高 覆盖 发展 成本 增长 竞争 产品 上升 国产 国际 消费\n",
      "Topic #21:\n",
      "银行 同比 增长 减少 增加 员工 营收 增速 百分点 下降 净利润 股份 资产 人数 上市 五大 收入 业务 经济 年末\n",
      "Topic #22:\n",
      "券商 a股 板块 召开 证券 年度 市场 资金 项目 行业 st 创新 股东大会 msci 业务 指数 工业 股份 发行 基金\n",
      "Topic #23:\n",
      "品牌 青岛 全国 城市 质量 山东 企业 工业 收购 战略 坚持 经历 工厂 记者 海外 拥有 营销 产品 实施 时代\n",
      "Topic #24:\n",
      "融资 租赁 监管 行业 企业 保监会 市场 余额 金融 杠杆 每日 金融机构 新闻 未来 业内人士 商业 北京 万科 管理 中国\n",
      "Topic #25:\n",
      "券商 龙头 业务 板块 行业 中信证券 创新 管理 金融 主动 逻辑 贷款 增量 入摩 资本 日前 华泰 证券公司 普遍 指出\n",
      "Topic #26:\n",
      "产能 企业 江苏 焦化 区域 供应 产量 需求 地区 政策 加快 面临 年底 处于 调整 资源 事件 下滑 行业 全国\n",
      "Topic #27:\n",
      "证券时报 特斯拉 视网 中国 上海 供应商 大涨 增资 持有 高开 股权 工厂 比例 电池 本周 国务院 状态 文件 涨停 统计\n",
      "Topic #28:\n",
      "债务 投资者 上市公司 贾跃亭 视网 解禁 解决 先生 资金 感谢您 披露 股权 资产 经营 业务 增资 积极 年度 意见 关联方\n",
      "Topic #29:\n",
      "年度 富士康 股东大会 召开 股份 发行 市场 科技 金额 分红 公告 富联 投资 投资者 申购 a股 市值 披露 持有 管理\n",
      "Topic #30:\n",
      "主力 资金 科技 板块 概念 流出 发行 股份 数据 期限 计算 地产 市场 中信 激励 股权 融资 品种 净流入 增长\n",
      "Topic #31:\n",
      "机构 净利 股票 家数 清理 预测 增速 科技 部门 国务院 同比 股份 市盈率 个股 低于 文件 检测 制定 涨幅 增长\n",
      "Topic #32:\n",
      "资金 净流入 尾盘 个股 流出 股份 行业 全天 银行 主力 涨幅 股价 中国 收盘 化工 下跌 投资 两市 所属 平安\n",
      "Topic #33:\n",
      "基金 企业 调研 上市公司 购买 个股 净利润 业绩 开户 私募 披露 证券日报 数据 煤炭 同比 持有 行业 股份 市场 记者\n",
      "Topic #34:\n",
      "记者 发行 左右 飞机 下降 压力 工业 设备 体现 操作 零售 发行人 最为 过程 当时 成本 考虑 全资 山东 相比\n",
      "Topic #35:\n",
      "个股 大盘 计划 创业板 短期 回落 证券时报 均线 科技 机构 员工 卖出 市场 持股 买入 指标 有限 临近 当日 压力\n",
      "Topic #36:\n",
      "高开 动力 商品 期货 意见 审计报告 两年 上市 证券时报 采取 规则 措施 连续 规定 决定 视网 年度 创业板 深交所 股票\n",
      "Topic #37:\n",
      "记者 美国 飞机 中兴 设备 下降 阶段 造成 成功 左右 过程 原因 当时 速度 成都 航空 商报 提供 考虑 操作\n",
      "Topic #38:\n",
      "调控 住房 楼市 城市 房地产 政策 房价 发布 环比 违规 公积金 力度 负责人 涨幅 海南 市场 北京 项目 全国 政府\n",
      "Topic #39:\n",
      "抖音 视频 合作 腾讯 传媒 平台 门店 下载量 头条 引力 用户 应用 互动 市场 零售 数据 内容 达成 媒体 关系\n",
      "\n"
     ]
    },
    {
     "name": "stderr",
     "output_type": "stream",
     "text": [
      "D:\\Anaconda3\\lib\\site-packages\\pyLDAvis\\_prepare.py:387: DeprecationWarning: \n",
      ".ix is deprecated. Please use\n",
      ".loc for label based indexing or\n",
      ".iloc for positional indexing\n",
      "\n",
      "See the documentation here:\n",
      "http://pandas.pydata.org/pandas-docs/stable/indexing.html#ix-indexer-is-deprecated\n",
      "  topic_term_dists = topic_term_dists.ix[topic_order]\n",
      "D:\\Anaconda3\\lib\\site-packages\\pyLDAvis\\_prepare.py:387: DeprecationWarning: \n",
      ".ix is deprecated. Please use\n",
      ".loc for label based indexing or\n",
      ".iloc for positional indexing\n",
      "\n",
      "See the documentation here:\n",
      "http://pandas.pydata.org/pandas-docs/stable/indexing.html#ix-indexer-is-deprecated\n",
      "  topic_term_dists = topic_term_dists.ix[topic_order]\n"
     ]
    },
    {
     "name": "stdout",
     "output_type": "stream",
     "text": [
      "\n",
      "Note: if you're in the IPython notebook, pyLDAvis.show() is not the best command\n",
      "      to use. Consider using pyLDAvis.display(), or pyLDAvis.enable_notebook().\n",
      "      See more information at http://pyLDAvis.github.io/quickstart.html .\n",
      "\n",
      "You must interrupt the kernel to end this command\n",
      "\n",
      "Serving to http://127.0.0.1:8889/    [Ctrl-C to exit]\n"
     ]
    },
    {
     "name": "stderr",
     "output_type": "stream",
     "text": [
      "127.0.0.1 - - [28/May/2018 08:44:21] \"GET / HTTP/1.1\" 200 -\n",
      "127.0.0.1 - - [28/May/2018 08:44:21] \"GET /LDAvis.css HTTP/1.1\" 200 -\n",
      "127.0.0.1 - - [28/May/2018 08:44:21] \"GET /d3.js HTTP/1.1\" 200 -\n",
      "127.0.0.1 - - [28/May/2018 08:44:21] \"GET /LDAvis.js HTTP/1.1\" 200 -\n"
     ]
    },
    {
     "name": "stdout",
     "output_type": "stream",
     "text": [
      "\n",
      "stopping Server...\n"
     ]
    }
   ],
   "source": [
    "n_topics = 40\n",
    "lda = LatentDirichletAllocation(n_topics=n_topics,\n",
    "                               max_iter=50,\n",
    "                               learning_method='online',\n",
    "                               learning_offset=50.,\n",
    "                               random_state=0)\n",
    "lda.fit(tf)\n",
    "print_top_words(lda, tf_feature_names, n_top_words)\n",
    "pyLDAvis.sklearn.prepare(lda, tf, tf_vectorizer)\n",
    "\n",
    "data = pyLDAvis.sklearn.prepare(lda, tf, tf_vectorizer)\n",
    "pyLDAvis.show(data)"
   ]
  },
  {
   "cell_type": "code",
   "execution_count": null,
   "metadata": {},
   "outputs": [],
   "source": []
  }
 ],
 "metadata": {
  "kernelspec": {
   "display_name": "Python 3",
   "language": "python",
   "name": "python3"
  },
  "language_info": {
   "codemirror_mode": {
    "name": "ipython",
    "version": 3
   },
   "file_extension": ".py",
   "mimetype": "text/x-python",
   "name": "python",
   "nbconvert_exporter": "python",
   "pygments_lexer": "ipython3",
   "version": "3.6.4"
  }
 },
 "nbformat": 4,
 "nbformat_minor": 2
}
